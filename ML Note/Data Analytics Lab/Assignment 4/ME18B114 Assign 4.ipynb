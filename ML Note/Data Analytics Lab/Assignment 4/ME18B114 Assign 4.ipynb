{
 "cells": [
  {
   "cell_type": "markdown",
   "id": "a5671248",
   "metadata": {},
   "source": [
    "# Assignment 4: Decision Trees Classifier"
   ]
  },
  {
   "cell_type": "markdown",
   "id": "5a54d553",
   "metadata": {},
   "source": [
    "## Prajwal Dinesh Sahu\n",
    "## ME18B114"
   ]
  },
  {
   "cell_type": "markdown",
   "id": "8951a413",
   "metadata": {},
   "source": [
    "The Car Evaluation Database was derived from a simple hierarchical decision model. The\n",
    "prediction task is to classify a car based on its safety.\n",
    "\n",
    "The variables"
   ]
  },
  {
   "cell_type": "markdown",
   "id": "46acce0a",
   "metadata": {},
   "source": [
    "`buying ` - Buying price\n",
    "\n",
    "`maintenance` - Price of the maintenance\n",
    "\n",
    "`doors` - Number of doors\n",
    "\n",
    "`persons` - Capacity in terms of persons to\n",
    "carry\n",
    "\n",
    "`lug_boot`- The size of luggage boot\n",
    "\n",
    "`safety ` - Estimated safety of the car\n",
    "\n",
    "`Target` - Target variable to predict"
   ]
  },
  {
   "cell_type": "markdown",
   "id": "cb0f3b30",
   "metadata": {},
   "source": [
    "### Importing Libraries and dataset"
   ]
  },
  {
   "cell_type": "code",
   "execution_count": 2,
   "id": "3023a38d",
   "metadata": {},
   "outputs": [],
   "source": [
    "import pandas as pd\n",
    "import numpy as np\n",
    "import seaborn as sns\n",
    "%matplotlib inline\n",
    "import matplotlib.pyplot as plt"
   ]
  },
  {
   "cell_type": "code",
   "execution_count": 3,
   "id": "22765857",
   "metadata": {},
   "outputs": [],
   "source": [
    "df = pd.read_csv('car_evaluation.csv')"
   ]
  },
  {
   "cell_type": "code",
   "execution_count": 4,
   "id": "37d20448",
   "metadata": {},
   "outputs": [
    {
     "data": {
      "text/html": [
       "<div>\n",
       "<style scoped>\n",
       "    .dataframe tbody tr th:only-of-type {\n",
       "        vertical-align: middle;\n",
       "    }\n",
       "\n",
       "    .dataframe tbody tr th {\n",
       "        vertical-align: top;\n",
       "    }\n",
       "\n",
       "    .dataframe thead th {\n",
       "        text-align: right;\n",
       "    }\n",
       "</style>\n",
       "<table border=\"1\" class=\"dataframe\">\n",
       "  <thead>\n",
       "    <tr style=\"text-align: right;\">\n",
       "      <th></th>\n",
       "      <th>Buying</th>\n",
       "      <th>Maintenance</th>\n",
       "      <th>Doors</th>\n",
       "      <th>Persons</th>\n",
       "      <th>Lug_boot</th>\n",
       "      <th>Safety</th>\n",
       "      <th>Target</th>\n",
       "    </tr>\n",
       "  </thead>\n",
       "  <tbody>\n",
       "    <tr>\n",
       "      <th>0</th>\n",
       "      <td>vhigh</td>\n",
       "      <td>vhigh</td>\n",
       "      <td>2</td>\n",
       "      <td>2</td>\n",
       "      <td>small</td>\n",
       "      <td>med</td>\n",
       "      <td>unacc</td>\n",
       "    </tr>\n",
       "    <tr>\n",
       "      <th>1</th>\n",
       "      <td>vhigh</td>\n",
       "      <td>vhigh</td>\n",
       "      <td>2</td>\n",
       "      <td>2</td>\n",
       "      <td>small</td>\n",
       "      <td>high</td>\n",
       "      <td>unacc</td>\n",
       "    </tr>\n",
       "    <tr>\n",
       "      <th>2</th>\n",
       "      <td>vhigh</td>\n",
       "      <td>vhigh</td>\n",
       "      <td>2</td>\n",
       "      <td>2</td>\n",
       "      <td>med</td>\n",
       "      <td>low</td>\n",
       "      <td>unacc</td>\n",
       "    </tr>\n",
       "    <tr>\n",
       "      <th>3</th>\n",
       "      <td>vhigh</td>\n",
       "      <td>vhigh</td>\n",
       "      <td>2</td>\n",
       "      <td>2</td>\n",
       "      <td>med</td>\n",
       "      <td>med</td>\n",
       "      <td>unacc</td>\n",
       "    </tr>\n",
       "    <tr>\n",
       "      <th>4</th>\n",
       "      <td>vhigh</td>\n",
       "      <td>vhigh</td>\n",
       "      <td>2</td>\n",
       "      <td>2</td>\n",
       "      <td>med</td>\n",
       "      <td>high</td>\n",
       "      <td>unacc</td>\n",
       "    </tr>\n",
       "    <tr>\n",
       "      <th>...</th>\n",
       "      <td>...</td>\n",
       "      <td>...</td>\n",
       "      <td>...</td>\n",
       "      <td>...</td>\n",
       "      <td>...</td>\n",
       "      <td>...</td>\n",
       "      <td>...</td>\n",
       "    </tr>\n",
       "    <tr>\n",
       "      <th>1722</th>\n",
       "      <td>low</td>\n",
       "      <td>low</td>\n",
       "      <td>5more</td>\n",
       "      <td>more</td>\n",
       "      <td>med</td>\n",
       "      <td>med</td>\n",
       "      <td>good</td>\n",
       "    </tr>\n",
       "    <tr>\n",
       "      <th>1723</th>\n",
       "      <td>low</td>\n",
       "      <td>low</td>\n",
       "      <td>5more</td>\n",
       "      <td>more</td>\n",
       "      <td>med</td>\n",
       "      <td>high</td>\n",
       "      <td>vgood</td>\n",
       "    </tr>\n",
       "    <tr>\n",
       "      <th>1724</th>\n",
       "      <td>low</td>\n",
       "      <td>low</td>\n",
       "      <td>5more</td>\n",
       "      <td>more</td>\n",
       "      <td>big</td>\n",
       "      <td>low</td>\n",
       "      <td>unacc</td>\n",
       "    </tr>\n",
       "    <tr>\n",
       "      <th>1725</th>\n",
       "      <td>low</td>\n",
       "      <td>low</td>\n",
       "      <td>5more</td>\n",
       "      <td>more</td>\n",
       "      <td>big</td>\n",
       "      <td>med</td>\n",
       "      <td>good</td>\n",
       "    </tr>\n",
       "    <tr>\n",
       "      <th>1726</th>\n",
       "      <td>low</td>\n",
       "      <td>low</td>\n",
       "      <td>5more</td>\n",
       "      <td>more</td>\n",
       "      <td>big</td>\n",
       "      <td>high</td>\n",
       "      <td>vgood</td>\n",
       "    </tr>\n",
       "  </tbody>\n",
       "</table>\n",
       "<p>1727 rows × 7 columns</p>\n",
       "</div>"
      ],
      "text/plain": [
       "     Buying Maintenance  Doors Persons Lug_boot Safety Target\n",
       "0     vhigh       vhigh      2       2    small    med  unacc\n",
       "1     vhigh       vhigh      2       2    small   high  unacc\n",
       "2     vhigh       vhigh      2       2      med    low  unacc\n",
       "3     vhigh       vhigh      2       2      med    med  unacc\n",
       "4     vhigh       vhigh      2       2      med   high  unacc\n",
       "...     ...         ...    ...     ...      ...    ...    ...\n",
       "1722    low         low  5more    more      med    med   good\n",
       "1723    low         low  5more    more      med   high  vgood\n",
       "1724    low         low  5more    more      big    low  unacc\n",
       "1725    low         low  5more    more      big    med   good\n",
       "1726    low         low  5more    more      big   high  vgood\n",
       "\n",
       "[1727 rows x 7 columns]"
      ]
     },
     "execution_count": 4,
     "metadata": {},
     "output_type": "execute_result"
    }
   ],
   "source": [
    "df.columns = ['Buying','Maintenance','Doors','Persons','Lug_boot','Safety','Target']\n",
    "df"
   ]
  },
  {
   "cell_type": "code",
   "execution_count": 5,
   "id": "5a3d53af",
   "metadata": {},
   "outputs": [
    {
     "data": {
      "text/plain": [
       "Index(['Buying', 'Maintenance', 'Doors', 'Persons', 'Lug_boot', 'Safety',\n",
       "       'Target'],\n",
       "      dtype='object')"
      ]
     },
     "execution_count": 5,
     "metadata": {},
     "output_type": "execute_result"
    }
   ],
   "source": [
    "df.columns"
   ]
  },
  {
   "cell_type": "markdown",
   "id": "08f13b66",
   "metadata": {},
   "source": [
    "### Target"
   ]
  },
  {
   "cell_type": "code",
   "execution_count": 6,
   "id": "67d56a75",
   "metadata": {},
   "outputs": [
    {
     "data": {
      "text/plain": [
       "unacc    1209\n",
       "acc       384\n",
       "good       69\n",
       "vgood      65\n",
       "Name: Target, dtype: int64"
      ]
     },
     "execution_count": 6,
     "metadata": {},
     "output_type": "execute_result"
    }
   ],
   "source": [
    "df.Target.value_counts()"
   ]
  },
  {
   "cell_type": "code",
   "execution_count": 7,
   "id": "82f93aec",
   "metadata": {},
   "outputs": [
    {
     "data": {
      "text/plain": [
       "<AxesSubplot:xlabel='Target', ylabel='count'>"
      ]
     },
     "execution_count": 7,
     "metadata": {},
     "output_type": "execute_result"
    },
    {
     "data": {
      "image/png": "[encoded data removed]",
      "text/plain": [
       "<Figure size 432x288 with 1 Axes>"
      ]
     },
     "metadata": {
      "needs_background": "light"
     },
     "output_type": "display_data"
    }
   ],
   "source": [
    "plt.figure(figsize=(6,4))\n",
    "sns.countplot(x='Target', data=df, palette = 'magma')"
   ]
  },
  {
   "cell_type": "code",
   "execution_count": 8,
   "id": "eb416877",
   "metadata": {},
   "outputs": [],
   "source": [
    "def f(x):\n",
    "    if x == 'unacc':\n",
    "        return 0\n",
    "    if x == 'acc':\n",
    "        return 1\n",
    "    if x == 'good':\n",
    "        return 2\n",
    "    else:\n",
    "        return 3"
   ]
  },
  {
   "cell_type": "code",
   "execution_count": 9,
   "id": "e0a363ff",
   "metadata": {},
   "outputs": [],
   "source": [
    "df['Target_num'] = df.Target.apply(lambda x: f(x))\n"
   ]
  },
  {
   "cell_type": "code",
   "execution_count": 10,
   "id": "bee87fe1",
   "metadata": {},
   "outputs": [
    {
     "data": {
      "text/html": [
       "<div>\n",
       "<style scoped>\n",
       "    .dataframe tbody tr th:only-of-type {\n",
       "        vertical-align: middle;\n",
       "    }\n",
       "\n",
       "    .dataframe tbody tr th {\n",
       "        vertical-align: top;\n",
       "    }\n",
       "\n",
       "    .dataframe thead th {\n",
       "        text-align: right;\n",
       "    }\n",
       "</style>\n",
       "<table border=\"1\" class=\"dataframe\">\n",
       "  <thead>\n",
       "    <tr style=\"text-align: right;\">\n",
       "      <th></th>\n",
       "      <th>Buying</th>\n",
       "      <th>Maintenance</th>\n",
       "      <th>Doors</th>\n",
       "      <th>Persons</th>\n",
       "      <th>Lug_boot</th>\n",
       "      <th>Safety</th>\n",
       "      <th>Target</th>\n",
       "      <th>Target_num</th>\n",
       "    </tr>\n",
       "  </thead>\n",
       "  <tbody>\n",
       "    <tr>\n",
       "      <th>0</th>\n",
       "      <td>vhigh</td>\n",
       "      <td>vhigh</td>\n",
       "      <td>2</td>\n",
       "      <td>2</td>\n",
       "      <td>small</td>\n",
       "      <td>med</td>\n",
       "      <td>unacc</td>\n",
       "      <td>0</td>\n",
       "    </tr>\n",
       "    <tr>\n",
       "      <th>1</th>\n",
       "      <td>vhigh</td>\n",
       "      <td>vhigh</td>\n",
       "      <td>2</td>\n",
       "      <td>2</td>\n",
       "      <td>small</td>\n",
       "      <td>high</td>\n",
       "      <td>unacc</td>\n",
       "      <td>0</td>\n",
       "    </tr>\n",
       "    <tr>\n",
       "      <th>2</th>\n",
       "      <td>vhigh</td>\n",
       "      <td>vhigh</td>\n",
       "      <td>2</td>\n",
       "      <td>2</td>\n",
       "      <td>med</td>\n",
       "      <td>low</td>\n",
       "      <td>unacc</td>\n",
       "      <td>0</td>\n",
       "    </tr>\n",
       "    <tr>\n",
       "      <th>3</th>\n",
       "      <td>vhigh</td>\n",
       "      <td>vhigh</td>\n",
       "      <td>2</td>\n",
       "      <td>2</td>\n",
       "      <td>med</td>\n",
       "      <td>med</td>\n",
       "      <td>unacc</td>\n",
       "      <td>0</td>\n",
       "    </tr>\n",
       "    <tr>\n",
       "      <th>4</th>\n",
       "      <td>vhigh</td>\n",
       "      <td>vhigh</td>\n",
       "      <td>2</td>\n",
       "      <td>2</td>\n",
       "      <td>med</td>\n",
       "      <td>high</td>\n",
       "      <td>unacc</td>\n",
       "      <td>0</td>\n",
       "    </tr>\n",
       "    <tr>\n",
       "      <th>...</th>\n",
       "      <td>...</td>\n",
       "      <td>...</td>\n",
       "      <td>...</td>\n",
       "      <td>...</td>\n",
       "      <td>...</td>\n",
       "      <td>...</td>\n",
       "      <td>...</td>\n",
       "      <td>...</td>\n",
       "    </tr>\n",
       "    <tr>\n",
       "      <th>1722</th>\n",
       "      <td>low</td>\n",
       "      <td>low</td>\n",
       "      <td>5more</td>\n",
       "      <td>more</td>\n",
       "      <td>med</td>\n",
       "      <td>med</td>\n",
       "      <td>good</td>\n",
       "      <td>2</td>\n",
       "    </tr>\n",
       "    <tr>\n",
       "      <th>1723</th>\n",
       "      <td>low</td>\n",
       "      <td>low</td>\n",
       "      <td>5more</td>\n",
       "      <td>more</td>\n",
       "      <td>med</td>\n",
       "      <td>high</td>\n",
       "      <td>vgood</td>\n",
       "      <td>3</td>\n",
       "    </tr>\n",
       "    <tr>\n",
       "      <th>1724</th>\n",
       "      <td>low</td>\n",
       "      <td>low</td>\n",
       "      <td>5more</td>\n",
       "      <td>more</td>\n",
       "      <td>big</td>\n",
       "      <td>low</td>\n",
       "      <td>unacc</td>\n",
       "      <td>0</td>\n",
       "    </tr>\n",
       "    <tr>\n",
       "      <th>1725</th>\n",
       "      <td>low</td>\n",
       "      <td>low</td>\n",
       "      <td>5more</td>\n",
       "      <td>more</td>\n",
       "      <td>big</td>\n",
       "      <td>med</td>\n",
       "      <td>good</td>\n",
       "      <td>2</td>\n",
       "    </tr>\n",
       "    <tr>\n",
       "      <th>1726</th>\n",
       "      <td>low</td>\n",
       "      <td>low</td>\n",
       "      <td>5more</td>\n",
       "      <td>more</td>\n",
       "      <td>big</td>\n",
       "      <td>high</td>\n",
       "      <td>vgood</td>\n",
       "      <td>3</td>\n",
       "    </tr>\n",
       "  </tbody>\n",
       "</table>\n",
       "<p>1727 rows × 8 columns</p>\n",
       "</div>"
      ],
      "text/plain": [
       "     Buying Maintenance  Doors Persons Lug_boot Safety Target  Target_num\n",
       "0     vhigh       vhigh      2       2    small    med  unacc           0\n",
       "1     vhigh       vhigh      2       2    small   high  unacc           0\n",
       "2     vhigh       vhigh      2       2      med    low  unacc           0\n",
       "3     vhigh       vhigh      2       2      med    med  unacc           0\n",
       "4     vhigh       vhigh      2       2      med   high  unacc           0\n",
       "...     ...         ...    ...     ...      ...    ...    ...         ...\n",
       "1722    low         low  5more    more      med    med   good           2\n",
       "1723    low         low  5more    more      med   high  vgood           3\n",
       "1724    low         low  5more    more      big    low  unacc           0\n",
       "1725    low         low  5more    more      big    med   good           2\n",
       "1726    low         low  5more    more      big   high  vgood           3\n",
       "\n",
       "[1727 rows x 8 columns]"
      ]
     },
     "execution_count": 10,
     "metadata": {},
     "output_type": "execute_result"
    }
   ],
   "source": [
    "df"
   ]
  },
  {
   "cell_type": "markdown",
   "id": "89dbf40b",
   "metadata": {},
   "source": [
    "## Numeric Variables"
   ]
  },
  {
   "cell_type": "code",
   "execution_count": 11,
   "id": "3d7876c7",
   "metadata": {},
   "outputs": [
    {
     "data": {
      "text/plain": [
       "['Target_num']"
      ]
     },
     "execution_count": 11,
     "metadata": {},
     "output_type": "execute_result"
    }
   ],
   "source": [
    "num = [var for var in df.columns if df[var].dtype!='O']\n",
    "num"
   ]
  },
  {
   "cell_type": "markdown",
   "id": "ea2cd303",
   "metadata": {},
   "source": [
    "### Doors"
   ]
  },
  {
   "cell_type": "code",
   "execution_count": 12,
   "id": "9dea5ff2",
   "metadata": {},
   "outputs": [
    {
     "data": {
      "text/plain": [
       "5more    432\n",
       "4        432\n",
       "3        432\n",
       "2        431\n",
       "Name: Doors, dtype: int64"
      ]
     },
     "execution_count": 12,
     "metadata": {},
     "output_type": "execute_result"
    }
   ],
   "source": [
    "df.Doors.value_counts()"
   ]
  },
  {
   "cell_type": "code",
   "execution_count": 13,
   "id": "d558cd11",
   "metadata": {},
   "outputs": [],
   "source": [
    "df.Doors.replace('5more',5,inplace =True)"
   ]
  },
  {
   "cell_type": "code",
   "execution_count": 14,
   "id": "9539b0ef",
   "metadata": {},
   "outputs": [
    {
     "data": {
      "text/plain": [
       "5    432\n",
       "4    432\n",
       "3    432\n",
       "2    431\n",
       "Name: Doors, dtype: int64"
      ]
     },
     "execution_count": 14,
     "metadata": {},
     "output_type": "execute_result"
    }
   ],
   "source": [
    "df.Doors.value_counts()"
   ]
  },
  {
   "cell_type": "code",
   "execution_count": 15,
   "id": "122b48c7",
   "metadata": {},
   "outputs": [],
   "source": [
    "df.Doors = df.Doors.astype(int)"
   ]
  },
  {
   "cell_type": "code",
   "execution_count": 16,
   "id": "1fb2c6f8",
   "metadata": {},
   "outputs": [
    {
     "data": {
      "text/plain": [
       "<AxesSubplot:xlabel='Doors', ylabel='count'>"
      ]
     },
     "execution_count": 16,
     "metadata": {},
     "output_type": "execute_result"
    },
    {
     "data": {
      "image/png": "[encoded data removed]",
      "text/plain": [
       "<Figure size 576x360 with 1 Axes>"
      ]
     },
     "metadata": {
      "needs_background": "light"
     },
     "output_type": "display_data"
    }
   ],
   "source": [
    "plt.figure(figsize=(8,5))\n",
    "sns.countplot(x='Doors', hue=\"Target\", data=df, palette = 'magma')"
   ]
  },
  {
   "cell_type": "markdown",
   "id": "3222c24c",
   "metadata": {},
   "source": [
    "### Persons"
   ]
  },
  {
   "cell_type": "code",
   "execution_count": 17,
   "id": "ce5d819e",
   "metadata": {},
   "outputs": [
    {
     "data": {
      "text/plain": [
       "more    576\n",
       "4       576\n",
       "2       575\n",
       "Name: Persons, dtype: int64"
      ]
     },
     "execution_count": 17,
     "metadata": {},
     "output_type": "execute_result"
    }
   ],
   "source": [
    "df.Persons.value_counts()"
   ]
  },
  {
   "cell_type": "code",
   "execution_count": 18,
   "id": "7a015b53",
   "metadata": {},
   "outputs": [],
   "source": [
    "df.Persons.replace('more',6,inplace =True)"
   ]
  },
  {
   "cell_type": "code",
   "execution_count": 19,
   "id": "e490c371",
   "metadata": {},
   "outputs": [
    {
     "data": {
      "text/plain": [
       "0       2\n",
       "1       2\n",
       "2       2\n",
       "3       2\n",
       "4       2\n",
       "       ..\n",
       "1722    6\n",
       "1723    6\n",
       "1724    6\n",
       "1725    6\n",
       "1726    6\n",
       "Name: Persons, Length: 1727, dtype: object"
      ]
     },
     "execution_count": 19,
     "metadata": {},
     "output_type": "execute_result"
    }
   ],
   "source": [
    "df.Persons"
   ]
  },
  {
   "cell_type": "code",
   "execution_count": 20,
   "id": "bbfa01c1",
   "metadata": {},
   "outputs": [],
   "source": [
    "df.Persons = df.Persons.astype(int)"
   ]
  },
  {
   "cell_type": "code",
   "execution_count": 21,
   "id": "009fa147",
   "metadata": {},
   "outputs": [
    {
     "data": {
      "text/plain": [
       "<AxesSubplot:xlabel='Persons', ylabel='count'>"
      ]
     },
     "execution_count": 21,
     "metadata": {},
     "output_type": "execute_result"
    },
    {
     "data": {
      "image/png": "[encoded data removed]",
      "text/plain": [
       "<Figure size 576x360 with 1 Axes>"
      ]
     },
     "metadata": {
      "needs_background": "light"
     },
     "output_type": "display_data"
    }
   ],
   "source": [
    "plt.figure(figsize=(8,5))\n",
    "sns.countplot(x='Persons', hue=\"Target\", data=df, palette = 'magma')"
   ]
  },
  {
   "cell_type": "markdown",
   "id": "0fb22512",
   "metadata": {},
   "source": [
    "## Categorical Variables"
   ]
  },
  {
   "cell_type": "code",
   "execution_count": 22,
   "id": "666b05f9",
   "metadata": {},
   "outputs": [
    {
     "data": {
      "text/plain": [
       "['Buying', 'Maintenance', 'Lug_boot', 'Safety', 'Target']"
      ]
     },
     "execution_count": 22,
     "metadata": {},
     "output_type": "execute_result"
    }
   ],
   "source": [
    "cat = [var for var in df.columns if df[var].dtype=='O']\n",
    "cat"
   ]
  },
  {
   "cell_type": "markdown",
   "id": "9c1fc0b5",
   "metadata": {},
   "source": [
    "### Buying"
   ]
  },
  {
   "cell_type": "code",
   "execution_count": 23,
   "id": "2e2c69be",
   "metadata": {},
   "outputs": [
    {
     "data": {
      "text/plain": [
       "low      432\n",
       "high     432\n",
       "med      432\n",
       "vhigh    431\n",
       "Name: Buying, dtype: int64"
      ]
     },
     "execution_count": 23,
     "metadata": {},
     "output_type": "execute_result"
    }
   ],
   "source": [
    "df.Buying.value_counts()"
   ]
  },
  {
   "cell_type": "code",
   "execution_count": 24,
   "id": "55ca091f",
   "metadata": {},
   "outputs": [
    {
     "data": {
      "text/plain": [
       "<AxesSubplot:xlabel='Buying', ylabel='count'>"
      ]
     },
     "execution_count": 24,
     "metadata": {},
     "output_type": "execute_result"
    },
    {
     "data": {
      "image/png": "[encoded data removed]",
      "text/plain": [
       "<Figure size 648x432 with 1 Axes>"
      ]
     },
     "metadata": {
      "needs_background": "light"
     },
     "output_type": "display_data"
    }
   ],
   "source": [
    "plt.figure(figsize=(9,6))\n",
    "sns.countplot(x='Buying', hue=\"Target\", data=df, palette = 'magma')"
   ]
  },
  {
   "cell_type": "code",
   "execution_count": 25,
   "id": "824630e2",
   "metadata": {},
   "outputs": [
    {
     "data": {
      "text/plain": [
       "0    432\n",
       "1    432\n",
       "2    432\n",
       "3    431\n",
       "Name: Buying, dtype: int64"
      ]
     },
     "execution_count": 25,
     "metadata": {},
     "output_type": "execute_result"
    }
   ],
   "source": [
    "df['Buying'].replace(('low', 'med', 'high', 'vhigh'), (0, 1, 2, 3), inplace = True)\n",
    "\n",
    "df['Buying'].value_counts()"
   ]
  },
  {
   "cell_type": "markdown",
   "id": "3d459f22",
   "metadata": {},
   "source": [
    "### Maintenance"
   ]
  },
  {
   "cell_type": "code",
   "execution_count": 26,
   "id": "82795453",
   "metadata": {},
   "outputs": [
    {
     "data": {
      "text/plain": [
       "low      432\n",
       "high     432\n",
       "med      432\n",
       "vhigh    431\n",
       "Name: Maintenance, dtype: int64"
      ]
     },
     "execution_count": 26,
     "metadata": {},
     "output_type": "execute_result"
    }
   ],
   "source": [
    "df['Maintenance'].value_counts()"
   ]
  },
  {
   "cell_type": "code",
   "execution_count": 27,
   "id": "d90fcd58",
   "metadata": {},
   "outputs": [
    {
     "data": {
      "text/plain": [
       "<AxesSubplot:xlabel='Maintenance', ylabel='count'>"
      ]
     },
     "execution_count": 27,
     "metadata": {},
     "output_type": "execute_result"
    },
    {
     "data": {
      "image/png": "[encoded data removed]",
      "text/plain": [
       "<Figure size 576x360 with 1 Axes>"
      ]
     },
     "metadata": {
      "needs_background": "light"
     },
     "output_type": "display_data"
    }
   ],
   "source": [
    "plt.figure(figsize=(8,5))\n",
    "sns.countplot(x='Maintenance', hue=\"Target\", data=df, palette = 'magma')"
   ]
  },
  {
   "cell_type": "code",
   "execution_count": 28,
   "id": "675a9c48",
   "metadata": {},
   "outputs": [
    {
     "data": {
      "text/plain": [
       "0    432\n",
       "1    432\n",
       "2    432\n",
       "3    431\n",
       "Name: Maintenance, dtype: int64"
      ]
     },
     "execution_count": 28,
     "metadata": {},
     "output_type": "execute_result"
    }
   ],
   "source": [
    "df['Maintenance'].replace(('low', 'med', 'high', 'vhigh'), (0, 1, 2, 3), inplace = True)\n",
    "\n",
    "df['Maintenance'].value_counts()"
   ]
  },
  {
   "cell_type": "markdown",
   "id": "0d7ad923",
   "metadata": {},
   "source": [
    "### Lug_boot"
   ]
  },
  {
   "cell_type": "code",
   "execution_count": 29,
   "id": "87a1958c",
   "metadata": {},
   "outputs": [
    {
     "data": {
      "text/plain": [
       "big      576\n",
       "med      576\n",
       "small    575\n",
       "Name: Lug_boot, dtype: int64"
      ]
     },
     "execution_count": 29,
     "metadata": {},
     "output_type": "execute_result"
    }
   ],
   "source": [
    "df.Lug_boot.value_counts()"
   ]
  },
  {
   "cell_type": "code",
   "execution_count": 30,
   "id": "8caed43d",
   "metadata": {},
   "outputs": [
    {
     "data": {
      "text/plain": [
       "<AxesSubplot:xlabel='Lug_boot', ylabel='count'>"
      ]
     },
     "execution_count": 30,
     "metadata": {},
     "output_type": "execute_result"
    },
    {
     "data": {
      "image/png": "[encoded data removed]",
      "text/plain": [
       "<Figure size 576x360 with 1 Axes>"
      ]
     },
     "metadata": {
      "needs_background": "light"
     },
     "output_type": "display_data"
    }
   ],
   "source": [
    "plt.figure(figsize=(8,5))\n",
    "sns.countplot(x='Lug_boot', hue=\"Target\", data=df, palette = 'magma')"
   ]
  },
  {
   "cell_type": "code",
   "execution_count": 31,
   "id": "a8dbc9b8",
   "metadata": {},
   "outputs": [
    {
     "data": {
      "text/plain": [
       "1    576\n",
       "2    576\n",
       "0    575\n",
       "Name: Lug_boot, dtype: int64"
      ]
     },
     "execution_count": 31,
     "metadata": {},
     "output_type": "execute_result"
    }
   ],
   "source": [
    "df['Lug_boot'].replace(('small','med','big'), (0, 1, 2), inplace = True)\n",
    "\n",
    "df['Lug_boot'].value_counts()"
   ]
  },
  {
   "cell_type": "markdown",
   "id": "9b84598b",
   "metadata": {},
   "source": [
    "### Safety"
   ]
  },
  {
   "cell_type": "code",
   "execution_count": 32,
   "id": "53ec9ae1",
   "metadata": {},
   "outputs": [
    {
     "data": {
      "text/plain": [
       "high    576\n",
       "med     576\n",
       "low     575\n",
       "Name: Safety, dtype: int64"
      ]
     },
     "execution_count": 32,
     "metadata": {},
     "output_type": "execute_result"
    }
   ],
   "source": [
    "df.Safety.value_counts()"
   ]
  },
  {
   "cell_type": "code",
   "execution_count": 33,
   "id": "657b1bee",
   "metadata": {},
   "outputs": [
    {
     "data": {
      "text/plain": [
       "<AxesSubplot:xlabel='Safety', ylabel='count'>"
      ]
     },
     "execution_count": 33,
     "metadata": {},
     "output_type": "execute_result"
    },
    {
     "data": {
      "image/png": "[encoded data removed]",
      "text/plain": [
       "<Figure size 576x360 with 1 Axes>"
      ]
     },
     "metadata": {
      "needs_background": "light"
     },
     "output_type": "display_data"
    }
   ],
   "source": [
    "plt.figure(figsize=(8,5))\n",
    "sns.countplot(x='Safety', hue=\"Target\", data=df, palette = 'magma')"
   ]
  },
  {
   "cell_type": "code",
   "execution_count": 34,
   "id": "df4d075b",
   "metadata": {},
   "outputs": [
    {
     "data": {
      "text/plain": [
       "1    576\n",
       "2    576\n",
       "0    575\n",
       "Name: Safety, dtype: int64"
      ]
     },
     "execution_count": 34,
     "metadata": {},
     "output_type": "execute_result"
    }
   ],
   "source": [
    "df['Safety'].replace(('low','med','high'), (0, 1, 2), inplace = True)\n",
    "\n",
    "df['Safety'].value_counts()"
   ]
  },
  {
   "cell_type": "markdown",
   "id": "dd91cbb3",
   "metadata": {},
   "source": [
    "## Correlation Check"
   ]
  },
  {
   "cell_type": "code",
   "execution_count": 35,
   "id": "e7e8da61",
   "metadata": {},
   "outputs": [
    {
     "data": {
      "text/html": [
       "<div>\n",
       "<style scoped>\n",
       "    .dataframe tbody tr th:only-of-type {\n",
       "        vertical-align: middle;\n",
       "    }\n",
       "\n",
       "    .dataframe tbody tr th {\n",
       "        vertical-align: top;\n",
       "    }\n",
       "\n",
       "    .dataframe thead th {\n",
       "        text-align: right;\n",
       "    }\n",
       "</style>\n",
       "<table border=\"1\" class=\"dataframe\">\n",
       "  <thead>\n",
       "    <tr style=\"text-align: right;\">\n",
       "      <th></th>\n",
       "      <th>Buying</th>\n",
       "      <th>Maintenance</th>\n",
       "      <th>Doors</th>\n",
       "      <th>Persons</th>\n",
       "      <th>Lug_boot</th>\n",
       "      <th>Safety</th>\n",
       "      <th>Target_num</th>\n",
       "    </tr>\n",
       "  </thead>\n",
       "  <tbody>\n",
       "    <tr>\n",
       "      <th>Buying</th>\n",
       "      <td>1.000000</td>\n",
       "      <td>-0.001043</td>\n",
       "      <td>0.001043</td>\n",
       "      <td>0.000952</td>\n",
       "      <td>0.000952</td>\n",
       "      <td>0.000952</td>\n",
       "      <td>-0.282488</td>\n",
       "    </tr>\n",
       "    <tr>\n",
       "      <th>Maintenance</th>\n",
       "      <td>-0.001043</td>\n",
       "      <td>1.000000</td>\n",
       "      <td>0.001043</td>\n",
       "      <td>0.000952</td>\n",
       "      <td>0.000952</td>\n",
       "      <td>0.000952</td>\n",
       "      <td>-0.232128</td>\n",
       "    </tr>\n",
       "    <tr>\n",
       "      <th>Doors</th>\n",
       "      <td>0.001043</td>\n",
       "      <td>0.001043</td>\n",
       "      <td>1.000000</td>\n",
       "      <td>-0.000952</td>\n",
       "      <td>-0.000952</td>\n",
       "      <td>-0.000952</td>\n",
       "      <td>0.065662</td>\n",
       "    </tr>\n",
       "    <tr>\n",
       "      <th>Persons</th>\n",
       "      <td>0.000952</td>\n",
       "      <td>0.000952</td>\n",
       "      <td>-0.000952</td>\n",
       "      <td>1.000000</td>\n",
       "      <td>-0.000869</td>\n",
       "      <td>-0.000869</td>\n",
       "      <td>0.341489</td>\n",
       "    </tr>\n",
       "    <tr>\n",
       "      <th>Lug_boot</th>\n",
       "      <td>0.000952</td>\n",
       "      <td>0.000952</td>\n",
       "      <td>-0.000952</td>\n",
       "      <td>-0.000869</td>\n",
       "      <td>1.000000</td>\n",
       "      <td>-0.000869</td>\n",
       "      <td>0.157617</td>\n",
       "    </tr>\n",
       "    <tr>\n",
       "      <th>Safety</th>\n",
       "      <td>0.000952</td>\n",
       "      <td>0.000952</td>\n",
       "      <td>-0.000952</td>\n",
       "      <td>-0.000869</td>\n",
       "      <td>-0.000869</td>\n",
       "      <td>1.000000</td>\n",
       "      <td>0.439171</td>\n",
       "    </tr>\n",
       "    <tr>\n",
       "      <th>Target_num</th>\n",
       "      <td>-0.282488</td>\n",
       "      <td>-0.232128</td>\n",
       "      <td>0.065662</td>\n",
       "      <td>0.341489</td>\n",
       "      <td>0.157617</td>\n",
       "      <td>0.439171</td>\n",
       "      <td>1.000000</td>\n",
       "    </tr>\n",
       "  </tbody>\n",
       "</table>\n",
       "</div>"
      ],
      "text/plain": [
       "               Buying  Maintenance     Doors   Persons  Lug_boot    Safety  \\\n",
       "Buying       1.000000    -0.001043  0.001043  0.000952  0.000952  0.000952   \n",
       "Maintenance -0.001043     1.000000  0.001043  0.000952  0.000952  0.000952   \n",
       "Doors        0.001043     0.001043  1.000000 -0.000952 -0.000952 -0.000952   \n",
       "Persons      0.000952     0.000952 -0.000952  1.000000 -0.000869 -0.000869   \n",
       "Lug_boot     0.000952     0.000952 -0.000952 -0.000869  1.000000 -0.000869   \n",
       "Safety       0.000952     0.000952 -0.000952 -0.000869 -0.000869  1.000000   \n",
       "Target_num  -0.282488    -0.232128  0.065662  0.341489  0.157617  0.439171   \n",
       "\n",
       "             Target_num  \n",
       "Buying        -0.282488  \n",
       "Maintenance   -0.232128  \n",
       "Doors          0.065662  \n",
       "Persons        0.341489  \n",
       "Lug_boot       0.157617  \n",
       "Safety         0.439171  \n",
       "Target_num     1.000000  "
      ]
     },
     "execution_count": 35,
     "metadata": {},
     "output_type": "execute_result"
    }
   ],
   "source": [
    "df.corr()"
   ]
  },
  {
   "cell_type": "code",
   "execution_count": 36,
   "id": "8643c73b",
   "metadata": {},
   "outputs": [
    {
     "data": {
      "text/plain": [
       "<AxesSubplot:>"
      ]
     },
     "execution_count": 36,
     "metadata": {},
     "output_type": "execute_result"
    },
    {
     "data": {
      "image/png": "[encoded data removed]",
      "text/plain": [
       "<Figure size 432x288 with 2 Axes>"
      ]
     },
     "metadata": {
      "needs_background": "light"
     },
     "output_type": "display_data"
    }
   ],
   "source": [
    "sns.heatmap(df.corr(),linewidths=.5,cmap=\"magma\")"
   ]
  },
  {
   "cell_type": "markdown",
   "id": "bebcbbf3",
   "metadata": {},
   "source": [
    "## Train-Test Split"
   ]
  },
  {
   "cell_type": "code",
   "execution_count": 37,
   "id": "d1aae8bb",
   "metadata": {},
   "outputs": [],
   "source": [
    "from sklearn.model_selection import train_test_split"
   ]
  },
  {
   "cell_type": "code",
   "execution_count": 38,
   "id": "e4c738ea",
   "metadata": {},
   "outputs": [],
   "source": [
    "X_train, X_test, y_train, y_test = train_test_split(df.drop(['Target','Target_num'],axis=1), df.Target, test_size=0.2, random_state=42)"
   ]
  },
  {
   "cell_type": "markdown",
   "id": "55d5f733",
   "metadata": {},
   "source": [
    "## Model"
   ]
  },
  {
   "cell_type": "code",
   "execution_count": 39,
   "id": "cb7f3477",
   "metadata": {},
   "outputs": [],
   "source": [
    "from sklearn.tree import DecisionTreeClassifier"
   ]
  },
  {
   "cell_type": "code",
   "execution_count": 40,
   "id": "a5aa5ae0",
   "metadata": {},
   "outputs": [
    {
     "data": {
      "text/plain": [
       "sklearn.tree._classes.DecisionTreeClassifier"
      ]
     },
     "execution_count": 40,
     "metadata": {},
     "output_type": "execute_result"
    }
   ],
   "source": [
    "DecisionTreeClassifier"
   ]
  },
  {
   "cell_type": "code",
   "execution_count": 56,
   "id": "f563da2d",
   "metadata": {},
   "outputs": [],
   "source": [
    "dtc = DecisionTreeClassifier(max_depth=11)"
   ]
  },
  {
   "cell_type": "code",
   "execution_count": 57,
   "id": "ae635513",
   "metadata": {},
   "outputs": [
    {
     "data": {
      "text/plain": [
       "DecisionTreeClassifier(max_depth=11)"
      ]
     },
     "execution_count": 57,
     "metadata": {},
     "output_type": "execute_result"
    }
   ],
   "source": [
    "dtc.fit(X_train,y_train)"
   ]
  },
  {
   "cell_type": "code",
   "execution_count": 58,
   "id": "2cbf2e63",
   "metadata": {},
   "outputs": [
    {
     "data": {
      "text/plain": [
       "0.9653179190751445"
      ]
     },
     "execution_count": 58,
     "metadata": {},
     "output_type": "execute_result"
    }
   ],
   "source": [
    "dtc.score(X_test,y_test)"
   ]
  },
  {
   "cell_type": "code",
   "execution_count": 59,
   "id": "6aa84aa5",
   "metadata": {},
   "outputs": [
    {
     "data": {
      "text/plain": [
       "0.999275887038378"
      ]
     },
     "execution_count": 59,
     "metadata": {},
     "output_type": "execute_result"
    }
   ],
   "source": [
    "dtc.score(X_train,y_train)"
   ]
  },
  {
   "cell_type": "code",
   "execution_count": 60,
   "id": "930be139",
   "metadata": {},
   "outputs": [
    {
     "name": "stdout",
     "output_type": "stream",
     "text": [
      "Accuracy for depth 1 is 0.684971098265896\n",
      "Accuracy for depth 2 is 0.7803468208092486\n",
      "Accuracy for depth 3 is 0.8121387283236994\n",
      "Accuracy for depth 4 is 0.8497109826589595\n",
      "Accuracy for depth 5 is 0.8757225433526011\n",
      "Accuracy for depth 6 is 0.8988439306358381\n",
      "Accuracy for depth 7 is 0.9190751445086706\n",
      "Accuracy for depth 8 is 0.9450867052023122\n",
      "Accuracy for depth 9 is 0.9624277456647399\n",
      "Accuracy for depth 10 is 0.953757225433526\n",
      "Accuracy for depth 11 is 0.9653179190751445\n",
      "Accuracy for depth 12 is 0.9653179190751445\n",
      "Accuracy for depth 13 is 0.9653179190751445\n",
      "Accuracy for depth 14 is 0.9653179190751445\n",
      "Accuracy for depth 15 is 0.9653179190751445\n",
      "Accuracy for depth 16 is 0.9653179190751445\n",
      "Accuracy for depth 17 is 0.9653179190751445\n",
      "Accuracy for depth 18 is 0.9653179190751445\n",
      "Accuracy for depth 19 is 0.9653179190751445\n",
      "Accuracy for depth 20 is 0.9653179190751445\n",
      "Accuracy for depth 21 is 0.9653179190751445\n",
      "Accuracy for depth 22 is 0.9653179190751445\n",
      "Accuracy for depth 23 is 0.9653179190751445\n",
      "Accuracy for depth 24 is 0.9653179190751445\n",
      "Accuracy for depth 25 is 0.9653179190751445\n",
      "Accuracy for depth 26 is 0.9653179190751445\n",
      "Accuracy for depth 27 is 0.9653179190751445\n",
      "Accuracy for depth 28 is 0.9653179190751445\n",
      "Accuracy for depth 29 is 0.9653179190751445\n",
      "Accuracy for depth 30 is 0.9653179190751445\n"
     ]
    }
   ],
   "source": [
    "scores = []\n",
    "max_depth = []\n",
    "for i in range(1,31):\n",
    "    max_depth.append(i)\n",
    "    tree_test= DecisionTreeClassifier(max_depth=i,criterion='entropy')\n",
    "    tree_test.fit(X_train,y_train)\n",
    "    scores.append(tree_test.score(X_test,y_test))\n",
    "    print('Accuracy for depth',i, \"is\",tree_test.score(X_test,y_test))"
   ]
  },
  {
   "cell_type": "code",
   "execution_count": 61,
   "id": "198e23bb",
   "metadata": {},
   "outputs": [
    {
     "data": {
      "text/plain": [
       "<AxesSubplot:xlabel='Max Depth', ylabel='Score'>"
      ]
     },
     "execution_count": 61,
     "metadata": {},
     "output_type": "execute_result"
    },
    {
     "data": {
      "image/png": "[encoded data removed]",
      "text/plain": [
       "<Figure size 432x288 with 1 Axes>"
      ]
     },
     "metadata": {},
     "output_type": "display_data"
    }
   ],
   "source": [
    "plt.xlabel('Max Depth')\n",
    "plt.ylabel('Score')\n",
    "sns.lineplot(x=max_depth, y= scores, color='brown', linewidth=3, markers = 'bo')\n"
   ]
  },
  {
   "cell_type": "code",
   "execution_count": 62,
   "id": "7dc87f42",
   "metadata": {},
   "outputs": [
    {
     "data": {
      "text/plain": [
       "0.9653179190751445"
      ]
     },
     "execution_count": 62,
     "metadata": {},
     "output_type": "execute_result"
    }
   ],
   "source": [
    "max_score = max(scores)\n",
    "max_score"
   ]
  },
  {
   "cell_type": "code",
   "execution_count": 63,
   "id": "73313832",
   "metadata": {},
   "outputs": [
    {
     "data": {
      "text/plain": [
       "11"
      ]
     },
     "execution_count": 63,
     "metadata": {},
     "output_type": "execute_result"
    }
   ],
   "source": [
    "max_index = scores.index(max_score)\n",
    "max_index+1"
   ]
  },
  {
   "cell_type": "markdown",
   "id": "94abd52f",
   "metadata": {},
   "source": [
    "### Tree Visualization"
   ]
  },
  {
   "cell_type": "code",
   "execution_count": 71,
   "id": "80514b91",
   "metadata": {},
   "outputs": [
    {
     "data": {
      "text/plain": [
       "[Text(167.4, 489.24, 'Safety <= 0.5\\ngini = 0.452\\nsamples = 1381\\nvalue = [307, 54, 972, 48]'),\n",
       " Text(83.7, 380.52000000000004, 'gini = 0.0\\nsamples = 467\\nvalue = [0, 0, 467, 0]'),\n",
       " Text(251.10000000000002, 380.52000000000004, 'Persons <= 3.0\\ngini = 0.576\\nsamples = 914\\nvalue = [307, 54, 505, 48]'),\n",
       " Text(167.4, 271.8, 'gini = 0.0\\nsamples = 299\\nvalue = [0, 0, 299, 0]'),\n",
       " Text(334.8, 271.8, 'Buying <= 1.5\\ngini = 0.625\\nsamples = 615\\nvalue = [307, 54, 206, 48]'),\n",
       " Text(167.4, 163.08000000000004, 'Maintenance <= 1.5\\ngini = 0.652\\nsamples = 298\\nvalue = [155, 54, 41, 48]'),\n",
       " Text(83.7, 54.360000000000014, 'gini = 0.69\\nsamples = 150\\nvalue = [49, 54, 7, 40]'),\n",
       " Text(251.10000000000002, 54.360000000000014, 'gini = 0.431\\nsamples = 148\\nvalue = [106, 0, 34, 8]'),\n",
       " Text(502.20000000000005, 163.08000000000004, 'Maintenance <= 1.5\\ngini = 0.499\\nsamples = 317\\nvalue = [152, 0, 165, 0]'),\n",
       " Text(418.5, 54.360000000000014, 'gini = 0.381\\nsamples = 164\\nvalue = [122, 0, 42, 0]'),\n",
       " Text(585.9, 54.360000000000014, 'gini = 0.315\\nsamples = 153\\nvalue = [30, 0, 123, 0]')]"
      ]
     },
     "execution_count": 71,
     "metadata": {},
     "output_type": "execute_result"
    },
    {
     "data": {
      "image/png": "[encoded data removed]",
      "text/plain": [
       "<Figure size 864x720 with 1 Axes>"
      ]
     },
     "metadata": {},
     "output_type": "display_data"
    }
   ],
   "source": [
    "plt.figure(figsize=(12,10))\n",
    "\n",
    "from sklearn import tree\n",
    "dtc_sample = DecisionTreeClassifier(max_depth=4)\n",
    "tree.plot_tree(dtc_sample.fit(X_train, y_train),feature_names=X_train.columns) "
   ]
  },
  {
   "cell_type": "markdown",
   "id": "2563bd9c",
   "metadata": {},
   "source": [
    "## Metrics"
   ]
  },
  {
   "cell_type": "code",
   "execution_count": 65,
   "id": "4f3b5020",
   "metadata": {},
   "outputs": [],
   "source": [
    "from sklearn.metrics import accuracy_score,f1_score\n",
    "from sklearn.metrics import classification_report\n",
    "from sklearn.metrics import confusion_matrix"
   ]
  },
  {
   "cell_type": "code",
   "execution_count": 66,
   "id": "54b1597f",
   "metadata": {},
   "outputs": [],
   "source": [
    "pred_test = dtc.predict(X_test)\n",
    "pred_train = dtc.predict(X_train)"
   ]
  },
  {
   "cell_type": "code",
   "execution_count": 67,
   "id": "3868b320",
   "metadata": {},
   "outputs": [
    {
     "data": {
      "text/plain": [
       "unacc    237\n",
       "acc       77\n",
       "vgood     17\n",
       "good      15\n",
       "Name: Target, dtype: int64"
      ]
     },
     "execution_count": 67,
     "metadata": {},
     "output_type": "execute_result"
    }
   ],
   "source": [
    "y_test.value_counts()"
   ]
  },
  {
   "cell_type": "code",
   "execution_count": 68,
   "id": "c3e791a8",
   "metadata": {},
   "outputs": [
    {
     "data": {
      "text/plain": [
       "array([[ 71,   2,   2,   2],\n",
       "       [  2,  12,   0,   1],\n",
       "       [  1,   0, 236,   0],\n",
       "       [  0,   2,   0,  15]], dtype=int64)"
      ]
     },
     "execution_count": 68,
     "metadata": {},
     "output_type": "execute_result"
    }
   ],
   "source": [
    "cm = confusion_matrix(y_test, pred_test)\n",
    "cm"
   ]
  },
  {
   "cell_type": "code",
   "execution_count": 69,
   "id": "7e456ecf",
   "metadata": {},
   "outputs": [
    {
     "data": {
      "image/png": "[encoded data removed]",
      "text/plain": [
       "<Figure size 864x648 with 2 Axes>"
      ]
     },
     "metadata": {},
     "output_type": "display_data"
    }
   ],
   "source": [
    "df_cm = pd.DataFrame(cm)\n",
    "plt.figure(figsize=(12,9))\n",
    "sns.set(font_scale=1.5)\n",
    "ax = sns.heatmap(df_cm, annot=True, annot_kws={\"size\": 16},cmap=\"rocket_r\") # font size\n",
    "ax.set_xlabel('Predicted labels');ax.set_ylabel('True labels');\n",
    "ax.xaxis.set_ticklabels(['acc','good','unacc','vgood']); ax.yaxis.set_ticklabels(['acc','good','unacc','vgood']);\n",
    "plt.show()\n"
   ]
  },
  {
   "cell_type": "code",
   "execution_count": 70,
   "id": "502ceb19",
   "metadata": {},
   "outputs": [
    {
     "name": "stdout",
     "output_type": "stream",
     "text": [
      "              precision    recall  f1-score   support\n",
      "\n",
      "         acc       0.96      0.92      0.94        77\n",
      "        good       0.75      0.80      0.77        15\n",
      "       unacc       0.99      1.00      0.99       237\n",
      "       vgood       0.83      0.88      0.86        17\n",
      "\n",
      "    accuracy                           0.97       346\n",
      "   macro avg       0.88      0.90      0.89       346\n",
      "weighted avg       0.97      0.97      0.97       346\n",
      "\n"
     ]
    }
   ],
   "source": [
    "print(classification_report(y_test,pred_test))"
   ]
  },
  {
   "cell_type": "markdown",
   "id": "692bbd28",
   "metadata": {},
   "source": [
    "##   --- THE END ---"
   ]
  }
 ],
 "metadata": {
  "kernelspec": {
   "display_name": "Python 3",
   "language": "python",
   "name": "python3"
  },
  "language_info": {
   "codemirror_mode": {
    "name": "ipython",
    "version": 3
   },
   "file_extension": ".py",
   "mimetype": "text/x-python",
   "name": "python",
   "nbconvert_exporter": "python",
   "pygments_lexer": "ipython3",
   "version": "3.8.8"
  }
 },
 "nbformat": 4,
 "nbformat_minor": 5
}
