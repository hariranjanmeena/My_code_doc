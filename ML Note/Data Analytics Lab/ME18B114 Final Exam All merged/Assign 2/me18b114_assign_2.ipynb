{
 "cells": [
  {
   "cell_type": "markdown",
   "id": "f6c46e2f",
   "metadata": {},
   "source": [
    "# Logistic Regression\n",
    "## ME18B114 - Prajwal Sahu"
   ]
  },
  {
   "cell_type": "markdown",
   "id": "ea6666f8",
   "metadata": {},
   "source": [
    "### Problem Statement\n",
    "\n",
    "The sinking of the Titanic is one of the most infamous shipwrecks in history. On April 15, 1912,\n",
    "during her maiden voyage, the widely considered “unsinkable” RMS Titanic sank after colliding\n",
    "with an iceberg. Unfortunately, there weren’t enough lifeboats for everyone onboard, resulting in\n",
    "the death of 1502 out of 2224 passengers and crew. While there was some element of luck\n",
    "involved in surviving, it seems some groups of people were more likely to survive than others. In\n",
    "this challenge, we ask you to build a predictive model that answers the question: “what sorts of\n",
    "people were more likely to survive?” using passenger data (ie name, age, gender,\n",
    "socio-economic class, etc).\n",
    "\n",
    "\n",
    "Two similar datasets include passenger information like name, age, gender, socio-economic\n",
    "class, etc. One dataset is titled “train.csv” and the other is titled “test.csv”. The train file will\n",
    "contain the details of a subset of the passengers on board (891 to be exact) and importantly, will\n",
    "reveal whether they survived or not, also known as the “ground truth”. The test file dataset\n",
    "contains similar information but does not disclose the “ground truth” for each passenger. It’s\n",
    "your job to predict these outcomes."
   ]
  },
  {
   "cell_type": "markdown",
   "id": "5fb11d0e",
   "metadata": {},
   "source": [
    "`Survival`- Survival in the crash, 0 = No, 1 = Yes.\n",
    "\n",
    "`Pclass` - Ticket class of the Passenger, 1 = 1st, 2 = 2nd, 3 = 3rd class.\n",
    "\n",
    "`Sex` - Male or Female.\n",
    "\n",
    "`Age` - Age in years.\n",
    "\n",
    "`Sibsp` - Number of siblings or spouses aboard the Titanic.\n",
    "\n",
    "`Parch `- Number of parents or children aboard the Titanic.\n",
    "\n",
    "`Ticket` - Ticket number.\n",
    "\n",
    "`Fare` - Passenger fare.\n",
    "\n",
    "`Cabin` - Cabin number.\n",
    "\n",
    "`Embarked` - Port of Embarkation out of Cherbourg, Queenstown, and Southampton.\n",
    "\n",
    "\n"
   ]
  },
  {
   "cell_type": "markdown",
   "id": "1bde1196",
   "metadata": {},
   "source": [
    "## Importing Libraries"
   ]
  },
  {
   "cell_type": "code",
   "execution_count": 3,
   "id": "2277f572",
   "metadata": {},
   "outputs": [],
   "source": [
    "import pandas as pd\n",
    "import numpy as np\n",
    "import matplotlib.pyplot as plt\n",
    "import seaborn as sns\n",
    "%matplotlib inline"
   ]
  },
  {
   "cell_type": "code",
   "execution_count": 4,
   "id": "2954b562",
   "metadata": {},
   "outputs": [],
   "source": [
    "import warnings\n",
    "warnings.filterwarnings('ignore')\n"
   ]
  },
  {
   "cell_type": "markdown",
   "id": "c082c4d5",
   "metadata": {},
   "source": [
    "## Importing Data-sets"
   ]
  },
  {
   "cell_type": "code",
   "execution_count": 5,
   "id": "056f872f",
   "metadata": {},
   "outputs": [],
   "source": [
    "train = pd.read_csv('train.csv')\n",
    "test = pd.read_csv('test.csv')"
   ]
  },
  {
   "cell_type": "code",
   "execution_count": 6,
   "id": "34375605",
   "metadata": {},
   "outputs": [
    {
     "data": {
      "text/html": [
       "<div>\n",
       "<style scoped>\n",
       "    .dataframe tbody tr th:only-of-type {\n",
       "        vertical-align: middle;\n",
       "    }\n",
       "\n",
       "    .dataframe tbody tr th {\n",
       "        vertical-align: top;\n",
       "    }\n",
       "\n",
       "    .dataframe thead th {\n",
       "        text-align: right;\n",
       "    }\n",
       "</style>\n",
       "<table border=\"1\" class=\"dataframe\">\n",
       "  <thead>\n",
       "    <tr style=\"text-align: right;\">\n",
       "      <th></th>\n",
       "      <th>PassengerId</th>\n",
       "      <th>Survived</th>\n",
       "      <th>Pclass</th>\n",
       "      <th>Name</th>\n",
       "      <th>Sex</th>\n",
       "      <th>Age</th>\n",
       "      <th>SibSp</th>\n",
       "      <th>Parch</th>\n",
       "      <th>Ticket</th>\n",
       "      <th>Fare</th>\n",
       "      <th>Cabin</th>\n",
       "      <th>Embarked</th>\n",
       "    </tr>\n",
       "  </thead>\n",
       "  <tbody>\n",
       "    <tr>\n",
       "      <th>0</th>\n",
       "      <td>1</td>\n",
       "      <td>0</td>\n",
       "      <td>3</td>\n",
       "      <td>Braund, Mr. Owen Harris</td>\n",
       "      <td>male</td>\n",
       "      <td>22.0</td>\n",
       "      <td>1</td>\n",
       "      <td>0</td>\n",
       "      <td>A/5 21171</td>\n",
       "      <td>7.2500</td>\n",
       "      <td>NaN</td>\n",
       "      <td>S</td>\n",
       "    </tr>\n",
       "    <tr>\n",
       "      <th>1</th>\n",
       "      <td>2</td>\n",
       "      <td>1</td>\n",
       "      <td>1</td>\n",
       "      <td>Cumings, Mrs. John Bradley (Florence Briggs Th...</td>\n",
       "      <td>female</td>\n",
       "      <td>38.0</td>\n",
       "      <td>1</td>\n",
       "      <td>0</td>\n",
       "      <td>PC 17599</td>\n",
       "      <td>71.2833</td>\n",
       "      <td>C85</td>\n",
       "      <td>C</td>\n",
       "    </tr>\n",
       "    <tr>\n",
       "      <th>2</th>\n",
       "      <td>3</td>\n",
       "      <td>1</td>\n",
       "      <td>3</td>\n",
       "      <td>Heikkinen, Miss. Laina</td>\n",
       "      <td>female</td>\n",
       "      <td>26.0</td>\n",
       "      <td>0</td>\n",
       "      <td>0</td>\n",
       "      <td>STON/O2. 3101282</td>\n",
       "      <td>7.9250</td>\n",
       "      <td>NaN</td>\n",
       "      <td>S</td>\n",
       "    </tr>\n",
       "    <tr>\n",
       "      <th>3</th>\n",
       "      <td>4</td>\n",
       "      <td>1</td>\n",
       "      <td>1</td>\n",
       "      <td>Futrelle, Mrs. Jacques Heath (Lily May Peel)</td>\n",
       "      <td>female</td>\n",
       "      <td>35.0</td>\n",
       "      <td>1</td>\n",
       "      <td>0</td>\n",
       "      <td>113803</td>\n",
       "      <td>53.1000</td>\n",
       "      <td>C123</td>\n",
       "      <td>S</td>\n",
       "    </tr>\n",
       "    <tr>\n",
       "      <th>4</th>\n",
       "      <td>5</td>\n",
       "      <td>0</td>\n",
       "      <td>3</td>\n",
       "      <td>Allen, Mr. William Henry</td>\n",
       "      <td>male</td>\n",
       "      <td>35.0</td>\n",
       "      <td>0</td>\n",
       "      <td>0</td>\n",
       "      <td>373450</td>\n",
       "      <td>8.0500</td>\n",
       "      <td>NaN</td>\n",
       "      <td>S</td>\n",
       "    </tr>\n",
       "  </tbody>\n",
       "</table>\n",
       "</div>"
      ],
      "text/plain": [
       "   PassengerId  Survived  Pclass  \\\n",
       "0            1         0       3   \n",
       "1            2         1       1   \n",
       "2            3         1       3   \n",
       "3            4         1       1   \n",
       "4            5         0       3   \n",
       "\n",
       "                                                Name     Sex   Age  SibSp  \\\n",
       "0                            Braund, Mr. Owen Harris    male  22.0      1   \n",
       "1  Cumings, Mrs. John Bradley (Florence Briggs Th...  female  38.0      1   \n",
       "2                             Heikkinen, Miss. Laina  female  26.0      0   \n",
       "3       Futrelle, Mrs. Jacques Heath (Lily May Peel)  female  35.0      1   \n",
       "4                           Allen, Mr. William Henry    male  35.0      0   \n",
       "\n",
       "   Parch            Ticket     Fare Cabin Embarked  \n",
       "0      0         A/5 21171   7.2500   NaN        S  \n",
       "1      0          PC 17599  71.2833   C85        C  \n",
       "2      0  STON/O2. 3101282   7.9250   NaN        S  \n",
       "3      0            113803  53.1000  C123        S  \n",
       "4      0            373450   8.0500   NaN        S  "
      ]
     },
     "execution_count": 6,
     "metadata": {},
     "output_type": "execute_result"
    }
   ],
   "source": [
    "train.head()"
   ]
  },
  {
   "cell_type": "code",
   "execution_count": 7,
   "id": "6d745869",
   "metadata": {},
   "outputs": [
    {
     "data": {
      "text/html": [
       "<div>\n",
       "<style scoped>\n",
       "    .dataframe tbody tr th:only-of-type {\n",
       "        vertical-align: middle;\n",
       "    }\n",
       "\n",
       "    .dataframe tbody tr th {\n",
       "        vertical-align: top;\n",
       "    }\n",
       "\n",
       "    .dataframe thead th {\n",
       "        text-align: right;\n",
       "    }\n",
       "</style>\n",
       "<table border=\"1\" class=\"dataframe\">\n",
       "  <thead>\n",
       "    <tr style=\"text-align: right;\">\n",
       "      <th></th>\n",
       "      <th>PassengerId</th>\n",
       "      <th>Pclass</th>\n",
       "      <th>Name</th>\n",
       "      <th>Sex</th>\n",
       "      <th>Age</th>\n",
       "      <th>SibSp</th>\n",
       "      <th>Parch</th>\n",
       "      <th>Ticket</th>\n",
       "      <th>Fare</th>\n",
       "      <th>Cabin</th>\n",
       "      <th>Embarked</th>\n",
       "    </tr>\n",
       "  </thead>\n",
       "  <tbody>\n",
       "    <tr>\n",
       "      <th>0</th>\n",
       "      <td>892</td>\n",
       "      <td>3</td>\n",
       "      <td>Kelly, Mr. James</td>\n",
       "      <td>male</td>\n",
       "      <td>34.5</td>\n",
       "      <td>0</td>\n",
       "      <td>0</td>\n",
       "      <td>330911</td>\n",
       "      <td>7.8292</td>\n",
       "      <td>NaN</td>\n",
       "      <td>Q</td>\n",
       "    </tr>\n",
       "    <tr>\n",
       "      <th>1</th>\n",
       "      <td>893</td>\n",
       "      <td>3</td>\n",
       "      <td>Wilkes, Mrs. James (Ellen Needs)</td>\n",
       "      <td>female</td>\n",
       "      <td>47.0</td>\n",
       "      <td>1</td>\n",
       "      <td>0</td>\n",
       "      <td>363272</td>\n",
       "      <td>7.0000</td>\n",
       "      <td>NaN</td>\n",
       "      <td>S</td>\n",
       "    </tr>\n",
       "    <tr>\n",
       "      <th>2</th>\n",
       "      <td>894</td>\n",
       "      <td>2</td>\n",
       "      <td>Myles, Mr. Thomas Francis</td>\n",
       "      <td>male</td>\n",
       "      <td>62.0</td>\n",
       "      <td>0</td>\n",
       "      <td>0</td>\n",
       "      <td>240276</td>\n",
       "      <td>9.6875</td>\n",
       "      <td>NaN</td>\n",
       "      <td>Q</td>\n",
       "    </tr>\n",
       "    <tr>\n",
       "      <th>3</th>\n",
       "      <td>895</td>\n",
       "      <td>3</td>\n",
       "      <td>Wirz, Mr. Albert</td>\n",
       "      <td>male</td>\n",
       "      <td>27.0</td>\n",
       "      <td>0</td>\n",
       "      <td>0</td>\n",
       "      <td>315154</td>\n",
       "      <td>8.6625</td>\n",
       "      <td>NaN</td>\n",
       "      <td>S</td>\n",
       "    </tr>\n",
       "    <tr>\n",
       "      <th>4</th>\n",
       "      <td>896</td>\n",
       "      <td>3</td>\n",
       "      <td>Hirvonen, Mrs. Alexander (Helga E Lindqvist)</td>\n",
       "      <td>female</td>\n",
       "      <td>22.0</td>\n",
       "      <td>1</td>\n",
       "      <td>1</td>\n",
       "      <td>3101298</td>\n",
       "      <td>12.2875</td>\n",
       "      <td>NaN</td>\n",
       "      <td>S</td>\n",
       "    </tr>\n",
       "  </tbody>\n",
       "</table>\n",
       "</div>"
      ],
      "text/plain": [
       "   PassengerId  Pclass                                          Name     Sex  \\\n",
       "0          892       3                              Kelly, Mr. James    male   \n",
       "1          893       3              Wilkes, Mrs. James (Ellen Needs)  female   \n",
       "2          894       2                     Myles, Mr. Thomas Francis    male   \n",
       "3          895       3                              Wirz, Mr. Albert    male   \n",
       "4          896       3  Hirvonen, Mrs. Alexander (Helga E Lindqvist)  female   \n",
       "\n",
       "    Age  SibSp  Parch   Ticket     Fare Cabin Embarked  \n",
       "0  34.5      0      0   330911   7.8292   NaN        Q  \n",
       "1  47.0      1      0   363272   7.0000   NaN        S  \n",
       "2  62.0      0      0   240276   9.6875   NaN        Q  \n",
       "3  27.0      0      0   315154   8.6625   NaN        S  \n",
       "4  22.0      1      1  3101298  12.2875   NaN        S  "
      ]
     },
     "execution_count": 7,
     "metadata": {},
     "output_type": "execute_result"
    }
   ],
   "source": [
    "test.head()"
   ]
  },
  {
   "cell_type": "code",
   "execution_count": 8,
   "id": "e4000731",
   "metadata": {},
   "outputs": [
    {
     "data": {
      "text/html": [
       "<div>\n",
       "<style scoped>\n",
       "    .dataframe tbody tr th:only-of-type {\n",
       "        vertical-align: middle;\n",
       "    }\n",
       "\n",
       "    .dataframe tbody tr th {\n",
       "        vertical-align: top;\n",
       "    }\n",
       "\n",
       "    .dataframe thead th {\n",
       "        text-align: right;\n",
       "    }\n",
       "</style>\n",
       "<table border=\"1\" class=\"dataframe\">\n",
       "  <thead>\n",
       "    <tr style=\"text-align: right;\">\n",
       "      <th></th>\n",
       "      <th>PassengerId</th>\n",
       "      <th>Survived</th>\n",
       "      <th>Pclass</th>\n",
       "      <th>Age</th>\n",
       "      <th>SibSp</th>\n",
       "      <th>Parch</th>\n",
       "      <th>Fare</th>\n",
       "    </tr>\n",
       "  </thead>\n",
       "  <tbody>\n",
       "    <tr>\n",
       "      <th>count</th>\n",
       "      <td>891.000000</td>\n",
       "      <td>891.000000</td>\n",
       "      <td>891.000000</td>\n",
       "      <td>714.000000</td>\n",
       "      <td>891.000000</td>\n",
       "      <td>891.000000</td>\n",
       "      <td>891.000000</td>\n",
       "    </tr>\n",
       "    <tr>\n",
       "      <th>mean</th>\n",
       "      <td>446.000000</td>\n",
       "      <td>0.383838</td>\n",
       "      <td>2.308642</td>\n",
       "      <td>29.699118</td>\n",
       "      <td>0.523008</td>\n",
       "      <td>0.381594</td>\n",
       "      <td>32.204208</td>\n",
       "    </tr>\n",
       "    <tr>\n",
       "      <th>std</th>\n",
       "      <td>257.353842</td>\n",
       "      <td>0.486592</td>\n",
       "      <td>0.836071</td>\n",
       "      <td>14.526497</td>\n",
       "      <td>1.102743</td>\n",
       "      <td>0.806057</td>\n",
       "      <td>49.693429</td>\n",
       "    </tr>\n",
       "    <tr>\n",
       "      <th>min</th>\n",
       "      <td>1.000000</td>\n",
       "      <td>0.000000</td>\n",
       "      <td>1.000000</td>\n",
       "      <td>0.420000</td>\n",
       "      <td>0.000000</td>\n",
       "      <td>0.000000</td>\n",
       "      <td>0.000000</td>\n",
       "    </tr>\n",
       "    <tr>\n",
       "      <th>25%</th>\n",
       "      <td>223.500000</td>\n",
       "      <td>0.000000</td>\n",
       "      <td>2.000000</td>\n",
       "      <td>20.125000</td>\n",
       "      <td>0.000000</td>\n",
       "      <td>0.000000</td>\n",
       "      <td>7.910400</td>\n",
       "    </tr>\n",
       "    <tr>\n",
       "      <th>50%</th>\n",
       "      <td>446.000000</td>\n",
       "      <td>0.000000</td>\n",
       "      <td>3.000000</td>\n",
       "      <td>28.000000</td>\n",
       "      <td>0.000000</td>\n",
       "      <td>0.000000</td>\n",
       "      <td>14.454200</td>\n",
       "    </tr>\n",
       "    <tr>\n",
       "      <th>75%</th>\n",
       "      <td>668.500000</td>\n",
       "      <td>1.000000</td>\n",
       "      <td>3.000000</td>\n",
       "      <td>38.000000</td>\n",
       "      <td>1.000000</td>\n",
       "      <td>0.000000</td>\n",
       "      <td>31.000000</td>\n",
       "    </tr>\n",
       "    <tr>\n",
       "      <th>max</th>\n",
       "      <td>891.000000</td>\n",
       "      <td>1.000000</td>\n",
       "      <td>3.000000</td>\n",
       "      <td>80.000000</td>\n",
       "      <td>8.000000</td>\n",
       "      <td>6.000000</td>\n",
       "      <td>512.329200</td>\n",
       "    </tr>\n",
       "  </tbody>\n",
       "</table>\n",
       "</div>"
      ],
      "text/plain": [
       "       PassengerId    Survived      Pclass         Age       SibSp  \\\n",
       "count   891.000000  891.000000  891.000000  714.000000  891.000000   \n",
       "mean    446.000000    0.383838    2.308642   29.699118    0.523008   \n",
       "std     257.353842    0.486592    0.836071   14.526497    1.102743   \n",
       "min       1.000000    0.000000    1.000000    0.420000    0.000000   \n",
       "25%     223.500000    0.000000    2.000000   20.125000    0.000000   \n",
       "50%     446.000000    0.000000    3.000000   28.000000    0.000000   \n",
       "75%     668.500000    1.000000    3.000000   38.000000    1.000000   \n",
       "max     891.000000    1.000000    3.000000   80.000000    8.000000   \n",
       "\n",
       "            Parch        Fare  \n",
       "count  891.000000  891.000000  \n",
       "mean     0.381594   32.204208  \n",
       "std      0.806057   49.693429  \n",
       "min      0.000000    0.000000  \n",
       "25%      0.000000    7.910400  \n",
       "50%      0.000000   14.454200  \n",
       "75%      0.000000   31.000000  \n",
       "max      6.000000  512.329200  "
      ]
     },
     "execution_count": 8,
     "metadata": {},
     "output_type": "execute_result"
    }
   ],
   "source": [
    "train.describe()"
   ]
  },
  {
   "cell_type": "markdown",
   "id": "77c2e2b5",
   "metadata": {},
   "source": [
    "## Checking for missing values"
   ]
  },
  {
   "cell_type": "code",
   "execution_count": 9,
   "id": "52270710",
   "metadata": {},
   "outputs": [
    {
     "data": {
      "text/plain": [
       "<AxesSubplot:>"
      ]
     },
     "execution_count": 9,
     "metadata": {},
     "output_type": "execute_result"
    },
    {
     "data": {
      "image/png": "[encoded data removed]",
      "text/plain": [
       "<Figure size 432x288 with 2 Axes>"
      ]
     },
     "metadata": {
      "needs_background": "light"
     },
     "output_type": "display_data"
    }
   ],
   "source": [
    "sns.heatmap(train.notnull(),yticklabels=False,cmap ='rocket' )"
   ]
  },
  {
   "cell_type": "markdown",
   "id": "733aa4f9",
   "metadata": {},
   "source": [
    "A lot of cabin data is missing, we can drop it.\n",
    "The missing data on age can be imputed."
   ]
  },
  {
   "cell_type": "code",
   "execution_count": 10,
   "id": "25dd4c5a",
   "metadata": {},
   "outputs": [
    {
     "data": {
      "text/plain": [
       "<AxesSubplot:>"
      ]
     },
     "execution_count": 10,
     "metadata": {},
     "output_type": "execute_result"
    },
    {
     "data": {
      "image/png": "[encoded data removed]",
      "text/plain": [
       "<Figure size 432x288 with 2 Axes>"
      ]
     },
     "metadata": {
      "needs_background": "light"
     },
     "output_type": "display_data"
    }
   ],
   "source": [
    "\n",
    "sns.heatmap(test.notnull(),yticklabels=False,cmap ='rocket' )"
   ]
  },
  {
   "cell_type": "code",
   "execution_count": 11,
   "id": "9d37273a",
   "metadata": {},
   "outputs": [],
   "source": [
    "train.drop('Cabin',axis=1,inplace=True)\n",
    "test.drop('Cabin',axis=1,inplace=True)"
   ]
  },
  {
   "cell_type": "markdown",
   "id": "af2cd0af",
   "metadata": {},
   "source": [
    "## Cleaning and Visualizing the numeric variables\n",
    "\n",
    "### Age\n"
   ]
  },
  {
   "cell_type": "code",
   "execution_count": 12,
   "id": "1dd366b7",
   "metadata": {},
   "outputs": [
    {
     "data": {
      "text/plain": [
       "<AxesSubplot:xlabel='Age', ylabel='Count'>"
      ]
     },
     "execution_count": 12,
     "metadata": {},
     "output_type": "execute_result"
    },
    {
     "data": {
      "image/png": "[encoded data removed]",
      "text/plain": [
       "<Figure size 432x288 with 1 Axes>"
      ]
     },
     "metadata": {
      "needs_background": "light"
     },
     "output_type": "display_data"
    }
   ],
   "source": [
    "sns.color_palette(\"flare\", as_cmap=True)\n",
    "sns.histplot(train.Age,palette='flare')"
   ]
  },
  {
   "cell_type": "code",
   "execution_count": 13,
   "id": "fb621073",
   "metadata": {},
   "outputs": [
    {
     "data": {
      "text/plain": [
       "<AxesSubplot:xlabel='Pclass', ylabel='Age'>"
      ]
     },
     "execution_count": 13,
     "metadata": {},
     "output_type": "execute_result"
    },
    {
     "data": {
      "image/png": "[encoded data removed]",
      "text/plain": [
       "<Figure size 432x288 with 1 Axes>"
      ]
     },
     "metadata": {
      "needs_background": "light"
     },
     "output_type": "display_data"
    }
   ],
   "source": [
    "sns.boxplot(x='Pclass',y='Age',data=train,palette='rocket_r')"
   ]
  },
  {
   "cell_type": "markdown",
   "id": "7d94e335",
   "metadata": {},
   "source": [
    "We see that age depends on the class. Elder people prefer to travel first class."
   ]
  },
  {
   "cell_type": "code",
   "execution_count": 14,
   "id": "89522813",
   "metadata": {},
   "outputs": [],
   "source": [
    "median_train = train.Age.groupby(train['Pclass']).median()"
   ]
  },
  {
   "cell_type": "code",
   "execution_count": 15,
   "id": "e8faed65",
   "metadata": {},
   "outputs": [],
   "source": [
    "median_test = test.Age.groupby(test['Pclass']).median()"
   ]
  },
  {
   "cell_type": "code",
   "execution_count": 16,
   "id": "a8326982",
   "metadata": {},
   "outputs": [
    {
     "data": {
      "text/plain": [
       "Pclass\n",
       "1    37.0\n",
       "2    29.0\n",
       "3    24.0\n",
       "Name: Age, dtype: float64"
      ]
     },
     "execution_count": 16,
     "metadata": {},
     "output_type": "execute_result"
    }
   ],
   "source": [
    "median_train"
   ]
  },
  {
   "cell_type": "code",
   "execution_count": 17,
   "id": "8b0b2758",
   "metadata": {},
   "outputs": [
    {
     "data": {
      "text/plain": [
       "Pclass\n",
       "1    42.0\n",
       "2    26.5\n",
       "3    24.0\n",
       "Name: Age, dtype: float64"
      ]
     },
     "execution_count": 17,
     "metadata": {},
     "output_type": "execute_result"
    }
   ],
   "source": [
    "median_test"
   ]
  },
  {
   "cell_type": "markdown",
   "id": "dee6f44c",
   "metadata": {},
   "source": [
    "#### Imputing Age values class wise"
   ]
  },
  {
   "cell_type": "code",
   "execution_count": 18,
   "id": "6b10dc5e",
   "metadata": {},
   "outputs": [],
   "source": [
    "def impute_train(cols):\n",
    "    Age = cols[0]\n",
    "    Pclass = cols[1]\n",
    "    \n",
    "    if pd.isnull(Age):\n",
    "\n",
    "        if Pclass == 1:\n",
    "            return 37\n",
    "\n",
    "        elif Pclass == 2:\n",
    "            return 29\n",
    "\n",
    "        else:\n",
    "            return 24\n",
    "    else:\n",
    "        return Age"
   ]
  },
  {
   "cell_type": "code",
   "execution_count": 19,
   "id": "3b92f3f6",
   "metadata": {},
   "outputs": [],
   "source": [
    "def impute_test(cols):\n",
    "    Age = cols[0]\n",
    "    Pclass = cols[1]\n",
    "    \n",
    "    if pd.isnull(Age):\n",
    "\n",
    "        if Pclass == 1:\n",
    "            return 42\n",
    "\n",
    "        elif Pclass == 2:\n",
    "            return 26.5\n",
    "\n",
    "        else:\n",
    "            return 24\n",
    "    else:\n",
    "        return Age"
   ]
  },
  {
   "cell_type": "code",
   "execution_count": 20,
   "id": "bc8d015e",
   "metadata": {},
   "outputs": [],
   "source": [
    "train['Age'] = train[['Age','Pclass']].apply(impute_train,axis=1)\n"
   ]
  },
  {
   "cell_type": "code",
   "execution_count": 21,
   "id": "f5d9e036",
   "metadata": {},
   "outputs": [],
   "source": [
    "test['Age'] = test[['Age','Pclass']].apply(impute_test,axis=1)"
   ]
  },
  {
   "cell_type": "code",
   "execution_count": 22,
   "id": "c67cf56a",
   "metadata": {},
   "outputs": [
    {
     "data": {
      "text/plain": [
       "Age\n",
       "0.42     1.0\n",
       "0.67     1.0\n",
       "0.75     1.0\n",
       "0.83     1.0\n",
       "0.92     1.0\n",
       "        ... \n",
       "70.00    0.0\n",
       "70.50    0.0\n",
       "71.00    0.0\n",
       "74.00    0.0\n",
       "80.00    1.0\n",
       "Name: Survived, Length: 88, dtype: float64"
      ]
     },
     "execution_count": 22,
     "metadata": {},
     "output_type": "execute_result"
    }
   ],
   "source": [
    "train['Survived'].groupby(train['Age']).mean()"
   ]
  },
  {
   "cell_type": "code",
   "execution_count": 23,
   "id": "e2fca7ae",
   "metadata": {},
   "outputs": [
    {
     "data": {
      "text/plain": [
       "<AxesSubplot:xlabel='Age', ylabel='Survived'>"
      ]
     },
     "execution_count": 23,
     "metadata": {},
     "output_type": "execute_result"
    },
    {
     "data": {
      "image/png": "[encoded data removed]",
      "text/plain": [
       "<Figure size 432x288 with 1 Axes>"
      ]
     },
     "metadata": {
      "needs_background": "light"
     },
     "output_type": "display_data"
    }
   ],
   "source": [
    "sns.lineplot(x='Age',y=train['Survived'].groupby(train['Age']).mean(),data=train,palette = 'Reds')"
   ]
  },
  {
   "cell_type": "markdown",
   "id": "09c9f333",
   "metadata": {},
   "source": [
    "### Fare"
   ]
  },
  {
   "cell_type": "code",
   "execution_count": 24,
   "id": "c8baf208",
   "metadata": {},
   "outputs": [
    {
     "data": {
      "text/plain": [
       "count    891.000000\n",
       "mean      32.204208\n",
       "std       49.693429\n",
       "min        0.000000\n",
       "25%        7.910400\n",
       "50%       14.454200\n",
       "75%       31.000000\n",
       "max      512.329200\n",
       "Name: Fare, dtype: float64"
      ]
     },
     "execution_count": 24,
     "metadata": {},
     "output_type": "execute_result"
    }
   ],
   "source": [
    "train.Fare.describe()"
   ]
  },
  {
   "cell_type": "code",
   "execution_count": 25,
   "id": "4e2aa5e9",
   "metadata": {},
   "outputs": [
    {
     "data": {
      "text/plain": [
       "count    417.000000\n",
       "mean      35.627188\n",
       "std       55.907576\n",
       "min        0.000000\n",
       "25%        7.895800\n",
       "50%       14.454200\n",
       "75%       31.500000\n",
       "max      512.329200\n",
       "Name: Fare, dtype: float64"
      ]
     },
     "execution_count": 25,
     "metadata": {},
     "output_type": "execute_result"
    }
   ],
   "source": [
    "test.Fare.describe()"
   ]
  },
  {
   "cell_type": "markdown",
   "id": "3a0438e8",
   "metadata": {},
   "source": [
    "Only 1 datapoint of fare is missing"
   ]
  },
  {
   "cell_type": "code",
   "execution_count": 26,
   "id": "2052b8ba",
   "metadata": {},
   "outputs": [],
   "source": [
    "test['Fare']=test.Fare.fillna(test.Fare.median())"
   ]
  },
  {
   "cell_type": "code",
   "execution_count": 27,
   "id": "d24a8767",
   "metadata": {},
   "outputs": [
    {
     "data": {
      "text/plain": [
       "32.2042079685746"
      ]
     },
     "execution_count": 27,
     "metadata": {},
     "output_type": "execute_result"
    }
   ],
   "source": [
    "train.Fare.mean()"
   ]
  },
  {
   "cell_type": "code",
   "execution_count": 28,
   "id": "e155c8c7",
   "metadata": {},
   "outputs": [
    {
     "data": {
      "text/plain": [
       "Pclass\n",
       "1    84.154687\n",
       "2    20.662183\n",
       "3    13.675550\n",
       "Name: Fare, dtype: float64"
      ]
     },
     "execution_count": 28,
     "metadata": {},
     "output_type": "execute_result"
    }
   ],
   "source": [
    "median_fare = train['Fare'].groupby(train['Pclass']).mean()\n",
    "median_fare"
   ]
  },
  {
   "cell_type": "code",
   "execution_count": 29,
   "id": "18dae0b7",
   "metadata": {},
   "outputs": [
    {
     "data": {
      "text/plain": [
       "<AxesSubplot:xlabel='Pclass', ylabel='Fare'>"
      ]
     },
     "execution_count": 29,
     "metadata": {},
     "output_type": "execute_result"
    },
    {
     "data": {
      "image/png": "[encoded data removed]",
      "text/plain": [
       "<Figure size 432x288 with 1 Axes>"
      ]
     },
     "metadata": {
      "needs_background": "light"
     },
     "output_type": "display_data"
    }
   ],
   "source": [
    "sns.boxplot(x='Pclass',y='Fare',data=train,palette='rocket_r')"
   ]
  },
  {
   "cell_type": "code",
   "execution_count": 30,
   "id": "a8f8d153",
   "metadata": {},
   "outputs": [],
   "source": [
    "train.drop(train[train['Fare'] > 500].index, inplace = True)"
   ]
  },
  {
   "cell_type": "code",
   "execution_count": 31,
   "id": "8266e389",
   "metadata": {},
   "outputs": [
    {
     "data": {
      "text/plain": [
       "<AxesSubplot:xlabel='Fare', ylabel='Count'>"
      ]
     },
     "execution_count": 31,
     "metadata": {},
     "output_type": "execute_result"
    },
    {
     "data": {
      "image/png": "[encoded data removed]",
      "text/plain": [
       "<Figure size 864x504 with 1 Axes>"
      ]
     },
     "metadata": {
      "needs_background": "light"
     },
     "output_type": "display_data"
    }
   ],
   "source": [
    "plt.figure(figsize=(12,7))\n",
    "sns.histplot(train.Fare)"
   ]
  },
  {
   "cell_type": "markdown",
   "id": "0dc7c782",
   "metadata": {},
   "source": [
    "### PClass"
   ]
  },
  {
   "cell_type": "code",
   "execution_count": 32,
   "id": "aea204cf",
   "metadata": {},
   "outputs": [
    {
     "data": {
      "text/plain": [
       "<AxesSubplot:xlabel='Survived', ylabel='count'>"
      ]
     },
     "execution_count": 32,
     "metadata": {},
     "output_type": "execute_result"
    },
    {
     "data": {
      "image/png": "[encoded data removed]",
      "text/plain": [
       "<Figure size 432x288 with 1 Axes>"
      ]
     },
     "metadata": {
      "needs_background": "light"
     },
     "output_type": "display_data"
    }
   ],
   "source": [
    "sns.countplot(x='Survived',data=train,hue='Pclass',palette='rocket_r')"
   ]
  },
  {
   "cell_type": "code",
   "execution_count": 33,
   "id": "99ebe1e8",
   "metadata": {},
   "outputs": [
    {
     "data": {
      "text/plain": [
       "Pclass\n",
       "1    0.624413\n",
       "2    0.472826\n",
       "3    0.242363\n",
       "Name: Survived, dtype: float64"
      ]
     },
     "execution_count": 33,
     "metadata": {},
     "output_type": "execute_result"
    }
   ],
   "source": [
    "train['Survived'].groupby(train['Pclass']).mean()"
   ]
  },
  {
   "cell_type": "markdown",
   "id": "f7b7bf19",
   "metadata": {},
   "source": [
    "3rd Class have lesser chance of survival comparatively. \n",
    "\n"
   ]
  },
  {
   "cell_type": "markdown",
   "id": "0a5f021c",
   "metadata": {},
   "source": [
    "### Travelling alone or with relatives\n",
    "\n",
    "We will combine Siblings and Parents columns."
   ]
  },
  {
   "cell_type": "code",
   "execution_count": 34,
   "id": "1673b28b",
   "metadata": {},
   "outputs": [
    {
     "data": {
      "text/plain": [
       "Yes    535\n",
       "No     353\n",
       "Name: Travelled_alone, dtype: int64"
      ]
     },
     "execution_count": 34,
     "metadata": {},
     "output_type": "execute_result"
    }
   ],
   "source": [
    "data = [train, test]\n",
    "for dataset in data:\n",
    "    dataset['relatives'] = dataset['SibSp'] + dataset['Parch']\n",
    "    dataset.loc[dataset['relatives'] > 0, 'Travelled_alone'] = 'No'\n",
    "    dataset.loc[dataset['relatives'] == 0, 'Travelled_alone'] = 'Yes'\n",
    "    \n",
    "train['Travelled_alone'].value_counts()"
   ]
  },
  {
   "cell_type": "code",
   "execution_count": 35,
   "id": "5a3904cb",
   "metadata": {},
   "outputs": [
    {
     "data": {
      "text/plain": [
       "Yes    253\n",
       "No     165\n",
       "Name: Travelled_alone, dtype: int64"
      ]
     },
     "execution_count": 35,
     "metadata": {},
     "output_type": "execute_result"
    }
   ],
   "source": [
    "test['Travelled_alone'].value_counts()"
   ]
  },
  {
   "cell_type": "code",
   "execution_count": 36,
   "id": "78b68f73",
   "metadata": {},
   "outputs": [
    {
     "data": {
      "text/plain": [
       "<AxesSubplot:xlabel='Survived', ylabel='count'>"
      ]
     },
     "execution_count": 36,
     "metadata": {},
     "output_type": "execute_result"
    },
    {
     "data": {
      "image/png": "[encoded data removed]",
      "text/plain": [
       "<Figure size 432x288 with 1 Axes>"
      ]
     },
     "metadata": {
      "needs_background": "light"
     },
     "output_type": "display_data"
    }
   ],
   "source": [
    "sns.countplot(x='Survived',data=train,hue=\"Travelled_alone\",palette='rocket_r')"
   ]
  },
  {
   "cell_type": "code",
   "execution_count": 37,
   "id": "0154a7d7",
   "metadata": {},
   "outputs": [
    {
     "data": {
      "text/plain": [
       "Travelled_alone\n",
       "No     0.504249\n",
       "Yes    0.300935\n",
       "Name: Survived, dtype: float64"
      ]
     },
     "execution_count": 37,
     "metadata": {},
     "output_type": "execute_result"
    }
   ],
   "source": [
    "train['Survived'].groupby(train['Travelled_alone']).mean()"
   ]
  },
  {
   "cell_type": "code",
   "execution_count": 38,
   "id": "5df35c30",
   "metadata": {},
   "outputs": [],
   "source": [
    "def f(x, term):\n",
    "    if x == term:\n",
    "        return 1\n",
    "    else:\n",
    "        return 0"
   ]
  },
  {
   "cell_type": "code",
   "execution_count": 39,
   "id": "9104b70f",
   "metadata": {},
   "outputs": [],
   "source": [
    "train['Travelled_alone'] = train.Travelled_alone.apply(lambda x: f(x, term='Yes'))\n",
    "test['Travelled_alone'] = test.Travelled_alone.apply(lambda x: f(x, term='Yes'))"
   ]
  },
  {
   "cell_type": "markdown",
   "id": "d7bfe89f",
   "metadata": {},
   "source": [
    "## Checking the balance in data"
   ]
  },
  {
   "cell_type": "code",
   "execution_count": 40,
   "id": "ffcc6295",
   "metadata": {},
   "outputs": [
    {
     "data": {
      "text/plain": [
       "<AxesSubplot:xlabel='Survived', ylabel='count'>"
      ]
     },
     "execution_count": 40,
     "metadata": {},
     "output_type": "execute_result"
    },
    {
     "data": {
      "image/png": "[encoded data removed]",
      "text/plain": [
       "<Figure size 432x288 with 1 Axes>"
      ]
     },
     "metadata": {
      "needs_background": "light"
     },
     "output_type": "display_data"
    }
   ],
   "source": [
    "sns.countplot(x='Survived',data=train,palette='rocket_r')"
   ]
  },
  {
   "cell_type": "markdown",
   "id": "ab7b87c1",
   "metadata": {},
   "source": [
    "## Feature Engineering for Categorical Variables"
   ]
  },
  {
   "cell_type": "markdown",
   "id": "dc60f3a2",
   "metadata": {},
   "source": [
    "### Sex\n",
    "\n",
    "We check whether survival depends upon gender or not.\n"
   ]
  },
  {
   "cell_type": "code",
   "execution_count": 41,
   "id": "7537262b",
   "metadata": {},
   "outputs": [
    {
     "data": {
      "text/plain": [
       "<AxesSubplot:xlabel='Survived', ylabel='count'>"
      ]
     },
     "execution_count": 41,
     "metadata": {},
     "output_type": "execute_result"
    },
    {
     "data": {
      "image/png": "[encoded data removed]",
      "text/plain": [
       "<Figure size 432x288 with 1 Axes>"
      ]
     },
     "metadata": {
      "needs_background": "light"
     },
     "output_type": "display_data"
    }
   ],
   "source": [
    "sns.countplot(x='Survived',data=train,hue=\"Sex\",palette='rocket_r')"
   ]
  },
  {
   "cell_type": "code",
   "execution_count": 42,
   "id": "e6b7b31e",
   "metadata": {},
   "outputs": [
    {
     "data": {
      "text/plain": [
       "Sex\n",
       "female    0.741214\n",
       "male      0.186087\n",
       "Name: Survived, dtype: float64"
      ]
     },
     "execution_count": 42,
     "metadata": {},
     "output_type": "execute_result"
    }
   ],
   "source": [
    "train['Survived'].groupby(train['Sex']).mean()"
   ]
  },
  {
   "cell_type": "markdown",
   "id": "3f0e9551",
   "metadata": {},
   "source": [
    "Females had a better chance of survival.\n",
    "\n"
   ]
  },
  {
   "cell_type": "code",
   "execution_count": 43,
   "id": "919b4543",
   "metadata": {},
   "outputs": [
    {
     "data": {
      "text/plain": [
       "male      575\n",
       "female    313\n",
       "Name: Sex, dtype: int64"
      ]
     },
     "execution_count": 43,
     "metadata": {},
     "output_type": "execute_result"
    }
   ],
   "source": [
    "train['Sex'].value_counts()"
   ]
  },
  {
   "cell_type": "code",
   "execution_count": 44,
   "id": "8fb420e8",
   "metadata": {},
   "outputs": [
    {
     "data": {
      "text/plain": [
       "male      266\n",
       "female    152\n",
       "Name: Sex, dtype: int64"
      ]
     },
     "execution_count": 44,
     "metadata": {},
     "output_type": "execute_result"
    }
   ],
   "source": [
    "test['Sex'].value_counts()"
   ]
  },
  {
   "cell_type": "code",
   "execution_count": 45,
   "id": "93c39963",
   "metadata": {},
   "outputs": [],
   "source": [
    "def f(x, term):\n",
    "    if x == term:\n",
    "        return 1\n",
    "    else:\n",
    "        return 0"
   ]
  },
  {
   "cell_type": "code",
   "execution_count": 46,
   "id": "7d14ba93",
   "metadata": {},
   "outputs": [],
   "source": [
    "train['male'] = train.Sex.apply(lambda x: f(x, term='male'))\n",
    "test['male'] = test.Sex.apply(lambda x: f(x, term='male'))"
   ]
  },
  {
   "cell_type": "code",
   "execution_count": 47,
   "id": "b97edd42",
   "metadata": {},
   "outputs": [],
   "source": [
    "train['female'] = train.Sex.apply(lambda x: f(x, term='female'))\n",
    "test['female'] = test.Sex.apply(lambda x: f(x, term='female'))"
   ]
  },
  {
   "cell_type": "code",
   "execution_count": 48,
   "id": "1760562f",
   "metadata": {},
   "outputs": [],
   "source": [
    "train.drop(['Sex'],axis=1,inplace=True)\n",
    "test.drop(['Sex'],axis=1,inplace=True)"
   ]
  },
  {
   "cell_type": "markdown",
   "id": "ada3efc2",
   "metadata": {},
   "source": [
    "### Embarked\n",
    "\n",
    "The passengers had 3 embark points, denoted by S, Q and C."
   ]
  },
  {
   "cell_type": "code",
   "execution_count": 49,
   "id": "e8d8b503",
   "metadata": {},
   "outputs": [
    {
     "data": {
      "text/plain": [
       "S    644\n",
       "C    165\n",
       "Q     77\n",
       "Name: Embarked, dtype: int64"
      ]
     },
     "execution_count": 49,
     "metadata": {},
     "output_type": "execute_result"
    }
   ],
   "source": [
    "train['Embarked'].value_counts()"
   ]
  },
  {
   "cell_type": "code",
   "execution_count": 50,
   "id": "5e36b3ea",
   "metadata": {},
   "outputs": [
    {
     "data": {
      "text/plain": [
       "S    270\n",
       "C    102\n",
       "Q     46\n",
       "Name: Embarked, dtype: int64"
      ]
     },
     "execution_count": 50,
     "metadata": {},
     "output_type": "execute_result"
    }
   ],
   "source": [
    "test['Embarked'].value_counts()"
   ]
  },
  {
   "cell_type": "code",
   "execution_count": 51,
   "id": "e149d944",
   "metadata": {},
   "outputs": [
    {
     "data": {
      "text/plain": [
       "<AxesSubplot:xlabel='Survived', ylabel='count'>"
      ]
     },
     "execution_count": 51,
     "metadata": {},
     "output_type": "execute_result"
    },
    {
     "data": {
      "image/png": "[encoded data removed]",
      "text/plain": [
       "<Figure size 432x288 with 1 Axes>"
      ]
     },
     "metadata": {
      "needs_background": "light"
     },
     "output_type": "display_data"
    }
   ],
   "source": [
    "sns.countplot(x='Survived',data=train,hue=\"Embarked\",palette='rocket_r')"
   ]
  },
  {
   "cell_type": "markdown",
   "id": "76c65b96",
   "metadata": {},
   "source": [
    "There seems to be a clear trend of Southampton passengers having higher chance of survival"
   ]
  },
  {
   "cell_type": "code",
   "execution_count": 52,
   "id": "5c49be8b",
   "metadata": {},
   "outputs": [
    {
     "data": {
      "text/plain": [
       "Embarked\n",
       "C    0.545455\n",
       "Q    0.389610\n",
       "S    0.336957\n",
       "Name: Survived, dtype: float64"
      ]
     },
     "execution_count": 52,
     "metadata": {},
     "output_type": "execute_result"
    }
   ],
   "source": [
    "train['Survived'].groupby(train['Embarked']).mean()"
   ]
  },
  {
   "cell_type": "code",
   "execution_count": 53,
   "id": "b7a044c7",
   "metadata": {},
   "outputs": [],
   "source": [
    "train['EmbarkedS'] = train.Embarked.apply(lambda x: f(x, term='S'))\n",
    "test['EmbarkedS'] = test.Embarked.apply(lambda x: f(x, term='S'))"
   ]
  },
  {
   "cell_type": "code",
   "execution_count": 54,
   "id": "0967387d",
   "metadata": {},
   "outputs": [],
   "source": [
    "train['EmbarkedC'] = train.Embarked.apply(lambda x: f(x, term='C'))\n",
    "test['EmbarkedC'] = test.Embarked.apply(lambda x: f(x, term='C'))"
   ]
  },
  {
   "cell_type": "code",
   "execution_count": 55,
   "id": "079522f4",
   "metadata": {},
   "outputs": [],
   "source": [
    "train['EmbarkedQ'] = train.Embarked.apply(lambda x: f(x, term='Q'))\n",
    "test['EmbarkedQ'] = test.Embarked.apply(lambda x: f(x, term='Q'))"
   ]
  },
  {
   "cell_type": "code",
   "execution_count": 56,
   "id": "80c74059",
   "metadata": {},
   "outputs": [],
   "source": [
    "train.drop([\"Embarked\"],axis=1, inplace=True)\n",
    "test.drop([\"Embarked\"],axis=1, inplace=True)"
   ]
  },
  {
   "cell_type": "markdown",
   "id": "2ce500fb",
   "metadata": {},
   "source": [
    "There is no point in keeping Name and Ticket"
   ]
  },
  {
   "cell_type": "code",
   "execution_count": 57,
   "id": "97088afa",
   "metadata": {},
   "outputs": [],
   "source": [
    "train.drop(['Name','Ticket'],axis=1,inplace=True)\n",
    "test.drop(['Name','Ticket'],axis=1,inplace=True)"
   ]
  },
  {
   "cell_type": "code",
   "execution_count": 58,
   "id": "dd0d43b9",
   "metadata": {},
   "outputs": [
    {
     "data": {
      "text/html": [
       "<div>\n",
       "<style scoped>\n",
       "    .dataframe tbody tr th:only-of-type {\n",
       "        vertical-align: middle;\n",
       "    }\n",
       "\n",
       "    .dataframe tbody tr th {\n",
       "        vertical-align: top;\n",
       "    }\n",
       "\n",
       "    .dataframe thead th {\n",
       "        text-align: right;\n",
       "    }\n",
       "</style>\n",
       "<table border=\"1\" class=\"dataframe\">\n",
       "  <thead>\n",
       "    <tr style=\"text-align: right;\">\n",
       "      <th></th>\n",
       "      <th>PassengerId</th>\n",
       "      <th>Survived</th>\n",
       "      <th>Pclass</th>\n",
       "      <th>Age</th>\n",
       "      <th>SibSp</th>\n",
       "      <th>Parch</th>\n",
       "      <th>Fare</th>\n",
       "      <th>relatives</th>\n",
       "      <th>Travelled_alone</th>\n",
       "      <th>male</th>\n",
       "      <th>female</th>\n",
       "      <th>EmbarkedS</th>\n",
       "      <th>EmbarkedC</th>\n",
       "      <th>EmbarkedQ</th>\n",
       "    </tr>\n",
       "  </thead>\n",
       "  <tbody>\n",
       "    <tr>\n",
       "      <th>0</th>\n",
       "      <td>1</td>\n",
       "      <td>0</td>\n",
       "      <td>3</td>\n",
       "      <td>22.0</td>\n",
       "      <td>1</td>\n",
       "      <td>0</td>\n",
       "      <td>7.2500</td>\n",
       "      <td>1</td>\n",
       "      <td>0</td>\n",
       "      <td>1</td>\n",
       "      <td>0</td>\n",
       "      <td>1</td>\n",
       "      <td>0</td>\n",
       "      <td>0</td>\n",
       "    </tr>\n",
       "    <tr>\n",
       "      <th>1</th>\n",
       "      <td>2</td>\n",
       "      <td>1</td>\n",
       "      <td>1</td>\n",
       "      <td>38.0</td>\n",
       "      <td>1</td>\n",
       "      <td>0</td>\n",
       "      <td>71.2833</td>\n",
       "      <td>1</td>\n",
       "      <td>0</td>\n",
       "      <td>0</td>\n",
       "      <td>1</td>\n",
       "      <td>0</td>\n",
       "      <td>1</td>\n",
       "      <td>0</td>\n",
       "    </tr>\n",
       "    <tr>\n",
       "      <th>2</th>\n",
       "      <td>3</td>\n",
       "      <td>1</td>\n",
       "      <td>3</td>\n",
       "      <td>26.0</td>\n",
       "      <td>0</td>\n",
       "      <td>0</td>\n",
       "      <td>7.9250</td>\n",
       "      <td>0</td>\n",
       "      <td>1</td>\n",
       "      <td>0</td>\n",
       "      <td>1</td>\n",
       "      <td>1</td>\n",
       "      <td>0</td>\n",
       "      <td>0</td>\n",
       "    </tr>\n",
       "    <tr>\n",
       "      <th>3</th>\n",
       "      <td>4</td>\n",
       "      <td>1</td>\n",
       "      <td>1</td>\n",
       "      <td>35.0</td>\n",
       "      <td>1</td>\n",
       "      <td>0</td>\n",
       "      <td>53.1000</td>\n",
       "      <td>1</td>\n",
       "      <td>0</td>\n",
       "      <td>0</td>\n",
       "      <td>1</td>\n",
       "      <td>1</td>\n",
       "      <td>0</td>\n",
       "      <td>0</td>\n",
       "    </tr>\n",
       "    <tr>\n",
       "      <th>4</th>\n",
       "      <td>5</td>\n",
       "      <td>0</td>\n",
       "      <td>3</td>\n",
       "      <td>35.0</td>\n",
       "      <td>0</td>\n",
       "      <td>0</td>\n",
       "      <td>8.0500</td>\n",
       "      <td>0</td>\n",
       "      <td>1</td>\n",
       "      <td>1</td>\n",
       "      <td>0</td>\n",
       "      <td>1</td>\n",
       "      <td>0</td>\n",
       "      <td>0</td>\n",
       "    </tr>\n",
       "  </tbody>\n",
       "</table>\n",
       "</div>"
      ],
      "text/plain": [
       "   PassengerId  Survived  Pclass   Age  SibSp  Parch     Fare  relatives  \\\n",
       "0            1         0       3  22.0      1      0   7.2500          1   \n",
       "1            2         1       1  38.0      1      0  71.2833          1   \n",
       "2            3         1       3  26.0      0      0   7.9250          0   \n",
       "3            4         1       1  35.0      1      0  53.1000          1   \n",
       "4            5         0       3  35.0      0      0   8.0500          0   \n",
       "\n",
       "   Travelled_alone  male  female  EmbarkedS  EmbarkedC  EmbarkedQ  \n",
       "0                0     1       0          1          0          0  \n",
       "1                0     0       1          0          1          0  \n",
       "2                1     0       1          1          0          0  \n",
       "3                0     0       1          1          0          0  \n",
       "4                1     1       0          1          0          0  "
      ]
     },
     "execution_count": 58,
     "metadata": {},
     "output_type": "execute_result"
    }
   ],
   "source": [
    "train.head()"
   ]
  },
  {
   "cell_type": "code",
   "execution_count": 59,
   "id": "83333bd7",
   "metadata": {},
   "outputs": [
    {
     "data": {
      "text/html": [
       "<div>\n",
       "<style scoped>\n",
       "    .dataframe tbody tr th:only-of-type {\n",
       "        vertical-align: middle;\n",
       "    }\n",
       "\n",
       "    .dataframe tbody tr th {\n",
       "        vertical-align: top;\n",
       "    }\n",
       "\n",
       "    .dataframe thead th {\n",
       "        text-align: right;\n",
       "    }\n",
       "</style>\n",
       "<table border=\"1\" class=\"dataframe\">\n",
       "  <thead>\n",
       "    <tr style=\"text-align: right;\">\n",
       "      <th></th>\n",
       "      <th>PassengerId</th>\n",
       "      <th>Pclass</th>\n",
       "      <th>Age</th>\n",
       "      <th>SibSp</th>\n",
       "      <th>Parch</th>\n",
       "      <th>Fare</th>\n",
       "      <th>relatives</th>\n",
       "      <th>Travelled_alone</th>\n",
       "      <th>male</th>\n",
       "      <th>female</th>\n",
       "      <th>EmbarkedS</th>\n",
       "      <th>EmbarkedC</th>\n",
       "      <th>EmbarkedQ</th>\n",
       "    </tr>\n",
       "  </thead>\n",
       "  <tbody>\n",
       "    <tr>\n",
       "      <th>0</th>\n",
       "      <td>892</td>\n",
       "      <td>3</td>\n",
       "      <td>34.5</td>\n",
       "      <td>0</td>\n",
       "      <td>0</td>\n",
       "      <td>7.8292</td>\n",
       "      <td>0</td>\n",
       "      <td>1</td>\n",
       "      <td>1</td>\n",
       "      <td>0</td>\n",
       "      <td>0</td>\n",
       "      <td>0</td>\n",
       "      <td>1</td>\n",
       "    </tr>\n",
       "    <tr>\n",
       "      <th>1</th>\n",
       "      <td>893</td>\n",
       "      <td>3</td>\n",
       "      <td>47.0</td>\n",
       "      <td>1</td>\n",
       "      <td>0</td>\n",
       "      <td>7.0000</td>\n",
       "      <td>1</td>\n",
       "      <td>0</td>\n",
       "      <td>0</td>\n",
       "      <td>1</td>\n",
       "      <td>1</td>\n",
       "      <td>0</td>\n",
       "      <td>0</td>\n",
       "    </tr>\n",
       "    <tr>\n",
       "      <th>2</th>\n",
       "      <td>894</td>\n",
       "      <td>2</td>\n",
       "      <td>62.0</td>\n",
       "      <td>0</td>\n",
       "      <td>0</td>\n",
       "      <td>9.6875</td>\n",
       "      <td>0</td>\n",
       "      <td>1</td>\n",
       "      <td>1</td>\n",
       "      <td>0</td>\n",
       "      <td>0</td>\n",
       "      <td>0</td>\n",
       "      <td>1</td>\n",
       "    </tr>\n",
       "    <tr>\n",
       "      <th>3</th>\n",
       "      <td>895</td>\n",
       "      <td>3</td>\n",
       "      <td>27.0</td>\n",
       "      <td>0</td>\n",
       "      <td>0</td>\n",
       "      <td>8.6625</td>\n",
       "      <td>0</td>\n",
       "      <td>1</td>\n",
       "      <td>1</td>\n",
       "      <td>0</td>\n",
       "      <td>1</td>\n",
       "      <td>0</td>\n",
       "      <td>0</td>\n",
       "    </tr>\n",
       "    <tr>\n",
       "      <th>4</th>\n",
       "      <td>896</td>\n",
       "      <td>3</td>\n",
       "      <td>22.0</td>\n",
       "      <td>1</td>\n",
       "      <td>1</td>\n",
       "      <td>12.2875</td>\n",
       "      <td>2</td>\n",
       "      <td>0</td>\n",
       "      <td>0</td>\n",
       "      <td>1</td>\n",
       "      <td>1</td>\n",
       "      <td>0</td>\n",
       "      <td>0</td>\n",
       "    </tr>\n",
       "  </tbody>\n",
       "</table>\n",
       "</div>"
      ],
      "text/plain": [
       "   PassengerId  Pclass   Age  SibSp  Parch     Fare  relatives  \\\n",
       "0          892       3  34.5      0      0   7.8292          0   \n",
       "1          893       3  47.0      1      0   7.0000          1   \n",
       "2          894       2  62.0      0      0   9.6875          0   \n",
       "3          895       3  27.0      0      0   8.6625          0   \n",
       "4          896       3  22.0      1      1  12.2875          2   \n",
       "\n",
       "   Travelled_alone  male  female  EmbarkedS  EmbarkedC  EmbarkedQ  \n",
       "0                1     1       0          0          0          1  \n",
       "1                0     0       1          1          0          0  \n",
       "2                1     1       0          0          0          1  \n",
       "3                1     1       0          1          0          0  \n",
       "4                0     0       1          1          0          0  "
      ]
     },
     "execution_count": 59,
     "metadata": {},
     "output_type": "execute_result"
    }
   ],
   "source": [
    "test.head()"
   ]
  },
  {
   "cell_type": "markdown",
   "id": "61fcd9bb",
   "metadata": {},
   "source": [
    "## Correlation Check"
   ]
  },
  {
   "cell_type": "code",
   "execution_count": 60,
   "id": "b107d63e",
   "metadata": {},
   "outputs": [],
   "source": [
    "train.drop(['SibSp','Parch'],axis=1,inplace=True)\n",
    "test.drop(['SibSp','Parch'],axis=1,inplace=True)"
   ]
  },
  {
   "cell_type": "code",
   "execution_count": 61,
   "id": "a6b9e4a3",
   "metadata": {},
   "outputs": [
    {
     "data": {
      "image/png": "[encoded data removed]",
      "text/plain": [
       "<Figure size 576x360 with 2 Axes>"
      ]
     },
     "metadata": {
      "needs_background": "light"
     },
     "output_type": "display_data"
    }
   ],
   "source": [
    "Selected_features = ['Age', 'Pclass', 'Fare', 'relatives', 'EmbarkedC','Travelled_alone',\n",
    "                     'EmbarkedS', 'male', 'PassengerId','EmbarkedQ']\n",
    "P = train[Selected_features]\n",
    "\n",
    "plt.subplots(figsize=(8, 5))\n",
    "sns.heatmap(P.corr(), annot=True, cmap=\"rocket\")\n",
    "plt.show()"
   ]
  },
  {
   "cell_type": "markdown",
   "id": "e062a777",
   "metadata": {},
   "source": [
    "No high correlation is witnessed among our variables"
   ]
  },
  {
   "cell_type": "markdown",
   "id": "9da1a19f",
   "metadata": {},
   "source": [
    "## Scaling the Data\n",
    "\n",
    "Logistic Regression works better on scaled data"
   ]
  },
  {
   "cell_type": "code",
   "execution_count": 62,
   "id": "4a705e43",
   "metadata": {},
   "outputs": [],
   "source": [
    "from sklearn.preprocessing import StandardScaler"
   ]
  },
  {
   "cell_type": "code",
   "execution_count": 63,
   "id": "ca70b42e",
   "metadata": {},
   "outputs": [
    {
     "data": {
      "text/plain": [
       "['PassengerId',\n",
       " 'Survived',\n",
       " 'Pclass',\n",
       " 'Age',\n",
       " 'Fare',\n",
       " 'relatives',\n",
       " 'Travelled_alone',\n",
       " 'male',\n",
       " 'female',\n",
       " 'EmbarkedS',\n",
       " 'EmbarkedC',\n",
       " 'EmbarkedQ']"
      ]
     },
     "execution_count": 63,
     "metadata": {},
     "output_type": "execute_result"
    }
   ],
   "source": [
    "train_numerical_features = list(train.select_dtypes(include=['int64', 'float64', 'int32']).columns)\n",
    "train_numerical_features"
   ]
  },
  {
   "cell_type": "code",
   "execution_count": 64,
   "id": "0eaf0506",
   "metadata": {},
   "outputs": [
    {
     "data": {
      "text/plain": [
       "['Pclass',\n",
       " 'Age',\n",
       " 'Fare',\n",
       " 'relatives',\n",
       " 'Travelled_alone',\n",
       " 'male',\n",
       " 'female',\n",
       " 'EmbarkedS',\n",
       " 'EmbarkedC',\n",
       " 'EmbarkedQ']"
      ]
     },
     "execution_count": 64,
     "metadata": {},
     "output_type": "execute_result"
    }
   ],
   "source": [
    "del train_numerical_features[0:2]\n",
    "train_numerical_features"
   ]
  },
  {
   "cell_type": "code",
   "execution_count": 65,
   "id": "ea4164b0",
   "metadata": {},
   "outputs": [],
   "source": [
    "scaler = StandardScaler()\n",
    "train = pd.DataFrame(data = train)\n",
    "train[train_numerical_features] = scaler.fit_transform(train[train_numerical_features])"
   ]
  },
  {
   "cell_type": "code",
   "execution_count": 66,
   "id": "98fc0bdd",
   "metadata": {},
   "outputs": [
    {
     "data": {
      "text/html": [
       "<div>\n",
       "<style scoped>\n",
       "    .dataframe tbody tr th:only-of-type {\n",
       "        vertical-align: middle;\n",
       "    }\n",
       "\n",
       "    .dataframe tbody tr th {\n",
       "        vertical-align: top;\n",
       "    }\n",
       "\n",
       "    .dataframe thead th {\n",
       "        text-align: right;\n",
       "    }\n",
       "</style>\n",
       "<table border=\"1\" class=\"dataframe\">\n",
       "  <thead>\n",
       "    <tr style=\"text-align: right;\">\n",
       "      <th></th>\n",
       "      <th>PassengerId</th>\n",
       "      <th>Survived</th>\n",
       "      <th>Pclass</th>\n",
       "      <th>Age</th>\n",
       "      <th>Fare</th>\n",
       "      <th>relatives</th>\n",
       "      <th>Travelled_alone</th>\n",
       "      <th>male</th>\n",
       "      <th>female</th>\n",
       "      <th>EmbarkedS</th>\n",
       "      <th>EmbarkedC</th>\n",
       "      <th>EmbarkedQ</th>\n",
       "    </tr>\n",
       "  </thead>\n",
       "  <tbody>\n",
       "    <tr>\n",
       "      <th>0</th>\n",
       "      <td>1</td>\n",
       "      <td>0</td>\n",
       "      <td>0.824123</td>\n",
       "      <td>-0.531540</td>\n",
       "      <td>-0.566959</td>\n",
       "      <td>0.057886</td>\n",
       "      <td>-1.231089</td>\n",
       "      <td>0.737799</td>\n",
       "      <td>-0.737799</td>\n",
       "      <td>0.615534</td>\n",
       "      <td>-0.477719</td>\n",
       "      <td>-0.308131</td>\n",
       "    </tr>\n",
       "    <tr>\n",
       "      <th>1</th>\n",
       "      <td>2</td>\n",
       "      <td>1</td>\n",
       "      <td>-1.575290</td>\n",
       "      <td>0.675607</td>\n",
       "      <td>0.989016</td>\n",
       "      <td>0.057886</td>\n",
       "      <td>-1.231089</td>\n",
       "      <td>-1.355382</td>\n",
       "      <td>1.355382</td>\n",
       "      <td>-1.624606</td>\n",
       "      <td>2.093279</td>\n",
       "      <td>-0.308131</td>\n",
       "    </tr>\n",
       "    <tr>\n",
       "      <th>2</th>\n",
       "      <td>3</td>\n",
       "      <td>1</td>\n",
       "      <td>0.824123</td>\n",
       "      <td>-0.229753</td>\n",
       "      <td>-0.550557</td>\n",
       "      <td>-0.561424</td>\n",
       "      <td>0.812289</td>\n",
       "      <td>-1.355382</td>\n",
       "      <td>1.355382</td>\n",
       "      <td>0.615534</td>\n",
       "      <td>-0.477719</td>\n",
       "      <td>-0.308131</td>\n",
       "    </tr>\n",
       "    <tr>\n",
       "      <th>3</th>\n",
       "      <td>4</td>\n",
       "      <td>1</td>\n",
       "      <td>-1.575290</td>\n",
       "      <td>0.449267</td>\n",
       "      <td>0.547171</td>\n",
       "      <td>0.057886</td>\n",
       "      <td>-1.231089</td>\n",
       "      <td>-1.355382</td>\n",
       "      <td>1.355382</td>\n",
       "      <td>0.615534</td>\n",
       "      <td>-0.477719</td>\n",
       "      <td>-0.308131</td>\n",
       "    </tr>\n",
       "    <tr>\n",
       "      <th>4</th>\n",
       "      <td>5</td>\n",
       "      <td>0</td>\n",
       "      <td>0.824123</td>\n",
       "      <td>0.449267</td>\n",
       "      <td>-0.547519</td>\n",
       "      <td>-0.561424</td>\n",
       "      <td>0.812289</td>\n",
       "      <td>0.737799</td>\n",
       "      <td>-0.737799</td>\n",
       "      <td>0.615534</td>\n",
       "      <td>-0.477719</td>\n",
       "      <td>-0.308131</td>\n",
       "    </tr>\n",
       "    <tr>\n",
       "      <th>...</th>\n",
       "      <td>...</td>\n",
       "      <td>...</td>\n",
       "      <td>...</td>\n",
       "      <td>...</td>\n",
       "      <td>...</td>\n",
       "      <td>...</td>\n",
       "      <td>...</td>\n",
       "      <td>...</td>\n",
       "      <td>...</td>\n",
       "      <td>...</td>\n",
       "      <td>...</td>\n",
       "      <td>...</td>\n",
       "    </tr>\n",
       "    <tr>\n",
       "      <th>886</th>\n",
       "      <td>887</td>\n",
       "      <td>0</td>\n",
       "      <td>-0.375584</td>\n",
       "      <td>-0.154306</td>\n",
       "      <td>-0.427237</td>\n",
       "      <td>-0.561424</td>\n",
       "      <td>0.812289</td>\n",
       "      <td>0.737799</td>\n",
       "      <td>-0.737799</td>\n",
       "      <td>0.615534</td>\n",
       "      <td>-0.477719</td>\n",
       "      <td>-0.308131</td>\n",
       "    </tr>\n",
       "    <tr>\n",
       "      <th>887</th>\n",
       "      <td>888</td>\n",
       "      <td>1</td>\n",
       "      <td>-1.575290</td>\n",
       "      <td>-0.757880</td>\n",
       "      <td>-0.014146</td>\n",
       "      <td>-0.561424</td>\n",
       "      <td>0.812289</td>\n",
       "      <td>-1.355382</td>\n",
       "      <td>1.355382</td>\n",
       "      <td>0.615534</td>\n",
       "      <td>-0.477719</td>\n",
       "      <td>-0.308131</td>\n",
       "    </tr>\n",
       "    <tr>\n",
       "      <th>888</th>\n",
       "      <td>889</td>\n",
       "      <td>0</td>\n",
       "      <td>0.824123</td>\n",
       "      <td>-0.380646</td>\n",
       "      <td>-0.173308</td>\n",
       "      <td>1.296507</td>\n",
       "      <td>-1.231089</td>\n",
       "      <td>-1.355382</td>\n",
       "      <td>1.355382</td>\n",
       "      <td>0.615534</td>\n",
       "      <td>-0.477719</td>\n",
       "      <td>-0.308131</td>\n",
       "    </tr>\n",
       "    <tr>\n",
       "      <th>889</th>\n",
       "      <td>890</td>\n",
       "      <td>1</td>\n",
       "      <td>-1.575290</td>\n",
       "      <td>-0.229753</td>\n",
       "      <td>-0.014146</td>\n",
       "      <td>-0.561424</td>\n",
       "      <td>0.812289</td>\n",
       "      <td>0.737799</td>\n",
       "      <td>-0.737799</td>\n",
       "      <td>-1.624606</td>\n",
       "      <td>2.093279</td>\n",
       "      <td>-0.308131</td>\n",
       "    </tr>\n",
       "    <tr>\n",
       "      <th>890</th>\n",
       "      <td>891</td>\n",
       "      <td>0</td>\n",
       "      <td>0.824123</td>\n",
       "      <td>0.222927</td>\n",
       "      <td>-0.554809</td>\n",
       "      <td>-0.561424</td>\n",
       "      <td>0.812289</td>\n",
       "      <td>0.737799</td>\n",
       "      <td>-0.737799</td>\n",
       "      <td>-1.624606</td>\n",
       "      <td>-0.477719</td>\n",
       "      <td>3.245376</td>\n",
       "    </tr>\n",
       "  </tbody>\n",
       "</table>\n",
       "<p>888 rows × 12 columns</p>\n",
       "</div>"
      ],
      "text/plain": [
       "     PassengerId  Survived    Pclass       Age      Fare  relatives  \\\n",
       "0              1         0  0.824123 -0.531540 -0.566959   0.057886   \n",
       "1              2         1 -1.575290  0.675607  0.989016   0.057886   \n",
       "2              3         1  0.824123 -0.229753 -0.550557  -0.561424   \n",
       "3              4         1 -1.575290  0.449267  0.547171   0.057886   \n",
       "4              5         0  0.824123  0.449267 -0.547519  -0.561424   \n",
       "..           ...       ...       ...       ...       ...        ...   \n",
       "886          887         0 -0.375584 -0.154306 -0.427237  -0.561424   \n",
       "887          888         1 -1.575290 -0.757880 -0.014146  -0.561424   \n",
       "888          889         0  0.824123 -0.380646 -0.173308   1.296507   \n",
       "889          890         1 -1.575290 -0.229753 -0.014146  -0.561424   \n",
       "890          891         0  0.824123  0.222927 -0.554809  -0.561424   \n",
       "\n",
       "     Travelled_alone      male    female  EmbarkedS  EmbarkedC  EmbarkedQ  \n",
       "0          -1.231089  0.737799 -0.737799   0.615534  -0.477719  -0.308131  \n",
       "1          -1.231089 -1.355382  1.355382  -1.624606   2.093279  -0.308131  \n",
       "2           0.812289 -1.355382  1.355382   0.615534  -0.477719  -0.308131  \n",
       "3          -1.231089 -1.355382  1.355382   0.615534  -0.477719  -0.308131  \n",
       "4           0.812289  0.737799 -0.737799   0.615534  -0.477719  -0.308131  \n",
       "..               ...       ...       ...        ...        ...        ...  \n",
       "886         0.812289  0.737799 -0.737799   0.615534  -0.477719  -0.308131  \n",
       "887         0.812289 -1.355382  1.355382   0.615534  -0.477719  -0.308131  \n",
       "888        -1.231089 -1.355382  1.355382   0.615534  -0.477719  -0.308131  \n",
       "889         0.812289  0.737799 -0.737799  -1.624606   2.093279  -0.308131  \n",
       "890         0.812289  0.737799 -0.737799  -1.624606  -0.477719   3.245376  \n",
       "\n",
       "[888 rows x 12 columns]"
      ]
     },
     "execution_count": 66,
     "metadata": {},
     "output_type": "execute_result"
    }
   ],
   "source": [
    "train"
   ]
  },
  {
   "cell_type": "code",
   "execution_count": 67,
   "id": "fd9b287d",
   "metadata": {},
   "outputs": [
    {
     "data": {
      "text/plain": [
       "['PassengerId',\n",
       " 'Pclass',\n",
       " 'Age',\n",
       " 'Fare',\n",
       " 'relatives',\n",
       " 'Travelled_alone',\n",
       " 'male',\n",
       " 'female',\n",
       " 'EmbarkedS',\n",
       " 'EmbarkedC',\n",
       " 'EmbarkedQ']"
      ]
     },
     "execution_count": 67,
     "metadata": {},
     "output_type": "execute_result"
    }
   ],
   "source": [
    "test_numerical_features = list(test.select_dtypes(include=['int64', 'float64', 'int32']).columns)\n",
    "test_numerical_features"
   ]
  },
  {
   "cell_type": "code",
   "execution_count": 68,
   "id": "172332b6",
   "metadata": {},
   "outputs": [
    {
     "data": {
      "text/plain": [
       "['Pclass',\n",
       " 'Age',\n",
       " 'Fare',\n",
       " 'relatives',\n",
       " 'Travelled_alone',\n",
       " 'male',\n",
       " 'female',\n",
       " 'EmbarkedS',\n",
       " 'EmbarkedC',\n",
       " 'EmbarkedQ']"
      ]
     },
     "execution_count": 68,
     "metadata": {},
     "output_type": "execute_result"
    }
   ],
   "source": [
    "del test_numerical_features[0:1]\n",
    "test_numerical_features"
   ]
  },
  {
   "cell_type": "code",
   "execution_count": 69,
   "id": "9eb9fc5b",
   "metadata": {},
   "outputs": [],
   "source": [
    "test = pd.DataFrame(data = test)\n",
    "test[test_numerical_features] = scaler.fit_transform(test[test_numerical_features])"
   ]
  },
  {
   "cell_type": "code",
   "execution_count": 70,
   "id": "8a755958",
   "metadata": {},
   "outputs": [
    {
     "data": {
      "text/html": [
       "<div>\n",
       "<style scoped>\n",
       "    .dataframe tbody tr th:only-of-type {\n",
       "        vertical-align: middle;\n",
       "    }\n",
       "\n",
       "    .dataframe tbody tr th {\n",
       "        vertical-align: top;\n",
       "    }\n",
       "\n",
       "    .dataframe thead th {\n",
       "        text-align: right;\n",
       "    }\n",
       "</style>\n",
       "<table border=\"1\" class=\"dataframe\">\n",
       "  <thead>\n",
       "    <tr style=\"text-align: right;\">\n",
       "      <th></th>\n",
       "      <th>PassengerId</th>\n",
       "      <th>Pclass</th>\n",
       "      <th>Age</th>\n",
       "      <th>Fare</th>\n",
       "      <th>relatives</th>\n",
       "      <th>Travelled_alone</th>\n",
       "      <th>male</th>\n",
       "      <th>female</th>\n",
       "      <th>EmbarkedS</th>\n",
       "      <th>EmbarkedC</th>\n",
       "      <th>EmbarkedQ</th>\n",
       "    </tr>\n",
       "  </thead>\n",
       "  <tbody>\n",
       "    <tr>\n",
       "      <th>0</th>\n",
       "      <td>892</td>\n",
       "      <td>0.873482</td>\n",
       "      <td>0.393048</td>\n",
       "      <td>-0.497413</td>\n",
       "      <td>-0.553443</td>\n",
       "      <td>0.807573</td>\n",
       "      <td>0.755929</td>\n",
       "      <td>-0.755929</td>\n",
       "      <td>-1.350676</td>\n",
       "      <td>-0.568142</td>\n",
       "      <td>2.843757</td>\n",
       "    </tr>\n",
       "    <tr>\n",
       "      <th>1</th>\n",
       "      <td>893</td>\n",
       "      <td>0.873482</td>\n",
       "      <td>1.356309</td>\n",
       "      <td>-0.512278</td>\n",
       "      <td>0.105643</td>\n",
       "      <td>-1.238278</td>\n",
       "      <td>-1.322876</td>\n",
       "      <td>1.322876</td>\n",
       "      <td>0.740370</td>\n",
       "      <td>-0.568142</td>\n",
       "      <td>-0.351647</td>\n",
       "    </tr>\n",
       "    <tr>\n",
       "      <th>2</th>\n",
       "      <td>894</td>\n",
       "      <td>-0.315819</td>\n",
       "      <td>2.512223</td>\n",
       "      <td>-0.464100</td>\n",
       "      <td>-0.553443</td>\n",
       "      <td>0.807573</td>\n",
       "      <td>0.755929</td>\n",
       "      <td>-0.755929</td>\n",
       "      <td>-1.350676</td>\n",
       "      <td>-0.568142</td>\n",
       "      <td>2.843757</td>\n",
       "    </tr>\n",
       "    <tr>\n",
       "      <th>3</th>\n",
       "      <td>895</td>\n",
       "      <td>0.873482</td>\n",
       "      <td>-0.184909</td>\n",
       "      <td>-0.482475</td>\n",
       "      <td>-0.553443</td>\n",
       "      <td>0.807573</td>\n",
       "      <td>0.755929</td>\n",
       "      <td>-0.755929</td>\n",
       "      <td>0.740370</td>\n",
       "      <td>-0.568142</td>\n",
       "      <td>-0.351647</td>\n",
       "    </tr>\n",
       "    <tr>\n",
       "      <th>4</th>\n",
       "      <td>896</td>\n",
       "      <td>0.873482</td>\n",
       "      <td>-0.570214</td>\n",
       "      <td>-0.417492</td>\n",
       "      <td>0.764728</td>\n",
       "      <td>-1.238278</td>\n",
       "      <td>-1.322876</td>\n",
       "      <td>1.322876</td>\n",
       "      <td>0.740370</td>\n",
       "      <td>-0.568142</td>\n",
       "      <td>-0.351647</td>\n",
       "    </tr>\n",
       "    <tr>\n",
       "      <th>...</th>\n",
       "      <td>...</td>\n",
       "      <td>...</td>\n",
       "      <td>...</td>\n",
       "      <td>...</td>\n",
       "      <td>...</td>\n",
       "      <td>...</td>\n",
       "      <td>...</td>\n",
       "      <td>...</td>\n",
       "      <td>...</td>\n",
       "      <td>...</td>\n",
       "      <td>...</td>\n",
       "    </tr>\n",
       "    <tr>\n",
       "      <th>413</th>\n",
       "      <td>1305</td>\n",
       "      <td>0.873482</td>\n",
       "      <td>-0.416092</td>\n",
       "      <td>-0.493455</td>\n",
       "      <td>-0.553443</td>\n",
       "      <td>0.807573</td>\n",
       "      <td>0.755929</td>\n",
       "      <td>-0.755929</td>\n",
       "      <td>0.740370</td>\n",
       "      <td>-0.568142</td>\n",
       "      <td>-0.351647</td>\n",
       "    </tr>\n",
       "    <tr>\n",
       "      <th>414</th>\n",
       "      <td>1306</td>\n",
       "      <td>-1.505120</td>\n",
       "      <td>0.739822</td>\n",
       "      <td>1.314435</td>\n",
       "      <td>-0.553443</td>\n",
       "      <td>0.807573</td>\n",
       "      <td>-1.322876</td>\n",
       "      <td>1.322876</td>\n",
       "      <td>-1.350676</td>\n",
       "      <td>1.760125</td>\n",
       "      <td>-0.351647</td>\n",
       "    </tr>\n",
       "    <tr>\n",
       "      <th>415</th>\n",
       "      <td>1307</td>\n",
       "      <td>0.873482</td>\n",
       "      <td>0.701291</td>\n",
       "      <td>-0.507796</td>\n",
       "      <td>-0.553443</td>\n",
       "      <td>0.807573</td>\n",
       "      <td>0.755929</td>\n",
       "      <td>-0.755929</td>\n",
       "      <td>0.740370</td>\n",
       "      <td>-0.568142</td>\n",
       "      <td>-0.351647</td>\n",
       "    </tr>\n",
       "    <tr>\n",
       "      <th>416</th>\n",
       "      <td>1308</td>\n",
       "      <td>0.873482</td>\n",
       "      <td>-0.416092</td>\n",
       "      <td>-0.493455</td>\n",
       "      <td>-0.553443</td>\n",
       "      <td>0.807573</td>\n",
       "      <td>0.755929</td>\n",
       "      <td>-0.755929</td>\n",
       "      <td>0.740370</td>\n",
       "      <td>-0.568142</td>\n",
       "      <td>-0.351647</td>\n",
       "    </tr>\n",
       "    <tr>\n",
       "      <th>417</th>\n",
       "      <td>1309</td>\n",
       "      <td>0.873482</td>\n",
       "      <td>-0.416092</td>\n",
       "      <td>-0.236957</td>\n",
       "      <td>0.764728</td>\n",
       "      <td>-1.238278</td>\n",
       "      <td>0.755929</td>\n",
       "      <td>-0.755929</td>\n",
       "      <td>-1.350676</td>\n",
       "      <td>1.760125</td>\n",
       "      <td>-0.351647</td>\n",
       "    </tr>\n",
       "  </tbody>\n",
       "</table>\n",
       "<p>418 rows × 11 columns</p>\n",
       "</div>"
      ],
      "text/plain": [
       "     PassengerId    Pclass       Age      Fare  relatives  Travelled_alone  \\\n",
       "0            892  0.873482  0.393048 -0.497413  -0.553443         0.807573   \n",
       "1            893  0.873482  1.356309 -0.512278   0.105643        -1.238278   \n",
       "2            894 -0.315819  2.512223 -0.464100  -0.553443         0.807573   \n",
       "3            895  0.873482 -0.184909 -0.482475  -0.553443         0.807573   \n",
       "4            896  0.873482 -0.570214 -0.417492   0.764728        -1.238278   \n",
       "..           ...       ...       ...       ...        ...              ...   \n",
       "413         1305  0.873482 -0.416092 -0.493455  -0.553443         0.807573   \n",
       "414         1306 -1.505120  0.739822  1.314435  -0.553443         0.807573   \n",
       "415         1307  0.873482  0.701291 -0.507796  -0.553443         0.807573   \n",
       "416         1308  0.873482 -0.416092 -0.493455  -0.553443         0.807573   \n",
       "417         1309  0.873482 -0.416092 -0.236957   0.764728        -1.238278   \n",
       "\n",
       "         male    female  EmbarkedS  EmbarkedC  EmbarkedQ  \n",
       "0    0.755929 -0.755929  -1.350676  -0.568142   2.843757  \n",
       "1   -1.322876  1.322876   0.740370  -0.568142  -0.351647  \n",
       "2    0.755929 -0.755929  -1.350676  -0.568142   2.843757  \n",
       "3    0.755929 -0.755929   0.740370  -0.568142  -0.351647  \n",
       "4   -1.322876  1.322876   0.740370  -0.568142  -0.351647  \n",
       "..        ...       ...        ...        ...        ...  \n",
       "413  0.755929 -0.755929   0.740370  -0.568142  -0.351647  \n",
       "414 -1.322876  1.322876  -1.350676   1.760125  -0.351647  \n",
       "415  0.755929 -0.755929   0.740370  -0.568142  -0.351647  \n",
       "416  0.755929 -0.755929   0.740370  -0.568142  -0.351647  \n",
       "417  0.755929 -0.755929  -1.350676   1.760125  -0.351647  \n",
       "\n",
       "[418 rows x 11 columns]"
      ]
     },
     "execution_count": 70,
     "metadata": {},
     "output_type": "execute_result"
    }
   ],
   "source": [
    "test"
   ]
  },
  {
   "cell_type": "markdown",
   "id": "19078edd",
   "metadata": {},
   "source": [
    "## Model"
   ]
  },
  {
   "cell_type": "markdown",
   "id": "e18bb227",
   "metadata": {},
   "source": [
    "### Train Test Split"
   ]
  },
  {
   "cell_type": "code",
   "execution_count": 71,
   "id": "c51ab2e6",
   "metadata": {},
   "outputs": [],
   "source": [
    "from sklearn.model_selection import train_test_split"
   ]
  },
  {
   "cell_type": "code",
   "execution_count": 72,
   "id": "1bd07758",
   "metadata": {},
   "outputs": [],
   "source": [
    "X_train, X_test, y_train, y_test = train_test_split(train.drop(['PassengerId','Survived'],axis=1), \n",
    "                                                    train['Survived'], test_size=0.2, \n",
    "                                                    random_state=45)"
   ]
  },
  {
   "cell_type": "markdown",
   "id": "6dd086bc",
   "metadata": {},
   "source": [
    "### Smote for Unbalanced"
   ]
  },
  {
   "cell_type": "code",
   "execution_count": 73,
   "id": "837d41fe",
   "metadata": {},
   "outputs": [
    {
     "name": "stdout",
     "output_type": "stream",
     "text": [
      "Requirement already satisfied: imblearn in d:\\anaconda_installed\\lib\\site-packages (0.0)\n",
      "Requirement already satisfied: imbalanced-learn in d:\\anaconda_installed\\lib\\site-packages (from imblearn) (0.8.1)\n",
      "Requirement already satisfied: joblib>=0.11 in d:\\anaconda_installed\\lib\\site-packages (from imbalanced-learn->imblearn) (1.0.1)\n",
      "Requirement already satisfied: scipy>=0.19.1 in d:\\anaconda_installed\\lib\\site-packages (from imbalanced-learn->imblearn) (1.6.2)\n",
      "Requirement already satisfied: scikit-learn>=0.24 in d:\\anaconda_installed\\lib\\site-packages (from imbalanced-learn->imblearn) (0.24.1)\n",
      "Requirement already satisfied: numpy>=1.13.3 in d:\\anaconda_installed\\lib\\site-packages (from imbalanced-learn->imblearn) (1.19.5)\n",
      "Requirement already satisfied: threadpoolctl>=2.0.0 in d:\\anaconda_installed\\lib\\site-packages (from scikit-learn>=0.24->imbalanced-learn->imblearn) (2.1.0)\n",
      "Note: you may need to restart the kernel to use updated packages.\n"
     ]
    }
   ],
   "source": [
    "pip install imblearn"
   ]
  },
  {
   "cell_type": "code",
   "execution_count": 74,
   "id": "363f825d",
   "metadata": {},
   "outputs": [],
   "source": [
    "from imblearn.over_sampling import SMOTE"
   ]
  },
  {
   "cell_type": "code",
   "execution_count": 75,
   "id": "d3621377",
   "metadata": {},
   "outputs": [],
   "source": [
    "oversample = SMOTE()\n",
    "X_train1, y_train1 = oversample.fit_resample(X_train, y_train)"
   ]
  },
  {
   "cell_type": "markdown",
   "id": "3c605d53",
   "metadata": {},
   "source": [
    "### Training with SMOTE"
   ]
  },
  {
   "cell_type": "code",
   "execution_count": 76,
   "id": "c4526b99",
   "metadata": {},
   "outputs": [],
   "source": [
    "from sklearn.linear_model import LogisticRegression"
   ]
  },
  {
   "cell_type": "code",
   "execution_count": 77,
   "id": "a76fca04",
   "metadata": {},
   "outputs": [],
   "source": [
    "logmodel= LogisticRegression(C=100)"
   ]
  },
  {
   "cell_type": "code",
   "execution_count": 78,
   "id": "cd9eed7c",
   "metadata": {},
   "outputs": [
    {
     "data": {
      "text/plain": [
       "LogisticRegression(C=100)"
      ]
     },
     "execution_count": 78,
     "metadata": {},
     "output_type": "execute_result"
    }
   ],
   "source": [
    "logmodel.fit(X_train1,y_train1)"
   ]
  },
  {
   "cell_type": "code",
   "execution_count": 79,
   "id": "7d54dedb",
   "metadata": {},
   "outputs": [
    {
     "data": {
      "text/plain": [
       "0.7902097902097902"
      ]
     },
     "execution_count": 79,
     "metadata": {},
     "output_type": "execute_result"
    }
   ],
   "source": [
    "logmodel.score(X_train1,y_train1)"
   ]
  },
  {
   "cell_type": "code",
   "execution_count": 80,
   "id": "4463fdbe",
   "metadata": {},
   "outputs": [
    {
     "data": {
      "text/plain": [
       "0.8258426966292135"
      ]
     },
     "execution_count": 80,
     "metadata": {},
     "output_type": "execute_result"
    }
   ],
   "source": [
    "logmodel.score(X_test,y_test)"
   ]
  },
  {
   "cell_type": "code",
   "execution_count": 81,
   "id": "dd16f214",
   "metadata": {},
   "outputs": [
    {
     "data": {
      "text/html": [
       "<div>\n",
       "<style scoped>\n",
       "    .dataframe tbody tr th:only-of-type {\n",
       "        vertical-align: middle;\n",
       "    }\n",
       "\n",
       "    .dataframe tbody tr th {\n",
       "        vertical-align: top;\n",
       "    }\n",
       "\n",
       "    .dataframe thead th {\n",
       "        text-align: right;\n",
       "    }\n",
       "</style>\n",
       "<table border=\"1\" class=\"dataframe\">\n",
       "  <thead>\n",
       "    <tr style=\"text-align: right;\">\n",
       "      <th></th>\n",
       "      <th>Coefficient</th>\n",
       "    </tr>\n",
       "  </thead>\n",
       "  <tbody>\n",
       "    <tr>\n",
       "      <th>Pclass</th>\n",
       "      <td>-0.838266</td>\n",
       "    </tr>\n",
       "    <tr>\n",
       "      <th>Age</th>\n",
       "      <td>-0.545294</td>\n",
       "    </tr>\n",
       "    <tr>\n",
       "      <th>Fare</th>\n",
       "      <td>0.094825</td>\n",
       "    </tr>\n",
       "    <tr>\n",
       "      <th>relatives</th>\n",
       "      <td>-0.736576</td>\n",
       "    </tr>\n",
       "    <tr>\n",
       "      <th>Travelled_alone</th>\n",
       "      <td>-0.272481</td>\n",
       "    </tr>\n",
       "    <tr>\n",
       "      <th>male</th>\n",
       "      <td>-0.616970</td>\n",
       "    </tr>\n",
       "    <tr>\n",
       "      <th>female</th>\n",
       "      <td>0.616970</td>\n",
       "    </tr>\n",
       "    <tr>\n",
       "      <th>EmbarkedS</th>\n",
       "      <td>-1.453309</td>\n",
       "    </tr>\n",
       "    <tr>\n",
       "      <th>EmbarkedC</th>\n",
       "      <td>-1.202270</td>\n",
       "    </tr>\n",
       "    <tr>\n",
       "      <th>EmbarkedQ</th>\n",
       "      <td>-0.882946</td>\n",
       "    </tr>\n",
       "  </tbody>\n",
       "</table>\n",
       "</div>"
      ],
      "text/plain": [
       "                 Coefficient\n",
       "Pclass             -0.838266\n",
       "Age                -0.545294\n",
       "Fare                0.094825\n",
       "relatives          -0.736576\n",
       "Travelled_alone    -0.272481\n",
       "male               -0.616970\n",
       "female              0.616970\n",
       "EmbarkedS          -1.453309\n",
       "EmbarkedC          -1.202270\n",
       "EmbarkedQ          -0.882946"
      ]
     },
     "execution_count": 81,
     "metadata": {},
     "output_type": "execute_result"
    }
   ],
   "source": [
    "coeff_df = pd.DataFrame(logmodel.coef_.flatten(),X_train1.columns,columns=['Coefficient'])\n",
    "coeff_df"
   ]
  },
  {
   "cell_type": "markdown",
   "id": "89ac4138",
   "metadata": {},
   "source": [
    "### Predictions and Metrics"
   ]
  },
  {
   "cell_type": "code",
   "execution_count": 82,
   "id": "439e8b67",
   "metadata": {},
   "outputs": [],
   "source": [
    "from sklearn.metrics import classification_report\n",
    "from sklearn.metrics import confusion_matrix"
   ]
  },
  {
   "cell_type": "code",
   "execution_count": 83,
   "id": "ed2dce8a",
   "metadata": {},
   "outputs": [],
   "source": [
    "pred_test = logmodel.predict(X_test)\n",
    "pred_train = logmodel.predict(X_train1)"
   ]
  },
  {
   "cell_type": "markdown",
   "id": "3f343e9f",
   "metadata": {},
   "source": [
    "### Training error"
   ]
  },
  {
   "cell_type": "code",
   "execution_count": 84,
   "id": "e8ec9ba6",
   "metadata": {},
   "outputs": [
    {
     "data": {
      "text/plain": [
       "array([[350,  79],\n",
       "       [101, 328]], dtype=int64)"
      ]
     },
     "execution_count": 84,
     "metadata": {},
     "output_type": "execute_result"
    }
   ],
   "source": [
    "cm = confusion_matrix(y_train1, pred_train)\n",
    "cm"
   ]
  },
  {
   "cell_type": "code",
   "execution_count": 85,
   "id": "d7aba762",
   "metadata": {},
   "outputs": [
    {
     "data": {
      "image/png": "[encoded data removed]",
      "text/plain": [
       "<Figure size 432x288 with 2 Axes>"
      ]
     },
     "metadata": {},
     "output_type": "display_data"
    }
   ],
   "source": [
    "df_cm = pd.DataFrame(cm)\n",
    "\n",
    "sns.set(font_scale=1.5)\n",
    "sns.heatmap(df_cm, annot=True, annot_kws={\"size\": 16},cmap=\"Reds\") # font size\n",
    "\n",
    "plt.show()"
   ]
  },
  {
   "cell_type": "code",
   "execution_count": 86,
   "id": "891a4c84",
   "metadata": {},
   "outputs": [
    {
     "name": "stdout",
     "output_type": "stream",
     "text": [
      "              precision    recall  f1-score   support\n",
      "\n",
      "           0       0.78      0.82      0.80       429\n",
      "           1       0.81      0.76      0.78       429\n",
      "\n",
      "    accuracy                           0.79       858\n",
      "   macro avg       0.79      0.79      0.79       858\n",
      "weighted avg       0.79      0.79      0.79       858\n",
      "\n"
     ]
    }
   ],
   "source": [
    "print(classification_report(y_train1,pred_train))"
   ]
  },
  {
   "cell_type": "markdown",
   "id": "ec27938a",
   "metadata": {},
   "source": [
    "### Testing set"
   ]
  },
  {
   "cell_type": "code",
   "execution_count": 87,
   "id": "404fa67e",
   "metadata": {},
   "outputs": [
    {
     "data": {
      "text/plain": [
       "array([[101,  19],\n",
       "       [ 12,  46]], dtype=int64)"
      ]
     },
     "execution_count": 87,
     "metadata": {},
     "output_type": "execute_result"
    }
   ],
   "source": [
    "cm_test = confusion_matrix(y_test, pred_test)\n",
    "cm_test"
   ]
  },
  {
   "cell_type": "code",
   "execution_count": 88,
   "id": "f95346b1",
   "metadata": {},
   "outputs": [
    {
     "data": {
      "image/png": "[encoded data removed]",
      "text/plain": [
       "<Figure size 432x288 with 2 Axes>"
      ]
     },
     "metadata": {},
     "output_type": "display_data"
    }
   ],
   "source": [
    "df_cm = pd.DataFrame(cm_test)\n",
    "\n",
    "sns.set(font_scale=1.5)\n",
    "sns.heatmap(df_cm, annot=True, annot_kws={\"size\": 16},cmap=\"Reds\") # font size\n",
    "\n",
    "plt.show()"
   ]
  },
  {
   "cell_type": "code",
   "execution_count": 89,
   "id": "d06ff3cb",
   "metadata": {},
   "outputs": [
    {
     "name": "stdout",
     "output_type": "stream",
     "text": [
      "              precision    recall  f1-score   support\n",
      "\n",
      "           0       0.89      0.84      0.87       120\n",
      "           1       0.71      0.79      0.75        58\n",
      "\n",
      "    accuracy                           0.83       178\n",
      "   macro avg       0.80      0.82      0.81       178\n",
      "weighted avg       0.83      0.83      0.83       178\n",
      "\n"
     ]
    }
   ],
   "source": [
    "print(classification_report(y_test,pred_test))"
   ]
  },
  {
   "cell_type": "markdown",
   "id": "b8c1c296",
   "metadata": {},
   "source": [
    "### Training"
   ]
  },
  {
   "cell_type": "code",
   "execution_count": 90,
   "id": "7bc14364",
   "metadata": {},
   "outputs": [],
   "source": [
    "logmodel= LogisticRegression(C=10)"
   ]
  },
  {
   "cell_type": "code",
   "execution_count": 91,
   "id": "45e60103",
   "metadata": {},
   "outputs": [
    {
     "data": {
      "text/plain": [
       "LogisticRegression(C=10)"
      ]
     },
     "execution_count": 91,
     "metadata": {},
     "output_type": "execute_result"
    }
   ],
   "source": [
    "logmodel.fit(X_train,y_train)"
   ]
  },
  {
   "cell_type": "code",
   "execution_count": 92,
   "id": "0f0f084a",
   "metadata": {},
   "outputs": [
    {
     "data": {
      "text/plain": [
       "0.8"
      ]
     },
     "execution_count": 92,
     "metadata": {},
     "output_type": "execute_result"
    }
   ],
   "source": [
    "logmodel.score(X_train,y_train)"
   ]
  },
  {
   "cell_type": "code",
   "execution_count": 93,
   "id": "26bb8034",
   "metadata": {},
   "outputs": [
    {
     "data": {
      "text/plain": [
       "0.8426966292134831"
      ]
     },
     "execution_count": 93,
     "metadata": {},
     "output_type": "execute_result"
    }
   ],
   "source": [
    "logmodel.score(X_test,y_test)"
   ]
  },
  {
   "cell_type": "code",
   "execution_count": 94,
   "id": "f25083b2",
   "metadata": {},
   "outputs": [
    {
     "data": {
      "text/html": [
       "<div>\n",
       "<style scoped>\n",
       "    .dataframe tbody tr th:only-of-type {\n",
       "        vertical-align: middle;\n",
       "    }\n",
       "\n",
       "    .dataframe tbody tr th {\n",
       "        vertical-align: top;\n",
       "    }\n",
       "\n",
       "    .dataframe thead th {\n",
       "        text-align: right;\n",
       "    }\n",
       "</style>\n",
       "<table border=\"1\" class=\"dataframe\">\n",
       "  <thead>\n",
       "    <tr style=\"text-align: right;\">\n",
       "      <th></th>\n",
       "      <th>Coefficient</th>\n",
       "    </tr>\n",
       "  </thead>\n",
       "  <tbody>\n",
       "    <tr>\n",
       "      <th>Pclass</th>\n",
       "      <td>-0.958032</td>\n",
       "    </tr>\n",
       "    <tr>\n",
       "      <th>Age</th>\n",
       "      <td>-0.516924</td>\n",
       "    </tr>\n",
       "    <tr>\n",
       "      <th>Fare</th>\n",
       "      <td>0.015407</td>\n",
       "    </tr>\n",
       "    <tr>\n",
       "      <th>relatives</th>\n",
       "      <td>-0.581723</td>\n",
       "    </tr>\n",
       "    <tr>\n",
       "      <th>Travelled_alone</th>\n",
       "      <td>-0.266387</td>\n",
       "    </tr>\n",
       "    <tr>\n",
       "      <th>male</th>\n",
       "      <td>-0.624043</td>\n",
       "    </tr>\n",
       "    <tr>\n",
       "      <th>female</th>\n",
       "      <td>0.624043</td>\n",
       "    </tr>\n",
       "    <tr>\n",
       "      <th>EmbarkedS</th>\n",
       "      <td>-0.735827</td>\n",
       "    </tr>\n",
       "    <tr>\n",
       "      <th>EmbarkedC</th>\n",
       "      <td>-0.584669</td>\n",
       "    </tr>\n",
       "    <tr>\n",
       "      <th>EmbarkedQ</th>\n",
       "      <td>-0.360501</td>\n",
       "    </tr>\n",
       "  </tbody>\n",
       "</table>\n",
       "</div>"
      ],
      "text/plain": [
       "                 Coefficient\n",
       "Pclass             -0.958032\n",
       "Age                -0.516924\n",
       "Fare                0.015407\n",
       "relatives          -0.581723\n",
       "Travelled_alone    -0.266387\n",
       "male               -0.624043\n",
       "female              0.624043\n",
       "EmbarkedS          -0.735827\n",
       "EmbarkedC          -0.584669\n",
       "EmbarkedQ          -0.360501"
      ]
     },
     "execution_count": 94,
     "metadata": {},
     "output_type": "execute_result"
    }
   ],
   "source": [
    "coeff_df = pd.DataFrame(logmodel.coef_.flatten(),X_train.columns,columns=['Coefficient'])\n",
    "coeff_df"
   ]
  },
  {
   "cell_type": "markdown",
   "id": "15a5fcf4",
   "metadata": {},
   "source": [
    "### Predictions and Metrics"
   ]
  },
  {
   "cell_type": "code",
   "execution_count": 95,
   "id": "5666ae57",
   "metadata": {},
   "outputs": [],
   "source": [
    "from sklearn.metrics import classification_report\n",
    "from sklearn.metrics import confusion_matrix"
   ]
  },
  {
   "cell_type": "code",
   "execution_count": 96,
   "id": "ba969574",
   "metadata": {},
   "outputs": [],
   "source": [
    "pred_test = logmodel.predict(X_test)\n",
    "pred_train = logmodel.predict(X_train)"
   ]
  },
  {
   "cell_type": "markdown",
   "id": "49fa56c3",
   "metadata": {},
   "source": [
    "### Training error"
   ]
  },
  {
   "cell_type": "code",
   "execution_count": 97,
   "id": "3e3a772f",
   "metadata": {},
   "outputs": [
    {
     "data": {
      "text/plain": [
       "array([[369,  60],\n",
       "       [ 82, 199]], dtype=int64)"
      ]
     },
     "execution_count": 97,
     "metadata": {},
     "output_type": "execute_result"
    }
   ],
   "source": [
    "cm = confusion_matrix(y_train, pred_train)\n",
    "cm"
   ]
  },
  {
   "cell_type": "code",
   "execution_count": 98,
   "id": "d273fb74",
   "metadata": {},
   "outputs": [
    {
     "data": {
      "image/png": "[encoded data removed]",
      "text/plain": [
       "<Figure size 432x288 with 2 Axes>"
      ]
     },
     "metadata": {},
     "output_type": "display_data"
    }
   ],
   "source": [
    "df_cm = pd.DataFrame(cm)\n",
    "\n",
    "sns.set(font_scale=1.5)\n",
    "sns.heatmap(df_cm, annot=True, annot_kws={\"size\": 16},cmap=\"Reds\") # font size\n",
    "\n",
    "plt.show()"
   ]
  },
  {
   "cell_type": "code",
   "execution_count": 99,
   "id": "bdc482a8",
   "metadata": {},
   "outputs": [
    {
     "name": "stdout",
     "output_type": "stream",
     "text": [
      "              precision    recall  f1-score   support\n",
      "\n",
      "           0       0.82      0.86      0.84       429\n",
      "           1       0.77      0.71      0.74       281\n",
      "\n",
      "    accuracy                           0.80       710\n",
      "   macro avg       0.79      0.78      0.79       710\n",
      "weighted avg       0.80      0.80      0.80       710\n",
      "\n"
     ]
    }
   ],
   "source": [
    "print(classification_report(y_train,pred_train))"
   ]
  },
  {
   "cell_type": "markdown",
   "id": "5c3ff822",
   "metadata": {},
   "source": [
    "### Testing set"
   ]
  },
  {
   "cell_type": "code",
   "execution_count": 100,
   "id": "7cec3b4f",
   "metadata": {},
   "outputs": [
    {
     "data": {
      "text/plain": [
       "array([[109,  11],\n",
       "       [ 17,  41]], dtype=int64)"
      ]
     },
     "execution_count": 100,
     "metadata": {},
     "output_type": "execute_result"
    }
   ],
   "source": [
    "cm_test = confusion_matrix(y_test, pred_test)\n",
    "cm_test"
   ]
  },
  {
   "cell_type": "code",
   "execution_count": 101,
   "id": "88d603f4",
   "metadata": {},
   "outputs": [
    {
     "data": {
      "image/png": "[encoded data removed]",
      "text/plain": [
       "<Figure size 432x288 with 2 Axes>"
      ]
     },
     "metadata": {},
     "output_type": "display_data"
    }
   ],
   "source": [
    "df_cm = pd.DataFrame(cm_test)\n",
    "\n",
    "sns.set(font_scale=1.5)\n",
    "sns.heatmap(df_cm, annot=True, annot_kws={\"size\": 16},cmap=\"Reds\") # font size\n",
    "\n",
    "plt.show()"
   ]
  },
  {
   "cell_type": "code",
   "execution_count": 102,
   "id": "dcfdd393",
   "metadata": {},
   "outputs": [
    {
     "name": "stdout",
     "output_type": "stream",
     "text": [
      "              precision    recall  f1-score   support\n",
      "\n",
      "           0       0.87      0.91      0.89       120\n",
      "           1       0.79      0.71      0.75        58\n",
      "\n",
      "    accuracy                           0.84       178\n",
      "   macro avg       0.83      0.81      0.82       178\n",
      "weighted avg       0.84      0.84      0.84       178\n",
      "\n"
     ]
    }
   ],
   "source": [
    "print(classification_report(y_test,pred_test))"
   ]
  },
  {
   "cell_type": "markdown",
   "id": "5dddc94d",
   "metadata": {},
   "source": [
    "## Random Search CV"
   ]
  },
  {
   "cell_type": "code",
   "execution_count": 103,
   "id": "4413d256",
   "metadata": {},
   "outputs": [],
   "source": [
    "from sklearn.model_selection import RandomizedSearchCV"
   ]
  },
  {
   "cell_type": "code",
   "execution_count": 104,
   "id": "8b0f8779",
   "metadata": {},
   "outputs": [],
   "source": [
    "grid_values = {'penalty': ['l1','l2'], 'C': [0.001,0.01,0.1,1,10,100,1000]}\n",
    "\n",
    "lr_random =RandomizedSearchCV(logmodel, grid_values, cv= 5)"
   ]
  },
  {
   "cell_type": "code",
   "execution_count": 105,
   "id": "cf2b0def",
   "metadata": {},
   "outputs": [
    {
     "data": {
      "text/plain": [
       "RandomizedSearchCV(cv=5, estimator=LogisticRegression(C=10),\n",
       "                   param_distributions={'C': [0.001, 0.01, 0.1, 1, 10, 100,\n",
       "                                              1000],\n",
       "                                        'penalty': ['l1', 'l2']})"
      ]
     },
     "execution_count": 105,
     "metadata": {},
     "output_type": "execute_result"
    }
   ],
   "source": [
    "lr_random.fit(X_train1,y_train1)"
   ]
  },
  {
   "cell_type": "code",
   "execution_count": 106,
   "id": "95727a93",
   "metadata": {},
   "outputs": [
    {
     "data": {
      "text/plain": [
       "LogisticRegression(C=100)"
      ]
     },
     "execution_count": 106,
     "metadata": {},
     "output_type": "execute_result"
    }
   ],
   "source": [
    "lr_random.best_estimator_"
   ]
  },
  {
   "cell_type": "markdown",
   "id": "37a03448",
   "metadata": {},
   "source": [
    "## XGBoost"
   ]
  },
  {
   "cell_type": "code",
   "execution_count": 107,
   "id": "f7c467f7",
   "metadata": {},
   "outputs": [],
   "source": [
    "from xgboost import XGBClassifier"
   ]
  },
  {
   "cell_type": "code",
   "execution_count": 108,
   "id": "72a45f38",
   "metadata": {},
   "outputs": [],
   "source": [
    "xgb = XGBClassifier()"
   ]
  },
  {
   "cell_type": "code",
   "execution_count": 109,
   "id": "822c0a1d",
   "metadata": {},
   "outputs": [
    {
     "name": "stdout",
     "output_type": "stream",
     "text": [
      "[12:14:14] WARNING: C:/Users/Administrator/workspace/xgboost-win64_release_1.4.0/src/learner.cc:1095: Starting in XGBoost 1.3.0, the default evaluation metric used with the objective 'binary:logistic' was changed from 'error' to 'logloss'. Explicitly set eval_metric if you'd like to restore the old behavior.\n"
     ]
    },
    {
     "data": {
      "text/plain": [
       "XGBClassifier(base_score=0.5, booster='gbtree', colsample_bylevel=1,\n",
       "              colsample_bynode=1, colsample_bytree=1, gamma=0, gpu_id=-1,\n",
       "              importance_type='gain', interaction_constraints='',\n",
       "              learning_rate=0.300000012, max_delta_step=0, max_depth=6,\n",
       "              min_child_weight=1, missing=nan, monotone_constraints='()',\n",
       "              n_estimators=100, n_jobs=8, num_parallel_tree=1, random_state=0,\n",
       "              reg_alpha=0, reg_lambda=1, scale_pos_weight=1, subsample=1,\n",
       "              tree_method='exact', validate_parameters=1, verbosity=None)"
      ]
     },
     "execution_count": 109,
     "metadata": {},
     "output_type": "execute_result"
    }
   ],
   "source": [
    "xgb.fit(X_train1, y_train1)"
   ]
  },
  {
   "cell_type": "code",
   "execution_count": 110,
   "id": "feb97157",
   "metadata": {},
   "outputs": [
    {
     "data": {
      "text/plain": [
       "0.9755244755244755"
      ]
     },
     "execution_count": 110,
     "metadata": {},
     "output_type": "execute_result"
    }
   ],
   "source": [
    "xgb.score(X_train1, y_train1)"
   ]
  },
  {
   "cell_type": "code",
   "execution_count": 111,
   "id": "b03db29d",
   "metadata": {},
   "outputs": [
    {
     "data": {
      "text/plain": [
       "0.8258426966292135"
      ]
     },
     "execution_count": 111,
     "metadata": {},
     "output_type": "execute_result"
    }
   ],
   "source": [
    "xgb.score(X_test, y_test)"
   ]
  },
  {
   "cell_type": "code",
   "execution_count": 112,
   "id": "c46dcb8a",
   "metadata": {},
   "outputs": [],
   "source": [
    "pred = logmodel.predict(test.drop(['PassengerId'],axis=1))"
   ]
  },
  {
   "cell_type": "code",
   "execution_count": 267,
   "id": "2379d289",
   "metadata": {},
   "outputs": [],
   "source": [
    "predicted_data=pd.DataFrame(pred,columns=['Survival'])"
   ]
  },
  {
   "cell_type": "code",
   "execution_count": 268,
   "id": "1b2c2c6f",
   "metadata": {},
   "outputs": [],
   "source": [
    "me18b114_prajwal = pd.concat([test,predicted_data],axis=1)"
   ]
  },
  {
   "cell_type": "code",
   "execution_count": 271,
   "id": "4a89e0fc",
   "metadata": {},
   "outputs": [],
   "source": [
    "me18b114_prajwal.to_csv('me18b114_assign2_test_predictions.csv')"
   ]
  }
 ],
 "metadata": {
  "kernelspec": {
   "display_name": "Python 3",
   "language": "python",
   "name": "python3"
  },
  "language_info": {
   "codemirror_mode": {
    "name": "ipython",
    "version": 3
   },
   "file_extension": ".py",
   "mimetype": "text/x-python",
   "name": "python",
   "nbconvert_exporter": "python",
   "pygments_lexer": "ipython3",
   "version": "3.8.8"
  }
 },
 "nbformat": 4,
 "nbformat_minor": 5
}
