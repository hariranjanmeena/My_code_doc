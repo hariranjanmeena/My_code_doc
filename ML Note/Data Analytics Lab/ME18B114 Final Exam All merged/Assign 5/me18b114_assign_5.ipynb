{
 "cells": [
  {
   "cell_type": "markdown",
   "id": "a5671248",
   "metadata": {},
   "source": [
    "# Assignment 5: Random Forest Classifier"
   ]
  },
  {
   "cell_type": "markdown",
   "id": "5a54d553",
   "metadata": {},
   "source": [
    "## Prajwal Dinesh Sahu\n",
    "## ME18B114"
   ]
  },
  {
   "cell_type": "markdown",
   "id": "8951a413",
   "metadata": {},
   "source": [
    "The Car Evaluation Database was derived from a simple hierarchical decision model. The\n",
    "prediction task is to classify a car based on its safety.\n",
    "\n",
    "The variables"
   ]
  },
  {
   "cell_type": "markdown",
   "id": "46acce0a",
   "metadata": {},
   "source": [
    "`buying ` - Buying price\n",
    "\n",
    "`maintenance` - Price of the maintenance\n",
    "\n",
    "`doors` - Number of doors\n",
    "\n",
    "`persons` - Capacity in terms of persons to\n",
    "carry\n",
    "\n",
    "`lug_boot`- The size of luggage boot\n",
    "\n",
    "`safety ` - Estimated safety of the car\n",
    "\n",
    "`Target` - Target variable to predict"
   ]
  },
  {
   "cell_type": "markdown",
   "id": "cb0f3b30",
   "metadata": {},
   "source": [
    "### Importing Libraries and dataset"
   ]
  },
  {
   "cell_type": "code",
   "execution_count": 4,
   "id": "3023a38d",
   "metadata": {},
   "outputs": [],
   "source": [
    "import pandas as pd\n",
    "import numpy as np\n",
    "import seaborn as sns\n",
    "%matplotlib inline\n",
    "import matplotlib.pyplot as plt"
   ]
  },
  {
   "cell_type": "code",
   "execution_count": 5,
   "id": "22765857",
   "metadata": {},
   "outputs": [],
   "source": [
    "df = pd.read_csv('car_evaluation.csv')"
   ]
  },
  {
   "cell_type": "code",
   "execution_count": 6,
   "id": "37d20448",
   "metadata": {},
   "outputs": [
    {
     "data": {
      "text/html": [
       "<div>\n",
       "<style scoped>\n",
       "    .dataframe tbody tr th:only-of-type {\n",
       "        vertical-align: middle;\n",
       "    }\n",
       "\n",
       "    .dataframe tbody tr th {\n",
       "        vertical-align: top;\n",
       "    }\n",
       "\n",
       "    .dataframe thead th {\n",
       "        text-align: right;\n",
       "    }\n",
       "</style>\n",
       "<table border=\"1\" class=\"dataframe\">\n",
       "  <thead>\n",
       "    <tr style=\"text-align: right;\">\n",
       "      <th></th>\n",
       "      <th>Buying</th>\n",
       "      <th>Maintenance</th>\n",
       "      <th>Doors</th>\n",
       "      <th>Persons</th>\n",
       "      <th>Lug_boot</th>\n",
       "      <th>Safety</th>\n",
       "      <th>Target</th>\n",
       "    </tr>\n",
       "  </thead>\n",
       "  <tbody>\n",
       "    <tr>\n",
       "      <th>0</th>\n",
       "      <td>vhigh</td>\n",
       "      <td>vhigh</td>\n",
       "      <td>2</td>\n",
       "      <td>2</td>\n",
       "      <td>small</td>\n",
       "      <td>med</td>\n",
       "      <td>unacc</td>\n",
       "    </tr>\n",
       "    <tr>\n",
       "      <th>1</th>\n",
       "      <td>vhigh</td>\n",
       "      <td>vhigh</td>\n",
       "      <td>2</td>\n",
       "      <td>2</td>\n",
       "      <td>small</td>\n",
       "      <td>high</td>\n",
       "      <td>unacc</td>\n",
       "    </tr>\n",
       "    <tr>\n",
       "      <th>2</th>\n",
       "      <td>vhigh</td>\n",
       "      <td>vhigh</td>\n",
       "      <td>2</td>\n",
       "      <td>2</td>\n",
       "      <td>med</td>\n",
       "      <td>low</td>\n",
       "      <td>unacc</td>\n",
       "    </tr>\n",
       "    <tr>\n",
       "      <th>3</th>\n",
       "      <td>vhigh</td>\n",
       "      <td>vhigh</td>\n",
       "      <td>2</td>\n",
       "      <td>2</td>\n",
       "      <td>med</td>\n",
       "      <td>med</td>\n",
       "      <td>unacc</td>\n",
       "    </tr>\n",
       "    <tr>\n",
       "      <th>4</th>\n",
       "      <td>vhigh</td>\n",
       "      <td>vhigh</td>\n",
       "      <td>2</td>\n",
       "      <td>2</td>\n",
       "      <td>med</td>\n",
       "      <td>high</td>\n",
       "      <td>unacc</td>\n",
       "    </tr>\n",
       "    <tr>\n",
       "      <th>...</th>\n",
       "      <td>...</td>\n",
       "      <td>...</td>\n",
       "      <td>...</td>\n",
       "      <td>...</td>\n",
       "      <td>...</td>\n",
       "      <td>...</td>\n",
       "      <td>...</td>\n",
       "    </tr>\n",
       "    <tr>\n",
       "      <th>1722</th>\n",
       "      <td>low</td>\n",
       "      <td>low</td>\n",
       "      <td>5more</td>\n",
       "      <td>more</td>\n",
       "      <td>med</td>\n",
       "      <td>med</td>\n",
       "      <td>good</td>\n",
       "    </tr>\n",
       "    <tr>\n",
       "      <th>1723</th>\n",
       "      <td>low</td>\n",
       "      <td>low</td>\n",
       "      <td>5more</td>\n",
       "      <td>more</td>\n",
       "      <td>med</td>\n",
       "      <td>high</td>\n",
       "      <td>vgood</td>\n",
       "    </tr>\n",
       "    <tr>\n",
       "      <th>1724</th>\n",
       "      <td>low</td>\n",
       "      <td>low</td>\n",
       "      <td>5more</td>\n",
       "      <td>more</td>\n",
       "      <td>big</td>\n",
       "      <td>low</td>\n",
       "      <td>unacc</td>\n",
       "    </tr>\n",
       "    <tr>\n",
       "      <th>1725</th>\n",
       "      <td>low</td>\n",
       "      <td>low</td>\n",
       "      <td>5more</td>\n",
       "      <td>more</td>\n",
       "      <td>big</td>\n",
       "      <td>med</td>\n",
       "      <td>good</td>\n",
       "    </tr>\n",
       "    <tr>\n",
       "      <th>1726</th>\n",
       "      <td>low</td>\n",
       "      <td>low</td>\n",
       "      <td>5more</td>\n",
       "      <td>more</td>\n",
       "      <td>big</td>\n",
       "      <td>high</td>\n",
       "      <td>vgood</td>\n",
       "    </tr>\n",
       "  </tbody>\n",
       "</table>\n",
       "<p>1727 rows × 7 columns</p>\n",
       "</div>"
      ],
      "text/plain": [
       "     Buying Maintenance  Doors Persons Lug_boot Safety Target\n",
       "0     vhigh       vhigh      2       2    small    med  unacc\n",
       "1     vhigh       vhigh      2       2    small   high  unacc\n",
       "2     vhigh       vhigh      2       2      med    low  unacc\n",
       "3     vhigh       vhigh      2       2      med    med  unacc\n",
       "4     vhigh       vhigh      2       2      med   high  unacc\n",
       "...     ...         ...    ...     ...      ...    ...    ...\n",
       "1722    low         low  5more    more      med    med   good\n",
       "1723    low         low  5more    more      med   high  vgood\n",
       "1724    low         low  5more    more      big    low  unacc\n",
       "1725    low         low  5more    more      big    med   good\n",
       "1726    low         low  5more    more      big   high  vgood\n",
       "\n",
       "[1727 rows x 7 columns]"
      ]
     },
     "execution_count": 6,
     "metadata": {},
     "output_type": "execute_result"
    }
   ],
   "source": [
    "df.columns = ['Buying','Maintenance','Doors','Persons','Lug_boot','Safety','Target']\n",
    "df"
   ]
  },
  {
   "cell_type": "code",
   "execution_count": 7,
   "id": "5a3d53af",
   "metadata": {},
   "outputs": [
    {
     "data": {
      "text/plain": [
       "Index(['Buying', 'Maintenance', 'Doors', 'Persons', 'Lug_boot', 'Safety',\n",
       "       'Target'],\n",
       "      dtype='object')"
      ]
     },
     "execution_count": 7,
     "metadata": {},
     "output_type": "execute_result"
    }
   ],
   "source": [
    "df.columns"
   ]
  },
  {
   "cell_type": "markdown",
   "id": "08f13b66",
   "metadata": {},
   "source": [
    "### Target"
   ]
  },
  {
   "cell_type": "code",
   "execution_count": 8,
   "id": "67d56a75",
   "metadata": {},
   "outputs": [
    {
     "data": {
      "text/plain": [
       "unacc    1209\n",
       "acc       384\n",
       "good       69\n",
       "vgood      65\n",
       "Name: Target, dtype: int64"
      ]
     },
     "execution_count": 8,
     "metadata": {},
     "output_type": "execute_result"
    }
   ],
   "source": [
    "df.Target.value_counts()"
   ]
  },
  {
   "cell_type": "code",
   "execution_count": 9,
   "id": "82f93aec",
   "metadata": {},
   "outputs": [
    {
     "data": {
      "text/plain": [
       "<AxesSubplot:xlabel='Target', ylabel='count'>"
      ]
     },
     "execution_count": 9,
     "metadata": {},
     "output_type": "execute_result"
    },
    {
     "data": {
      "image/png": "[encoded data removed]",
      "text/plain": [
       "<Figure size 432x288 with 1 Axes>"
      ]
     },
     "metadata": {
      "needs_background": "light"
     },
     "output_type": "display_data"
    }
   ],
   "source": [
    "plt.figure(figsize=(6,4))\n",
    "sns.countplot(x='Target', data=df, palette = 'magma')"
   ]
  },
  {
   "cell_type": "code",
   "execution_count": 10,
   "id": "eb416877",
   "metadata": {},
   "outputs": [],
   "source": [
    "def f(x):\n",
    "    if x == 'unacc':\n",
    "        return 0\n",
    "    if x == 'acc':\n",
    "        return 1\n",
    "    if x == 'good':\n",
    "        return 2\n",
    "    else:\n",
    "        return 3"
   ]
  },
  {
   "cell_type": "code",
   "execution_count": 11,
   "id": "e0a363ff",
   "metadata": {},
   "outputs": [],
   "source": [
    "df['Target_num'] = df.Target.apply(lambda x: f(x))\n"
   ]
  },
  {
   "cell_type": "code",
   "execution_count": 12,
   "id": "bee87fe1",
   "metadata": {},
   "outputs": [
    {
     "data": {
      "text/html": [
       "<div>\n",
       "<style scoped>\n",
       "    .dataframe tbody tr th:only-of-type {\n",
       "        vertical-align: middle;\n",
       "    }\n",
       "\n",
       "    .dataframe tbody tr th {\n",
       "        vertical-align: top;\n",
       "    }\n",
       "\n",
       "    .dataframe thead th {\n",
       "        text-align: right;\n",
       "    }\n",
       "</style>\n",
       "<table border=\"1\" class=\"dataframe\">\n",
       "  <thead>\n",
       "    <tr style=\"text-align: right;\">\n",
       "      <th></th>\n",
       "      <th>Buying</th>\n",
       "      <th>Maintenance</th>\n",
       "      <th>Doors</th>\n",
       "      <th>Persons</th>\n",
       "      <th>Lug_boot</th>\n",
       "      <th>Safety</th>\n",
       "      <th>Target</th>\n",
       "      <th>Target_num</th>\n",
       "    </tr>\n",
       "  </thead>\n",
       "  <tbody>\n",
       "    <tr>\n",
       "      <th>0</th>\n",
       "      <td>vhigh</td>\n",
       "      <td>vhigh</td>\n",
       "      <td>2</td>\n",
       "      <td>2</td>\n",
       "      <td>small</td>\n",
       "      <td>med</td>\n",
       "      <td>unacc</td>\n",
       "      <td>0</td>\n",
       "    </tr>\n",
       "    <tr>\n",
       "      <th>1</th>\n",
       "      <td>vhigh</td>\n",
       "      <td>vhigh</td>\n",
       "      <td>2</td>\n",
       "      <td>2</td>\n",
       "      <td>small</td>\n",
       "      <td>high</td>\n",
       "      <td>unacc</td>\n",
       "      <td>0</td>\n",
       "    </tr>\n",
       "    <tr>\n",
       "      <th>2</th>\n",
       "      <td>vhigh</td>\n",
       "      <td>vhigh</td>\n",
       "      <td>2</td>\n",
       "      <td>2</td>\n",
       "      <td>med</td>\n",
       "      <td>low</td>\n",
       "      <td>unacc</td>\n",
       "      <td>0</td>\n",
       "    </tr>\n",
       "    <tr>\n",
       "      <th>3</th>\n",
       "      <td>vhigh</td>\n",
       "      <td>vhigh</td>\n",
       "      <td>2</td>\n",
       "      <td>2</td>\n",
       "      <td>med</td>\n",
       "      <td>med</td>\n",
       "      <td>unacc</td>\n",
       "      <td>0</td>\n",
       "    </tr>\n",
       "    <tr>\n",
       "      <th>4</th>\n",
       "      <td>vhigh</td>\n",
       "      <td>vhigh</td>\n",
       "      <td>2</td>\n",
       "      <td>2</td>\n",
       "      <td>med</td>\n",
       "      <td>high</td>\n",
       "      <td>unacc</td>\n",
       "      <td>0</td>\n",
       "    </tr>\n",
       "    <tr>\n",
       "      <th>...</th>\n",
       "      <td>...</td>\n",
       "      <td>...</td>\n",
       "      <td>...</td>\n",
       "      <td>...</td>\n",
       "      <td>...</td>\n",
       "      <td>...</td>\n",
       "      <td>...</td>\n",
       "      <td>...</td>\n",
       "    </tr>\n",
       "    <tr>\n",
       "      <th>1722</th>\n",
       "      <td>low</td>\n",
       "      <td>low</td>\n",
       "      <td>5more</td>\n",
       "      <td>more</td>\n",
       "      <td>med</td>\n",
       "      <td>med</td>\n",
       "      <td>good</td>\n",
       "      <td>2</td>\n",
       "    </tr>\n",
       "    <tr>\n",
       "      <th>1723</th>\n",
       "      <td>low</td>\n",
       "      <td>low</td>\n",
       "      <td>5more</td>\n",
       "      <td>more</td>\n",
       "      <td>med</td>\n",
       "      <td>high</td>\n",
       "      <td>vgood</td>\n",
       "      <td>3</td>\n",
       "    </tr>\n",
       "    <tr>\n",
       "      <th>1724</th>\n",
       "      <td>low</td>\n",
       "      <td>low</td>\n",
       "      <td>5more</td>\n",
       "      <td>more</td>\n",
       "      <td>big</td>\n",
       "      <td>low</td>\n",
       "      <td>unacc</td>\n",
       "      <td>0</td>\n",
       "    </tr>\n",
       "    <tr>\n",
       "      <th>1725</th>\n",
       "      <td>low</td>\n",
       "      <td>low</td>\n",
       "      <td>5more</td>\n",
       "      <td>more</td>\n",
       "      <td>big</td>\n",
       "      <td>med</td>\n",
       "      <td>good</td>\n",
       "      <td>2</td>\n",
       "    </tr>\n",
       "    <tr>\n",
       "      <th>1726</th>\n",
       "      <td>low</td>\n",
       "      <td>low</td>\n",
       "      <td>5more</td>\n",
       "      <td>more</td>\n",
       "      <td>big</td>\n",
       "      <td>high</td>\n",
       "      <td>vgood</td>\n",
       "      <td>3</td>\n",
       "    </tr>\n",
       "  </tbody>\n",
       "</table>\n",
       "<p>1727 rows × 8 columns</p>\n",
       "</div>"
      ],
      "text/plain": [
       "     Buying Maintenance  Doors Persons Lug_boot Safety Target  Target_num\n",
       "0     vhigh       vhigh      2       2    small    med  unacc           0\n",
       "1     vhigh       vhigh      2       2    small   high  unacc           0\n",
       "2     vhigh       vhigh      2       2      med    low  unacc           0\n",
       "3     vhigh       vhigh      2       2      med    med  unacc           0\n",
       "4     vhigh       vhigh      2       2      med   high  unacc           0\n",
       "...     ...         ...    ...     ...      ...    ...    ...         ...\n",
       "1722    low         low  5more    more      med    med   good           2\n",
       "1723    low         low  5more    more      med   high  vgood           3\n",
       "1724    low         low  5more    more      big    low  unacc           0\n",
       "1725    low         low  5more    more      big    med   good           2\n",
       "1726    low         low  5more    more      big   high  vgood           3\n",
       "\n",
       "[1727 rows x 8 columns]"
      ]
     },
     "execution_count": 12,
     "metadata": {},
     "output_type": "execute_result"
    }
   ],
   "source": [
    "df"
   ]
  },
  {
   "cell_type": "markdown",
   "id": "89dbf40b",
   "metadata": {},
   "source": [
    "## Numeric Variables"
   ]
  },
  {
   "cell_type": "code",
   "execution_count": 13,
   "id": "3d7876c7",
   "metadata": {},
   "outputs": [
    {
     "data": {
      "text/plain": [
       "['Target_num']"
      ]
     },
     "execution_count": 13,
     "metadata": {},
     "output_type": "execute_result"
    }
   ],
   "source": [
    "num = [var for var in df.columns if df[var].dtype!='O']\n",
    "num"
   ]
  },
  {
   "cell_type": "markdown",
   "id": "ea2cd303",
   "metadata": {},
   "source": [
    "### Doors"
   ]
  },
  {
   "cell_type": "code",
   "execution_count": 14,
   "id": "9dea5ff2",
   "metadata": {},
   "outputs": [
    {
     "data": {
      "text/plain": [
       "4        432\n",
       "5more    432\n",
       "3        432\n",
       "2        431\n",
       "Name: Doors, dtype: int64"
      ]
     },
     "execution_count": 14,
     "metadata": {},
     "output_type": "execute_result"
    }
   ],
   "source": [
    "df.Doors.value_counts()"
   ]
  },
  {
   "cell_type": "code",
   "execution_count": 15,
   "id": "d558cd11",
   "metadata": {},
   "outputs": [],
   "source": [
    "df.Doors.replace('5more',5,inplace =True)"
   ]
  },
  {
   "cell_type": "code",
   "execution_count": 16,
   "id": "9539b0ef",
   "metadata": {},
   "outputs": [
    {
     "data": {
      "text/plain": [
       "5    432\n",
       "4    432\n",
       "3    432\n",
       "2    431\n",
       "Name: Doors, dtype: int64"
      ]
     },
     "execution_count": 16,
     "metadata": {},
     "output_type": "execute_result"
    }
   ],
   "source": [
    "df.Doors.value_counts()"
   ]
  },
  {
   "cell_type": "code",
   "execution_count": 17,
   "id": "122b48c7",
   "metadata": {},
   "outputs": [],
   "source": [
    "df.Doors = df.Doors.astype(int)"
   ]
  },
  {
   "cell_type": "code",
   "execution_count": 18,
   "id": "1fb2c6f8",
   "metadata": {},
   "outputs": [
    {
     "data": {
      "text/plain": [
       "<AxesSubplot:xlabel='Doors', ylabel='count'>"
      ]
     },
     "execution_count": 18,
     "metadata": {},
     "output_type": "execute_result"
    },
    {
     "data": {
      "image/png": "[encoded data removed]",
      "text/plain": [
       "<Figure size 576x360 with 1 Axes>"
      ]
     },
     "metadata": {
      "needs_background": "light"
     },
     "output_type": "display_data"
    }
   ],
   "source": [
    "plt.figure(figsize=(8,5))\n",
    "sns.countplot(x='Doors', hue=\"Target\", data=df, palette = 'magma')"
   ]
  },
  {
   "cell_type": "markdown",
   "id": "3222c24c",
   "metadata": {},
   "source": [
    "### Persons"
   ]
  },
  {
   "cell_type": "code",
   "execution_count": 19,
   "id": "ce5d819e",
   "metadata": {},
   "outputs": [
    {
     "data": {
      "text/plain": [
       "more    576\n",
       "4       576\n",
       "2       575\n",
       "Name: Persons, dtype: int64"
      ]
     },
     "execution_count": 19,
     "metadata": {},
     "output_type": "execute_result"
    }
   ],
   "source": [
    "df.Persons.value_counts()"
   ]
  },
  {
   "cell_type": "code",
   "execution_count": 20,
   "id": "7a015b53",
   "metadata": {},
   "outputs": [],
   "source": [
    "df.Persons.replace('more',6,inplace =True)"
   ]
  },
  {
   "cell_type": "code",
   "execution_count": 21,
   "id": "e490c371",
   "metadata": {},
   "outputs": [
    {
     "data": {
      "text/plain": [
       "0       2\n",
       "1       2\n",
       "2       2\n",
       "3       2\n",
       "4       2\n",
       "       ..\n",
       "1722    6\n",
       "1723    6\n",
       "1724    6\n",
       "1725    6\n",
       "1726    6\n",
       "Name: Persons, Length: 1727, dtype: object"
      ]
     },
     "execution_count": 21,
     "metadata": {},
     "output_type": "execute_result"
    }
   ],
   "source": [
    "df.Persons"
   ]
  },
  {
   "cell_type": "code",
   "execution_count": 22,
   "id": "bbfa01c1",
   "metadata": {},
   "outputs": [],
   "source": [
    "df.Persons = df.Persons.astype(int)"
   ]
  },
  {
   "cell_type": "code",
   "execution_count": 23,
   "id": "009fa147",
   "metadata": {},
   "outputs": [
    {
     "data": {
      "text/plain": [
       "<AxesSubplot:xlabel='Persons', ylabel='count'>"
      ]
     },
     "execution_count": 23,
     "metadata": {},
     "output_type": "execute_result"
    },
    {
     "data": {
      "image/png": "[encoded data removed]",
      "text/plain": [
       "<Figure size 576x360 with 1 Axes>"
      ]
     },
     "metadata": {
      "needs_background": "light"
     },
     "output_type": "display_data"
    }
   ],
   "source": [
    "plt.figure(figsize=(8,5))\n",
    "sns.countplot(x='Persons', hue=\"Target\", data=df, palette = 'magma')"
   ]
  },
  {
   "cell_type": "markdown",
   "id": "0fb22512",
   "metadata": {},
   "source": [
    "## Categorical Variables"
   ]
  },
  {
   "cell_type": "code",
   "execution_count": 24,
   "id": "666b05f9",
   "metadata": {},
   "outputs": [
    {
     "data": {
      "text/plain": [
       "['Buying', 'Maintenance', 'Lug_boot', 'Safety', 'Target']"
      ]
     },
     "execution_count": 24,
     "metadata": {},
     "output_type": "execute_result"
    }
   ],
   "source": [
    "cat = [var for var in df.columns if df[var].dtype=='O']\n",
    "cat"
   ]
  },
  {
   "cell_type": "markdown",
   "id": "9c1fc0b5",
   "metadata": {},
   "source": [
    "### Buying"
   ]
  },
  {
   "cell_type": "code",
   "execution_count": 25,
   "id": "2e2c69be",
   "metadata": {},
   "outputs": [
    {
     "data": {
      "text/plain": [
       "med      432\n",
       "low      432\n",
       "high     432\n",
       "vhigh    431\n",
       "Name: Buying, dtype: int64"
      ]
     },
     "execution_count": 25,
     "metadata": {},
     "output_type": "execute_result"
    }
   ],
   "source": [
    "df.Buying.value_counts()"
   ]
  },
  {
   "cell_type": "code",
   "execution_count": 26,
   "id": "55ca091f",
   "metadata": {},
   "outputs": [
    {
     "data": {
      "text/plain": [
       "<AxesSubplot:xlabel='Buying', ylabel='count'>"
      ]
     },
     "execution_count": 26,
     "metadata": {},
     "output_type": "execute_result"
    },
    {
     "data": {
      "image/png": "[encoded data removed]",
      "text/plain": [
       "<Figure size 648x432 with 1 Axes>"
      ]
     },
     "metadata": {
      "needs_background": "light"
     },
     "output_type": "display_data"
    }
   ],
   "source": [
    "plt.figure(figsize=(9,6))\n",
    "sns.countplot(x='Buying', hue=\"Target\", data=df, palette = 'magma')"
   ]
  },
  {
   "cell_type": "code",
   "execution_count": 27,
   "id": "824630e2",
   "metadata": {},
   "outputs": [
    {
     "data": {
      "text/plain": [
       "0    432\n",
       "1    432\n",
       "2    432\n",
       "3    431\n",
       "Name: Buying, dtype: int64"
      ]
     },
     "execution_count": 27,
     "metadata": {},
     "output_type": "execute_result"
    }
   ],
   "source": [
    "df['Buying'].replace(('low', 'med', 'high', 'vhigh'), (0, 1, 2, 3), inplace = True)\n",
    "\n",
    "df['Buying'].value_counts()"
   ]
  },
  {
   "cell_type": "markdown",
   "id": "3d459f22",
   "metadata": {},
   "source": [
    "### Maintenance"
   ]
  },
  {
   "cell_type": "code",
   "execution_count": 28,
   "id": "82795453",
   "metadata": {},
   "outputs": [
    {
     "data": {
      "text/plain": [
       "med      432\n",
       "low      432\n",
       "high     432\n",
       "vhigh    431\n",
       "Name: Maintenance, dtype: int64"
      ]
     },
     "execution_count": 28,
     "metadata": {},
     "output_type": "execute_result"
    }
   ],
   "source": [
    "df['Maintenance'].value_counts()"
   ]
  },
  {
   "cell_type": "code",
   "execution_count": 29,
   "id": "d90fcd58",
   "metadata": {},
   "outputs": [
    {
     "data": {
      "text/plain": [
       "<AxesSubplot:xlabel='Maintenance', ylabel='count'>"
      ]
     },
     "execution_count": 29,
     "metadata": {},
     "output_type": "execute_result"
    },
    {
     "data": {
      "image/png": "[encoded data removed]",
      "text/plain": [
       "<Figure size 576x360 with 1 Axes>"
      ]
     },
     "metadata": {
      "needs_background": "light"
     },
     "output_type": "display_data"
    }
   ],
   "source": [
    "plt.figure(figsize=(8,5))\n",
    "sns.countplot(x='Maintenance', hue=\"Target\", data=df, palette = 'magma')"
   ]
  },
  {
   "cell_type": "code",
   "execution_count": 30,
   "id": "675a9c48",
   "metadata": {},
   "outputs": [
    {
     "data": {
      "text/plain": [
       "0    432\n",
       "1    432\n",
       "2    432\n",
       "3    431\n",
       "Name: Maintenance, dtype: int64"
      ]
     },
     "execution_count": 30,
     "metadata": {},
     "output_type": "execute_result"
    }
   ],
   "source": [
    "df['Maintenance'].replace(('low', 'med', 'high', 'vhigh'), (0, 1, 2, 3), inplace = True)\n",
    "\n",
    "df['Maintenance'].value_counts()"
   ]
  },
  {
   "cell_type": "markdown",
   "id": "0d7ad923",
   "metadata": {},
   "source": [
    "### Lug_boot"
   ]
  },
  {
   "cell_type": "code",
   "execution_count": 31,
   "id": "87a1958c",
   "metadata": {},
   "outputs": [
    {
     "data": {
      "text/plain": [
       "med      576\n",
       "big      576\n",
       "small    575\n",
       "Name: Lug_boot, dtype: int64"
      ]
     },
     "execution_count": 31,
     "metadata": {},
     "output_type": "execute_result"
    }
   ],
   "source": [
    "df.Lug_boot.value_counts()"
   ]
  },
  {
   "cell_type": "code",
   "execution_count": 32,
   "id": "8caed43d",
   "metadata": {},
   "outputs": [
    {
     "data": {
      "text/plain": [
       "<AxesSubplot:xlabel='Lug_boot', ylabel='count'>"
      ]
     },
     "execution_count": 32,
     "metadata": {},
     "output_type": "execute_result"
    },
    {
     "data": {
      "image/png": "[encoded data removed]",
      "text/plain": [
       "<Figure size 576x360 with 1 Axes>"
      ]
     },
     "metadata": {
      "needs_background": "light"
     },
     "output_type": "display_data"
    }
   ],
   "source": [
    "plt.figure(figsize=(8,5))\n",
    "sns.countplot(x='Lug_boot', hue=\"Target\", data=df, palette = 'magma')"
   ]
  },
  {
   "cell_type": "code",
   "execution_count": 33,
   "id": "a8dbc9b8",
   "metadata": {},
   "outputs": [
    {
     "data": {
      "text/plain": [
       "1    576\n",
       "2    576\n",
       "0    575\n",
       "Name: Lug_boot, dtype: int64"
      ]
     },
     "execution_count": 33,
     "metadata": {},
     "output_type": "execute_result"
    }
   ],
   "source": [
    "df['Lug_boot'].replace(('small','med','big'), (0, 1, 2), inplace = True)\n",
    "\n",
    "df['Lug_boot'].value_counts()"
   ]
  },
  {
   "cell_type": "markdown",
   "id": "9b84598b",
   "metadata": {},
   "source": [
    "### Safety"
   ]
  },
  {
   "cell_type": "code",
   "execution_count": 34,
   "id": "53ec9ae1",
   "metadata": {},
   "outputs": [
    {
     "data": {
      "text/plain": [
       "med     576\n",
       "high    576\n",
       "low     575\n",
       "Name: Safety, dtype: int64"
      ]
     },
     "execution_count": 34,
     "metadata": {},
     "output_type": "execute_result"
    }
   ],
   "source": [
    "df.Safety.value_counts()"
   ]
  },
  {
   "cell_type": "code",
   "execution_count": 35,
   "id": "657b1bee",
   "metadata": {},
   "outputs": [
    {
     "data": {
      "text/plain": [
       "<AxesSubplot:xlabel='Safety', ylabel='count'>"
      ]
     },
     "execution_count": 35,
     "metadata": {},
     "output_type": "execute_result"
    },
    {
     "data": {
      "image/png": "[encoded data removed]",
      "text/plain": [
       "<Figure size 576x360 with 1 Axes>"
      ]
     },
     "metadata": {
      "needs_background": "light"
     },
     "output_type": "display_data"
    }
   ],
   "source": [
    "plt.figure(figsize=(8,5))\n",
    "sns.countplot(x='Safety', hue=\"Target\", data=df, palette = 'magma')"
   ]
  },
  {
   "cell_type": "code",
   "execution_count": 36,
   "id": "df4d075b",
   "metadata": {},
   "outputs": [
    {
     "data": {
      "text/plain": [
       "1    576\n",
       "2    576\n",
       "0    575\n",
       "Name: Safety, dtype: int64"
      ]
     },
     "execution_count": 36,
     "metadata": {},
     "output_type": "execute_result"
    }
   ],
   "source": [
    "df['Safety'].replace(('low','med','high'), (0, 1, 2), inplace = True)\n",
    "\n",
    "df['Safety'].value_counts()"
   ]
  },
  {
   "cell_type": "markdown",
   "id": "dd91cbb3",
   "metadata": {},
   "source": [
    "## Correlation Check"
   ]
  },
  {
   "cell_type": "code",
   "execution_count": 37,
   "id": "e7e8da61",
   "metadata": {},
   "outputs": [
    {
     "data": {
      "text/html": [
       "<div>\n",
       "<style scoped>\n",
       "    .dataframe tbody tr th:only-of-type {\n",
       "        vertical-align: middle;\n",
       "    }\n",
       "\n",
       "    .dataframe tbody tr th {\n",
       "        vertical-align: top;\n",
       "    }\n",
       "\n",
       "    .dataframe thead th {\n",
       "        text-align: right;\n",
       "    }\n",
       "</style>\n",
       "<table border=\"1\" class=\"dataframe\">\n",
       "  <thead>\n",
       "    <tr style=\"text-align: right;\">\n",
       "      <th></th>\n",
       "      <th>Buying</th>\n",
       "      <th>Maintenance</th>\n",
       "      <th>Doors</th>\n",
       "      <th>Persons</th>\n",
       "      <th>Lug_boot</th>\n",
       "      <th>Safety</th>\n",
       "      <th>Target_num</th>\n",
       "    </tr>\n",
       "  </thead>\n",
       "  <tbody>\n",
       "    <tr>\n",
       "      <th>Buying</th>\n",
       "      <td>1.000000</td>\n",
       "      <td>-0.001043</td>\n",
       "      <td>0.001043</td>\n",
       "      <td>0.000952</td>\n",
       "      <td>0.000952</td>\n",
       "      <td>0.000952</td>\n",
       "      <td>-0.282488</td>\n",
       "    </tr>\n",
       "    <tr>\n",
       "      <th>Maintenance</th>\n",
       "      <td>-0.001043</td>\n",
       "      <td>1.000000</td>\n",
       "      <td>0.001043</td>\n",
       "      <td>0.000952</td>\n",
       "      <td>0.000952</td>\n",
       "      <td>0.000952</td>\n",
       "      <td>-0.232128</td>\n",
       "    </tr>\n",
       "    <tr>\n",
       "      <th>Doors</th>\n",
       "      <td>0.001043</td>\n",
       "      <td>0.001043</td>\n",
       "      <td>1.000000</td>\n",
       "      <td>-0.000952</td>\n",
       "      <td>-0.000952</td>\n",
       "      <td>-0.000952</td>\n",
       "      <td>0.065662</td>\n",
       "    </tr>\n",
       "    <tr>\n",
       "      <th>Persons</th>\n",
       "      <td>0.000952</td>\n",
       "      <td>0.000952</td>\n",
       "      <td>-0.000952</td>\n",
       "      <td>1.000000</td>\n",
       "      <td>-0.000869</td>\n",
       "      <td>-0.000869</td>\n",
       "      <td>0.341489</td>\n",
       "    </tr>\n",
       "    <tr>\n",
       "      <th>Lug_boot</th>\n",
       "      <td>0.000952</td>\n",
       "      <td>0.000952</td>\n",
       "      <td>-0.000952</td>\n",
       "      <td>-0.000869</td>\n",
       "      <td>1.000000</td>\n",
       "      <td>-0.000869</td>\n",
       "      <td>0.157617</td>\n",
       "    </tr>\n",
       "    <tr>\n",
       "      <th>Safety</th>\n",
       "      <td>0.000952</td>\n",
       "      <td>0.000952</td>\n",
       "      <td>-0.000952</td>\n",
       "      <td>-0.000869</td>\n",
       "      <td>-0.000869</td>\n",
       "      <td>1.000000</td>\n",
       "      <td>0.439171</td>\n",
       "    </tr>\n",
       "    <tr>\n",
       "      <th>Target_num</th>\n",
       "      <td>-0.282488</td>\n",
       "      <td>-0.232128</td>\n",
       "      <td>0.065662</td>\n",
       "      <td>0.341489</td>\n",
       "      <td>0.157617</td>\n",
       "      <td>0.439171</td>\n",
       "      <td>1.000000</td>\n",
       "    </tr>\n",
       "  </tbody>\n",
       "</table>\n",
       "</div>"
      ],
      "text/plain": [
       "               Buying  Maintenance     Doors   Persons  Lug_boot    Safety  \\\n",
       "Buying       1.000000    -0.001043  0.001043  0.000952  0.000952  0.000952   \n",
       "Maintenance -0.001043     1.000000  0.001043  0.000952  0.000952  0.000952   \n",
       "Doors        0.001043     0.001043  1.000000 -0.000952 -0.000952 -0.000952   \n",
       "Persons      0.000952     0.000952 -0.000952  1.000000 -0.000869 -0.000869   \n",
       "Lug_boot     0.000952     0.000952 -0.000952 -0.000869  1.000000 -0.000869   \n",
       "Safety       0.000952     0.000952 -0.000952 -0.000869 -0.000869  1.000000   \n",
       "Target_num  -0.282488    -0.232128  0.065662  0.341489  0.157617  0.439171   \n",
       "\n",
       "             Target_num  \n",
       "Buying        -0.282488  \n",
       "Maintenance   -0.232128  \n",
       "Doors          0.065662  \n",
       "Persons        0.341489  \n",
       "Lug_boot       0.157617  \n",
       "Safety         0.439171  \n",
       "Target_num     1.000000  "
      ]
     },
     "execution_count": 37,
     "metadata": {},
     "output_type": "execute_result"
    }
   ],
   "source": [
    "df.corr()"
   ]
  },
  {
   "cell_type": "code",
   "execution_count": 38,
   "id": "8643c73b",
   "metadata": {},
   "outputs": [
    {
     "data": {
      "text/plain": [
       "<AxesSubplot:>"
      ]
     },
     "execution_count": 38,
     "metadata": {},
     "output_type": "execute_result"
    },
    {
     "data": {
      "image/png": "[encoded data removed]",
      "text/plain": [
       "<Figure size 432x288 with 2 Axes>"
      ]
     },
     "metadata": {
      "needs_background": "light"
     },
     "output_type": "display_data"
    }
   ],
   "source": [
    "sns.heatmap(df.corr(),linewidths=.5,cmap=\"magma\")"
   ]
  },
  {
   "cell_type": "markdown",
   "id": "bebcbbf3",
   "metadata": {},
   "source": [
    "## Train-Test Split"
   ]
  },
  {
   "cell_type": "code",
   "execution_count": 39,
   "id": "d1aae8bb",
   "metadata": {},
   "outputs": [],
   "source": [
    "from sklearn.model_selection import train_test_split"
   ]
  },
  {
   "cell_type": "code",
   "execution_count": 40,
   "id": "e4c738ea",
   "metadata": {},
   "outputs": [],
   "source": [
    "X_train, X_test, y_train, y_test = train_test_split(df.drop(['Target','Target_num'],axis=1), df.Target, test_size=0.2, random_state=42)"
   ]
  },
  {
   "cell_type": "markdown",
   "id": "55d5f733",
   "metadata": {},
   "source": [
    "## Model"
   ]
  },
  {
   "cell_type": "code",
   "execution_count": 41,
   "id": "cb7f3477",
   "metadata": {},
   "outputs": [],
   "source": [
    "from sklearn.ensemble import RandomForestClassifier"
   ]
  },
  {
   "cell_type": "code",
   "execution_count": 42,
   "id": "a5aa5ae0",
   "metadata": {},
   "outputs": [],
   "source": [
    "rfc = RandomForestClassifier(max_depth=11)"
   ]
  },
  {
   "cell_type": "code",
   "execution_count": 43,
   "id": "ae635513",
   "metadata": {},
   "outputs": [
    {
     "data": {
      "text/plain": [
       "RandomForestClassifier(max_depth=11)"
      ]
     },
     "execution_count": 43,
     "metadata": {},
     "output_type": "execute_result"
    }
   ],
   "source": [
    "rfc.fit(X_train,y_train)"
   ]
  },
  {
   "cell_type": "code",
   "execution_count": 44,
   "id": "2cbf2e63",
   "metadata": {},
   "outputs": [
    {
     "data": {
      "text/plain": [
       "0.9682080924855492"
      ]
     },
     "execution_count": 44,
     "metadata": {},
     "output_type": "execute_result"
    }
   ],
   "source": [
    "rfc.score(X_test,y_test)"
   ]
  },
  {
   "cell_type": "code",
   "execution_count": 45,
   "id": "6aa84aa5",
   "metadata": {},
   "outputs": [
    {
     "data": {
      "text/plain": [
       "1.0"
      ]
     },
     "execution_count": 45,
     "metadata": {},
     "output_type": "execute_result"
    }
   ],
   "source": [
    "rfc.score(X_train,y_train)"
   ]
  },
  {
   "cell_type": "markdown",
   "id": "a7f4acf7",
   "metadata": {},
   "source": [
    "## Hyper Parameter Tuning"
   ]
  },
  {
   "cell_type": "code",
   "execution_count": 46,
   "id": "930be139",
   "metadata": {},
   "outputs": [
    {
     "name": "stdout",
     "output_type": "stream",
     "text": [
      "Accuracy for depth 1 is 0.684971098265896\n",
      "Accuracy for depth 2 is 0.684971098265896\n",
      "Accuracy for depth 3 is 0.7514450867052023\n",
      "Accuracy for depth 4 is 0.884393063583815\n",
      "Accuracy for depth 5 is 0.8872832369942196\n",
      "Accuracy for depth 6 is 0.9393063583815029\n",
      "Accuracy for depth 7 is 0.9479768786127167\n",
      "Accuracy for depth 8 is 0.9595375722543352\n",
      "Accuracy for depth 9 is 0.9624277456647399\n",
      "Accuracy for depth 10 is 0.9710982658959537\n",
      "Accuracy for depth 11 is 0.976878612716763\n",
      "Accuracy for depth 12 is 0.9739884393063584\n",
      "Accuracy for depth 13 is 0.9653179190751445\n",
      "Accuracy for depth 14 is 0.976878612716763\n",
      "Accuracy for depth 15 is 0.9653179190751445\n",
      "Accuracy for depth 16 is 0.9710982658959537\n",
      "Accuracy for depth 17 is 0.9682080924855492\n",
      "Accuracy for depth 18 is 0.9682080924855492\n",
      "Accuracy for depth 19 is 0.976878612716763\n",
      "Accuracy for depth 20 is 0.9739884393063584\n",
      "Accuracy for depth 21 is 0.9710982658959537\n",
      "Accuracy for depth 22 is 0.9739884393063584\n",
      "Accuracy for depth 23 is 0.9739884393063584\n",
      "Accuracy for depth 24 is 0.9710982658959537\n",
      "Accuracy for depth 25 is 0.976878612716763\n",
      "Accuracy for depth 26 is 0.9739884393063584\n",
      "Accuracy for depth 27 is 0.9739884393063584\n",
      "Accuracy for depth 28 is 0.9739884393063584\n",
      "Accuracy for depth 29 is 0.9739884393063584\n"
     ]
    }
   ],
   "source": [
    "scores = []\n",
    "max_depth = []\n",
    "for i in range(1,30):\n",
    "    max_depth.append(i)\n",
    "    tree_test= RandomForestClassifier(max_depth=i,criterion='gini')\n",
    "    tree_test.fit(X_train,y_train)\n",
    "    scores.append(tree_test.score(X_test,y_test))\n",
    "    print('Accuracy for depth',i, \"is\",tree_test.score(X_test,y_test))"
   ]
  },
  {
   "cell_type": "code",
   "execution_count": 47,
   "id": "198e23bb",
   "metadata": {},
   "outputs": [
    {
     "data": {
      "text/plain": [
       "<AxesSubplot:xlabel='Max Depth', ylabel='Random Forest Score'>"
      ]
     },
     "execution_count": 47,
     "metadata": {},
     "output_type": "execute_result"
    },
    {
     "data": {
      "image/png": "[encoded data removed]",
      "text/plain": [
       "<Figure size 432x288 with 1 Axes>"
      ]
     },
     "metadata": {
      "needs_background": "light"
     },
     "output_type": "display_data"
    }
   ],
   "source": [
    "plt.xlabel('Max Depth')\n",
    "plt.ylabel('Random Forest Score')\n",
    "sns.lineplot(x=max_depth, y= scores, color='brown', linewidth=3, markers = 'bo')\n"
   ]
  },
  {
   "cell_type": "code",
   "execution_count": 48,
   "id": "7dc87f42",
   "metadata": {},
   "outputs": [
    {
     "data": {
      "text/plain": [
       "0.976878612716763"
      ]
     },
     "execution_count": 48,
     "metadata": {},
     "output_type": "execute_result"
    }
   ],
   "source": [
    "max_score = max(scores)\n",
    "max_score"
   ]
  },
  {
   "cell_type": "code",
   "execution_count": 49,
   "id": "73313832",
   "metadata": {},
   "outputs": [
    {
     "data": {
      "text/plain": [
       "11"
      ]
     },
     "execution_count": 49,
     "metadata": {},
     "output_type": "execute_result"
    }
   ],
   "source": [
    "max_index = scores.index(max_score)\n",
    "max_index+1"
   ]
  },
  {
   "cell_type": "markdown",
   "id": "e2be56cd",
   "metadata": {},
   "source": [
    "## Grid Search CV"
   ]
  },
  {
   "cell_type": "code",
   "execution_count": 50,
   "id": "cb11b87c",
   "metadata": {},
   "outputs": [],
   "source": [
    "from sklearn.model_selection import GridSearchCV"
   ]
  },
  {
   "cell_type": "code",
   "execution_count": 51,
   "id": "2c8c6fa6",
   "metadata": {},
   "outputs": [],
   "source": [
    "params = {\n",
    "    'n_estimators' : [30,40,50,60,70,80,100],\n",
    "    'max_features' : ['auto','sqrt'],\n",
    "    'max_depth': [ 5, 10, 15],\n",
    "    'min_samples_leaf': [1, 2, 5, 10],\n",
    "    'min_samples_split': [2,4,8]\n",
    "}"
   ]
  },
  {
   "cell_type": "code",
   "execution_count": 52,
   "id": "8e84d0db",
   "metadata": {},
   "outputs": [],
   "source": [
    "grid_search = GridSearchCV(estimator=rfc, \n",
    "                           param_grid=params, \n",
    "                           cv=2, n_jobs=-1, verbose=2, scoring = \"accuracy\")"
   ]
  },
  {
   "cell_type": "code",
   "execution_count": 53,
   "id": "82f6e0fa",
   "metadata": {},
   "outputs": [
    {
     "name": "stdout",
     "output_type": "stream",
     "text": [
      "Fitting 2 folds for each of 504 candidates, totalling 1008 fits\n"
     ]
    },
    {
     "data": {
      "text/plain": [
       "GridSearchCV(cv=2, estimator=RandomForestClassifier(max_depth=11), n_jobs=-1,\n",
       "             param_grid={'max_depth': [5, 10, 15],\n",
       "                         'max_features': ['auto', 'sqrt'],\n",
       "                         'min_samples_leaf': [1, 2, 5, 10],\n",
       "                         'min_samples_split': [2, 4, 8],\n",
       "                         'n_estimators': [30, 40, 50, 60, 70, 80, 100]},\n",
       "             scoring='accuracy', verbose=2)"
      ]
     },
     "execution_count": 53,
     "metadata": {},
     "output_type": "execute_result"
    }
   ],
   "source": [
    "grid_search.fit(X_train, y_train)"
   ]
  },
  {
   "cell_type": "code",
   "execution_count": 54,
   "id": "ec527b28",
   "metadata": {},
   "outputs": [
    {
     "data": {
      "text/html": [
       "<div>\n",
       "<style scoped>\n",
       "    .dataframe tbody tr th:only-of-type {\n",
       "        vertical-align: middle;\n",
       "    }\n",
       "\n",
       "    .dataframe tbody tr th {\n",
       "        vertical-align: top;\n",
       "    }\n",
       "\n",
       "    .dataframe thead th {\n",
       "        text-align: right;\n",
       "    }\n",
       "</style>\n",
       "<table border=\"1\" class=\"dataframe\">\n",
       "  <thead>\n",
       "    <tr style=\"text-align: right;\">\n",
       "      <th></th>\n",
       "      <th>mean_fit_time</th>\n",
       "      <th>std_fit_time</th>\n",
       "      <th>mean_score_time</th>\n",
       "      <th>std_score_time</th>\n",
       "      <th>param_max_depth</th>\n",
       "      <th>param_max_features</th>\n",
       "      <th>param_min_samples_leaf</th>\n",
       "      <th>param_min_samples_split</th>\n",
       "      <th>param_n_estimators</th>\n",
       "      <th>params</th>\n",
       "      <th>split0_test_score</th>\n",
       "      <th>split1_test_score</th>\n",
       "      <th>mean_test_score</th>\n",
       "      <th>std_test_score</th>\n",
       "      <th>rank_test_score</th>\n",
       "    </tr>\n",
       "  </thead>\n",
       "  <tbody>\n",
       "    <tr>\n",
       "      <th>0</th>\n",
       "      <td>0.213001</td>\n",
       "      <td>0.003092</td>\n",
       "      <td>0.027375</td>\n",
       "      <td>0.003935</td>\n",
       "      <td>5</td>\n",
       "      <td>auto</td>\n",
       "      <td>1</td>\n",
       "      <td>2</td>\n",
       "      <td>30</td>\n",
       "      <td>{'max_depth': 5, 'max_features': 'auto', 'min_...</td>\n",
       "      <td>0.862518</td>\n",
       "      <td>0.908696</td>\n",
       "      <td>0.885607</td>\n",
       "      <td>0.023089</td>\n",
       "      <td>393</td>\n",
       "    </tr>\n",
       "    <tr>\n",
       "      <th>1</th>\n",
       "      <td>0.262003</td>\n",
       "      <td>0.007217</td>\n",
       "      <td>0.032634</td>\n",
       "      <td>0.000738</td>\n",
       "      <td>5</td>\n",
       "      <td>auto</td>\n",
       "      <td>1</td>\n",
       "      <td>2</td>\n",
       "      <td>40</td>\n",
       "      <td>{'max_depth': 5, 'max_features': 'auto', 'min_...</td>\n",
       "      <td>0.879884</td>\n",
       "      <td>0.869565</td>\n",
       "      <td>0.874725</td>\n",
       "      <td>0.005160</td>\n",
       "      <td>482</td>\n",
       "    </tr>\n",
       "    <tr>\n",
       "      <th>2</th>\n",
       "      <td>0.315638</td>\n",
       "      <td>0.006433</td>\n",
       "      <td>0.031146</td>\n",
       "      <td>0.001059</td>\n",
       "      <td>5</td>\n",
       "      <td>auto</td>\n",
       "      <td>1</td>\n",
       "      <td>2</td>\n",
       "      <td>50</td>\n",
       "      <td>{'max_depth': 5, 'max_features': 'auto', 'min_...</td>\n",
       "      <td>0.881331</td>\n",
       "      <td>0.882609</td>\n",
       "      <td>0.881970</td>\n",
       "      <td>0.000639</td>\n",
       "      <td>430</td>\n",
       "    </tr>\n",
       "    <tr>\n",
       "      <th>3</th>\n",
       "      <td>0.361400</td>\n",
       "      <td>0.009918</td>\n",
       "      <td>0.035501</td>\n",
       "      <td>0.003449</td>\n",
       "      <td>5</td>\n",
       "      <td>auto</td>\n",
       "      <td>1</td>\n",
       "      <td>2</td>\n",
       "      <td>60</td>\n",
       "      <td>{'max_depth': 5, 'max_features': 'auto', 'min_...</td>\n",
       "      <td>0.881331</td>\n",
       "      <td>0.876812</td>\n",
       "      <td>0.879071</td>\n",
       "      <td>0.002260</td>\n",
       "      <td>454</td>\n",
       "    </tr>\n",
       "    <tr>\n",
       "      <th>4</th>\n",
       "      <td>0.323175</td>\n",
       "      <td>0.000190</td>\n",
       "      <td>0.037718</td>\n",
       "      <td>0.010816</td>\n",
       "      <td>5</td>\n",
       "      <td>auto</td>\n",
       "      <td>1</td>\n",
       "      <td>2</td>\n",
       "      <td>70</td>\n",
       "      <td>{'max_depth': 5, 'max_features': 'auto', 'min_...</td>\n",
       "      <td>0.894356</td>\n",
       "      <td>0.884058</td>\n",
       "      <td>0.889207</td>\n",
       "      <td>0.005149</td>\n",
       "      <td>362</td>\n",
       "    </tr>\n",
       "    <tr>\n",
       "      <th>...</th>\n",
       "      <td>...</td>\n",
       "      <td>...</td>\n",
       "      <td>...</td>\n",
       "      <td>...</td>\n",
       "      <td>...</td>\n",
       "      <td>...</td>\n",
       "      <td>...</td>\n",
       "      <td>...</td>\n",
       "      <td>...</td>\n",
       "      <td>...</td>\n",
       "      <td>...</td>\n",
       "      <td>...</td>\n",
       "      <td>...</td>\n",
       "      <td>...</td>\n",
       "      <td>...</td>\n",
       "    </tr>\n",
       "    <tr>\n",
       "      <th>499</th>\n",
       "      <td>0.243393</td>\n",
       "      <td>0.002058</td>\n",
       "      <td>0.032571</td>\n",
       "      <td>0.001833</td>\n",
       "      <td>15</td>\n",
       "      <td>sqrt</td>\n",
       "      <td>10</td>\n",
       "      <td>8</td>\n",
       "      <td>50</td>\n",
       "      <td>{'max_depth': 15, 'max_features': 'sqrt', 'min...</td>\n",
       "      <td>0.900145</td>\n",
       "      <td>0.918841</td>\n",
       "      <td>0.909493</td>\n",
       "      <td>0.009348</td>\n",
       "      <td>272</td>\n",
       "    </tr>\n",
       "    <tr>\n",
       "      <th>500</th>\n",
       "      <td>0.292082</td>\n",
       "      <td>0.001700</td>\n",
       "      <td>0.035768</td>\n",
       "      <td>0.000006</td>\n",
       "      <td>15</td>\n",
       "      <td>sqrt</td>\n",
       "      <td>10</td>\n",
       "      <td>8</td>\n",
       "      <td>60</td>\n",
       "      <td>{'max_depth': 15, 'max_features': 'sqrt', 'min...</td>\n",
       "      <td>0.917511</td>\n",
       "      <td>0.904348</td>\n",
       "      <td>0.910929</td>\n",
       "      <td>0.006582</td>\n",
       "      <td>267</td>\n",
       "    </tr>\n",
       "    <tr>\n",
       "      <th>501</th>\n",
       "      <td>0.342825</td>\n",
       "      <td>0.004005</td>\n",
       "      <td>0.045938</td>\n",
       "      <td>0.000838</td>\n",
       "      <td>15</td>\n",
       "      <td>sqrt</td>\n",
       "      <td>10</td>\n",
       "      <td>8</td>\n",
       "      <td>70</td>\n",
       "      <td>{'max_depth': 15, 'max_features': 'sqrt', 'min...</td>\n",
       "      <td>0.911722</td>\n",
       "      <td>0.895652</td>\n",
       "      <td>0.903687</td>\n",
       "      <td>0.008035</td>\n",
       "      <td>310</td>\n",
       "    </tr>\n",
       "    <tr>\n",
       "      <th>502</th>\n",
       "      <td>0.394172</td>\n",
       "      <td>0.002637</td>\n",
       "      <td>0.051340</td>\n",
       "      <td>0.000279</td>\n",
       "      <td>15</td>\n",
       "      <td>sqrt</td>\n",
       "      <td>10</td>\n",
       "      <td>8</td>\n",
       "      <td>80</td>\n",
       "      <td>{'max_depth': 15, 'max_features': 'sqrt', 'min...</td>\n",
       "      <td>0.911722</td>\n",
       "      <td>0.898551</td>\n",
       "      <td>0.905136</td>\n",
       "      <td>0.006586</td>\n",
       "      <td>303</td>\n",
       "    </tr>\n",
       "    <tr>\n",
       "      <th>503</th>\n",
       "      <td>0.494921</td>\n",
       "      <td>0.009342</td>\n",
       "      <td>0.056772</td>\n",
       "      <td>0.005847</td>\n",
       "      <td>15</td>\n",
       "      <td>sqrt</td>\n",
       "      <td>10</td>\n",
       "      <td>8</td>\n",
       "      <td>100</td>\n",
       "      <td>{'max_depth': 15, 'max_features': 'sqrt', 'min...</td>\n",
       "      <td>0.907381</td>\n",
       "      <td>0.908696</td>\n",
       "      <td>0.908038</td>\n",
       "      <td>0.000658</td>\n",
       "      <td>286</td>\n",
       "    </tr>\n",
       "  </tbody>\n",
       "</table>\n",
       "<p>504 rows × 15 columns</p>\n",
       "</div>"
      ],
      "text/plain": [
       "     mean_fit_time  std_fit_time  mean_score_time  std_score_time  \\\n",
       "0         0.213001      0.003092         0.027375        0.003935   \n",
       "1         0.262003      0.007217         0.032634        0.000738   \n",
       "2         0.315638      0.006433         0.031146        0.001059   \n",
       "3         0.361400      0.009918         0.035501        0.003449   \n",
       "4         0.323175      0.000190         0.037718        0.010816   \n",
       "..             ...           ...              ...             ...   \n",
       "499       0.243393      0.002058         0.032571        0.001833   \n",
       "500       0.292082      0.001700         0.035768        0.000006   \n",
       "501       0.342825      0.004005         0.045938        0.000838   \n",
       "502       0.394172      0.002637         0.051340        0.000279   \n",
       "503       0.494921      0.009342         0.056772        0.005847   \n",
       "\n",
       "    param_max_depth param_max_features param_min_samples_leaf  \\\n",
       "0                 5               auto                      1   \n",
       "1                 5               auto                      1   \n",
       "2                 5               auto                      1   \n",
       "3                 5               auto                      1   \n",
       "4                 5               auto                      1   \n",
       "..              ...                ...                    ...   \n",
       "499              15               sqrt                     10   \n",
       "500              15               sqrt                     10   \n",
       "501              15               sqrt                     10   \n",
       "502              15               sqrt                     10   \n",
       "503              15               sqrt                     10   \n",
       "\n",
       "    param_min_samples_split param_n_estimators  \\\n",
       "0                         2                 30   \n",
       "1                         2                 40   \n",
       "2                         2                 50   \n",
       "3                         2                 60   \n",
       "4                         2                 70   \n",
       "..                      ...                ...   \n",
       "499                       8                 50   \n",
       "500                       8                 60   \n",
       "501                       8                 70   \n",
       "502                       8                 80   \n",
       "503                       8                100   \n",
       "\n",
       "                                                params  split0_test_score  \\\n",
       "0    {'max_depth': 5, 'max_features': 'auto', 'min_...           0.862518   \n",
       "1    {'max_depth': 5, 'max_features': 'auto', 'min_...           0.879884   \n",
       "2    {'max_depth': 5, 'max_features': 'auto', 'min_...           0.881331   \n",
       "3    {'max_depth': 5, 'max_features': 'auto', 'min_...           0.881331   \n",
       "4    {'max_depth': 5, 'max_features': 'auto', 'min_...           0.894356   \n",
       "..                                                 ...                ...   \n",
       "499  {'max_depth': 15, 'max_features': 'sqrt', 'min...           0.900145   \n",
       "500  {'max_depth': 15, 'max_features': 'sqrt', 'min...           0.917511   \n",
       "501  {'max_depth': 15, 'max_features': 'sqrt', 'min...           0.911722   \n",
       "502  {'max_depth': 15, 'max_features': 'sqrt', 'min...           0.911722   \n",
       "503  {'max_depth': 15, 'max_features': 'sqrt', 'min...           0.907381   \n",
       "\n",
       "     split1_test_score  mean_test_score  std_test_score  rank_test_score  \n",
       "0             0.908696         0.885607        0.023089              393  \n",
       "1             0.869565         0.874725        0.005160              482  \n",
       "2             0.882609         0.881970        0.000639              430  \n",
       "3             0.876812         0.879071        0.002260              454  \n",
       "4             0.884058         0.889207        0.005149              362  \n",
       "..                 ...              ...             ...              ...  \n",
       "499           0.918841         0.909493        0.009348              272  \n",
       "500           0.904348         0.910929        0.006582              267  \n",
       "501           0.895652         0.903687        0.008035              310  \n",
       "502           0.898551         0.905136        0.006586              303  \n",
       "503           0.908696         0.908038        0.000658              286  \n",
       "\n",
       "[504 rows x 15 columns]"
      ]
     },
     "execution_count": 54,
     "metadata": {},
     "output_type": "execute_result"
    }
   ],
   "source": [
    "\n",
    "\n",
    "score_df = pd.DataFrame(grid_search.cv_results_)\n",
    "score_df"
   ]
  },
  {
   "cell_type": "code",
   "execution_count": 55,
   "id": "7960cf05",
   "metadata": {},
   "outputs": [
    {
     "data": {
      "text/plain": [
       "RandomForestClassifier(max_depth=15, max_features='sqrt')"
      ]
     },
     "execution_count": 55,
     "metadata": {},
     "output_type": "execute_result"
    }
   ],
   "source": [
    "grid_search.best_estimator_"
   ]
  },
  {
   "cell_type": "markdown",
   "id": "609a1991",
   "metadata": {},
   "source": [
    "## Best Model"
   ]
  },
  {
   "cell_type": "code",
   "execution_count": 56,
   "id": "bc8af96a",
   "metadata": {},
   "outputs": [],
   "source": [
    "rfc_best =RandomForestClassifier(max_depth=15, n_estimators=60)"
   ]
  },
  {
   "cell_type": "code",
   "execution_count": 57,
   "id": "16324413",
   "metadata": {},
   "outputs": [
    {
     "data": {
      "text/plain": [
       "RandomForestClassifier(max_depth=15, n_estimators=60)"
      ]
     },
     "execution_count": 57,
     "metadata": {},
     "output_type": "execute_result"
    }
   ],
   "source": [
    "rfc_best.fit(X_train,y_train)"
   ]
  },
  {
   "cell_type": "code",
   "execution_count": 58,
   "id": "0308eb34",
   "metadata": {},
   "outputs": [
    {
     "data": {
      "text/plain": [
       "0.9682080924855492"
      ]
     },
     "execution_count": 58,
     "metadata": {},
     "output_type": "execute_result"
    }
   ],
   "source": [
    "rfc_best.score(X_test,y_test)"
   ]
  },
  {
   "cell_type": "code",
   "execution_count": 59,
   "id": "861025fd",
   "metadata": {},
   "outputs": [
    {
     "data": {
      "text/plain": [
       "1.0"
      ]
     },
     "execution_count": 59,
     "metadata": {},
     "output_type": "execute_result"
    }
   ],
   "source": [
    "rfc_best.score(X_train,y_train)"
   ]
  },
  {
   "cell_type": "markdown",
   "id": "2447323f",
   "metadata": {},
   "source": [
    "## XGBoost"
   ]
  },
  {
   "cell_type": "code",
   "execution_count": 60,
   "id": "1a7fc4c7",
   "metadata": {},
   "outputs": [],
   "source": [
    "from xgboost import XGBClassifier"
   ]
  },
  {
   "cell_type": "code",
   "execution_count": 61,
   "id": "c7d7d12e",
   "metadata": {},
   "outputs": [],
   "source": [
    "xgb = XGBClassifier()"
   ]
  },
  {
   "cell_type": "code",
   "execution_count": 62,
   "id": "22f80373",
   "metadata": {},
   "outputs": [
    {
     "name": "stderr",
     "output_type": "stream",
     "text": [
      "D:\\Anaconda_Installed\\lib\\site-packages\\xgboost\\sklearn.py:1146: UserWarning: The use of label encoder in XGBClassifier is deprecated and will be removed in a future release. To remove this warning, do the following: 1) Pass option use_label_encoder=False when constructing XGBClassifier object; and 2) Encode your labels (y) as integers starting with 0, i.e. 0, 1, 2, ..., [num_class - 1].\n",
      "  warnings.warn(label_encoder_deprecation_msg, UserWarning)\n"
     ]
    },
    {
     "name": "stdout",
     "output_type": "stream",
     "text": [
      "[12:21:33] WARNING: C:/Users/Administrator/workspace/xgboost-win64_release_1.4.0/src/learner.cc:1095: Starting in XGBoost 1.3.0, the default evaluation metric used with the objective 'multi:softprob' was changed from 'merror' to 'mlogloss'. Explicitly set eval_metric if you'd like to restore the old behavior.\n"
     ]
    },
    {
     "data": {
      "text/plain": [
       "XGBClassifier(base_score=0.5, booster='gbtree', colsample_bylevel=1,\n",
       "              colsample_bynode=1, colsample_bytree=1, gamma=0, gpu_id=-1,\n",
       "              importance_type='gain', interaction_constraints='',\n",
       "              learning_rate=0.300000012, max_delta_step=0, max_depth=6,\n",
       "              min_child_weight=1, missing=nan, monotone_constraints='()',\n",
       "              n_estimators=100, n_jobs=8, num_parallel_tree=1,\n",
       "              objective='multi:softprob', random_state=0, reg_alpha=0,\n",
       "              reg_lambda=1, scale_pos_weight=None, subsample=1,\n",
       "              tree_method='exact', validate_parameters=1, verbosity=None)"
      ]
     },
     "execution_count": 62,
     "metadata": {},
     "output_type": "execute_result"
    }
   ],
   "source": [
    "xgb.fit(X_train, y_train)"
   ]
  },
  {
   "cell_type": "code",
   "execution_count": 63,
   "id": "fdff8920",
   "metadata": {},
   "outputs": [
    {
     "data": {
      "text/plain": [
       "1.0"
      ]
     },
     "execution_count": 63,
     "metadata": {},
     "output_type": "execute_result"
    }
   ],
   "source": [
    "xgb.score(X_train, y_train)"
   ]
  },
  {
   "cell_type": "code",
   "execution_count": 64,
   "id": "799b89b2",
   "metadata": {},
   "outputs": [
    {
     "data": {
      "text/plain": [
       "0.9826589595375722"
      ]
     },
     "execution_count": 64,
     "metadata": {},
     "output_type": "execute_result"
    }
   ],
   "source": [
    "xgb.score(X_test, y_test)"
   ]
  },
  {
   "cell_type": "markdown",
   "id": "2563bd9c",
   "metadata": {},
   "source": [
    "## Metrics"
   ]
  },
  {
   "cell_type": "code",
   "execution_count": 65,
   "id": "4f3b5020",
   "metadata": {},
   "outputs": [],
   "source": [
    "from sklearn.metrics import accuracy_score,f1_score\n",
    "from sklearn.metrics import classification_report\n",
    "from sklearn.metrics import confusion_matrix"
   ]
  },
  {
   "cell_type": "code",
   "execution_count": 66,
   "id": "54b1597f",
   "metadata": {},
   "outputs": [],
   "source": [
    "pred_test = rfc_best.predict(X_test)\n",
    "pred_train = rfc_best.predict(X_train)"
   ]
  },
  {
   "cell_type": "code",
   "execution_count": 67,
   "id": "3868b320",
   "metadata": {},
   "outputs": [
    {
     "data": {
      "text/plain": [
       "unacc    237\n",
       "acc       77\n",
       "vgood     17\n",
       "good      15\n",
       "Name: Target, dtype: int64"
      ]
     },
     "execution_count": 67,
     "metadata": {},
     "output_type": "execute_result"
    }
   ],
   "source": [
    "y_test.value_counts()"
   ]
  },
  {
   "cell_type": "code",
   "execution_count": 68,
   "id": "c3e791a8",
   "metadata": {},
   "outputs": [
    {
     "data": {
      "text/plain": [
       "array([[ 75,   1,   0,   1],\n",
       "       [  1,  10,   0,   4],\n",
       "       [  0,   0, 237,   0],\n",
       "       [  3,   1,   0,  13]], dtype=int64)"
      ]
     },
     "execution_count": 68,
     "metadata": {},
     "output_type": "execute_result"
    }
   ],
   "source": [
    "cm = confusion_matrix(y_test, pred_test)\n",
    "cm"
   ]
  },
  {
   "cell_type": "code",
   "execution_count": 69,
   "id": "7e456ecf",
   "metadata": {},
   "outputs": [
    {
     "data": {
      "image/png": "[encoded data removed]",
      "text/plain": [
       "<Figure size 864x648 with 2 Axes>"
      ]
     },
     "metadata": {
      "needs_background": "light"
     },
     "output_type": "display_data"
    }
   ],
   "source": [
    "df_cm = pd.DataFrame(cm)\n",
    "plt.figure(figsize=(12,9))\n",
    "sns.set(font_scale=1.5)\n",
    "ax = sns.heatmap(df_cm, annot=True, annot_kws={\"size\": 16},cmap=\"rocket_r\") # font size\n",
    "ax.set_xlabel('Predicted labels');ax.set_ylabel('True labels');\n",
    "ax.xaxis.set_ticklabels(['acc','good','unacc','vgood']); ax.yaxis.set_ticklabels(['acc','good','unacc','vgood']);\n",
    "plt.show()\n"
   ]
  },
  {
   "cell_type": "code",
   "execution_count": 70,
   "id": "502ceb19",
   "metadata": {},
   "outputs": [
    {
     "name": "stdout",
     "output_type": "stream",
     "text": [
      "              precision    recall  f1-score   support\n",
      "\n",
      "         acc       0.95      0.97      0.96        77\n",
      "        good       0.83      0.67      0.74        15\n",
      "       unacc       1.00      1.00      1.00       237\n",
      "       vgood       0.72      0.76      0.74        17\n",
      "\n",
      "    accuracy                           0.97       346\n",
      "   macro avg       0.88      0.85      0.86       346\n",
      "weighted avg       0.97      0.97      0.97       346\n",
      "\n"
     ]
    }
   ],
   "source": [
    "print(classification_report(y_test,pred_test))"
   ]
  },
  {
   "cell_type": "markdown",
   "id": "692bbd28",
   "metadata": {},
   "source": [
    "##   --- THE END ---"
   ]
  }
 ],
 "metadata": {
  "kernelspec": {
   "display_name": "Python 3",
   "language": "python",
   "name": "python3"
  },
  "language_info": {
   "codemirror_mode": {
    "name": "ipython",
    "version": 3
   },
   "file_extension": ".py",
   "mimetype": "text/x-python",
   "name": "python",
   "nbconvert_exporter": "python",
   "pygments_lexer": "ipython3",
   "version": "3.8.8"
  }
 },
 "nbformat": 4,
 "nbformat_minor": 5
}
