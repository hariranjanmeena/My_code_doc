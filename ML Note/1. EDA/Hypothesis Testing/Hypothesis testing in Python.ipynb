{
 "cells": [
  {
   "cell_type": "markdown",
   "id": "7abd44f4",
   "metadata": {},
   "source": [
    "## Summary\n",
    "So what did you learn in this session?\n",
    "\n",
    "Hypothesis — a claim or an assumption that you make about one or more population parameters\n",
    "\n",
    "\n",
    "#### Types of hypothesis:\n",
    "\n",
    "- Null hypothesis (H₀) - Makes an assumption about the status quo\n",
    "                                     - Always contains the symbols ‘=’, ‘≤’ or ‘≥’\n",
    "\n",
    "- Alternate hypothesis (H₁) - Challenges and complements the null hypothesis\n",
    "                                     - Always contains the symbols ‘≠’, ‘<’ or ‘>’\n",
    "\n",
    "#### Types of tests:\n",
    "- Two-tailed test - The critical region lies on both sides of the distribution\n",
    "                                 - The alternate hypothesis contains the ≠ sign\n",
    "- Lower-tailed test - The critical region lies on the left side of the distribution\n",
    "                                 - The alternate hypothesis contains the < sign\n",
    "- Upper-tailed test - The critical region lies on the right side of the distribution\n",
    "                                 - The alternate hypothesis contains the > sign\n",
    "\n",
    "#### Making a decision - Critical value method:\n",
    "\n",
    "- Calculate the value of Zc from the given value of α (significance level)\n",
    "\n",
    "- Calculate the critical values (UCV and LCV) from the value of Zc\n",
    "\n",
    "- Make the decision on the basis of the value of the sample mean x_bar with respect to the critical values (UCV AND LCV)"
   ]
  },
  {
   "cell_type": "markdown",
   "id": "937ef433",
   "metadata": {},
   "source": [
    "## -------------------------------------------------------------------------------------------------------------------------------"
   ]
  },
  {
   "cell_type": "markdown",
   "id": "c27eac66",
   "metadata": {},
   "source": [
    "## Hypothesis testing in Python"
   ]
  },
  {
   "cell_type": "markdown",
   "id": "5e38199f",
   "metadata": {},
   "source": [
    "You can easily do hypothesis testing in Python by using stats from Scipy library.\n",
    "\n",
    "#### 1-sample t-test: testing the value of a population mean\n",
    "\n",
    "To test, if the population mean of data is likely to be equal to a given value - \n",
    "\n",
    "\n",
    "scipy.stats.ttest_1samp()\n",
    "\n",
    "stats.ttest_1samp(data['column'], x)\n",
    "#where x is the mean value you want to test"
   ]
  },
  {
   "cell_type": "markdown",
   "id": "e8731f40",
   "metadata": {},
   "source": [
    "#### 2-sample t-test: testing for difference across populations\n",
    "\n",
    "scipy.stats.ttest_ind()\n",
    "\n",
    "stats.ttest_ind(column_1,column_2) "
   ]
  },
  {
   "cell_type": "markdown",
   "id": "afb56a11",
   "metadata": {},
   "source": [
    "#### Paired tests: repeated measurements on the same individuals\n",
    "\n",
    "stats.ttest_rel()  \n",
    "\n",
    "stats.ttest_rel(column_1,column_2) "
   ]
  }
 ],
 "metadata": {
  "kernelspec": {
   "display_name": "Python 3",
   "language": "python",
   "name": "python3"
  },
  "language_info": {
   "codemirror_mode": {
    "name": "ipython",
    "version": 3
   },
   "file_extension": ".py",
   "mimetype": "text/x-python",
   "name": "python",
   "nbconvert_exporter": "python",
   "pygments_lexer": "ipython3",
   "version": "3.8.8"
  }
 },
 "nbformat": 4,
 "nbformat_minor": 5
}
